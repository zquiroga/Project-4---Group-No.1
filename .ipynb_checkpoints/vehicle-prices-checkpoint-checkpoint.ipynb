{
 "cells": [
  {
   "cell_type": "code",
   "execution_count": null,
   "id": "ec873b64-f476-4feb-bceb-5df0d3ae0195",
   "metadata": {
    "tags": []
   },
   "outputs": [],
   "source": [
    "# Use seaborn for pairplot.\n",
    "!pip install -q seaborn"
   ]
  },
  {
   "cell_type": "code",
   "execution_count": 1,
   "id": "ec8f430a-5023-486f-ad57-da34a2be68af",
   "metadata": {
    "tags": []
   },
   "outputs": [],
   "source": [
    "# Import our dependencies\n",
    "import matplotlib.pyplot as plt\n",
    "import numpy as np\n",
    "import pandas as pd\n",
    "import seaborn as sns\n",
    "\n",
    "# Make NumPy printouts easier to read.\n",
    "np.set_printoptions(precision=3, suppress=True)"
   ]
  },
  {
   "cell_type": "code",
   "execution_count": 2,
   "id": "aad031ee-514a-44c8-b11f-9c5ece1e51da",
   "metadata": {
    "tags": []
   },
   "outputs": [
    {
     "name": "stdout",
     "output_type": "stream",
     "text": [
      "WARNING:tensorflow:From C:\\Users\\oscar\\anaconda3\\envs\\PythonData\\Lib\\site-packages\\keras\\src\\losses.py:2976: The name tf.losses.sparse_softmax_cross_entropy is deprecated. Please use tf.compat.v1.losses.sparse_softmax_cross_entropy instead.\n",
      "\n",
      "2.15.0\n"
     ]
    }
   ],
   "source": [
    "import tensorflow as tf\n",
    "\n",
    "from tensorflow import keras\n",
    "from tensorflow.keras import layers\n",
    "\n",
    "print(tf.__version__)"
   ]
  },
  {
   "cell_type": "code",
   "execution_count": 3,
   "id": "39a290f2-3132-4b73-a1d2-dd02d0404ae3",
   "metadata": {
    "tags": []
   },
   "outputs": [
    {
     "data": {
      "text/html": [
       "<div>\n",
       "<style scoped>\n",
       "    .dataframe tbody tr th:only-of-type {\n",
       "        vertical-align: middle;\n",
       "    }\n",
       "\n",
       "    .dataframe tbody tr th {\n",
       "        vertical-align: top;\n",
       "    }\n",
       "\n",
       "    .dataframe thead th {\n",
       "        text-align: right;\n",
       "    }\n",
       "</style>\n",
       "<table border=\"1\" class=\"dataframe\">\n",
       "  <thead>\n",
       "    <tr style=\"text-align: right;\">\n",
       "      <th></th>\n",
       "      <th>Brand</th>\n",
       "      <th>Year</th>\n",
       "      <th>Model</th>\n",
       "      <th>Car/Suv</th>\n",
       "      <th>Title</th>\n",
       "      <th>UsedOrNew</th>\n",
       "      <th>Transmission</th>\n",
       "      <th>Engine</th>\n",
       "      <th>DriveType</th>\n",
       "      <th>FuelType</th>\n",
       "      <th>FuelConsumption</th>\n",
       "      <th>Kilometres</th>\n",
       "      <th>ColourExtInt</th>\n",
       "      <th>Location</th>\n",
       "      <th>CylindersinEngine</th>\n",
       "      <th>BodyType</th>\n",
       "      <th>Doors</th>\n",
       "      <th>Seats</th>\n",
       "      <th>Price</th>\n",
       "    </tr>\n",
       "  </thead>\n",
       "  <tbody>\n",
       "    <tr>\n",
       "      <th>0</th>\n",
       "      <td>Ssangyong</td>\n",
       "      <td>2022.0</td>\n",
       "      <td>Rexton</td>\n",
       "      <td>Sutherland Isuzu Ute</td>\n",
       "      <td>2022 Ssangyong Rexton Ultimate (awd)</td>\n",
       "      <td>DEMO</td>\n",
       "      <td>Automatic</td>\n",
       "      <td>4 cyl, 2.2 L</td>\n",
       "      <td>AWD</td>\n",
       "      <td>Diesel</td>\n",
       "      <td>8.7 L / 100 km</td>\n",
       "      <td>5595</td>\n",
       "      <td>White / Black</td>\n",
       "      <td>Caringbah, NSW</td>\n",
       "      <td>4 cyl</td>\n",
       "      <td>SUV</td>\n",
       "      <td>4 Doors</td>\n",
       "      <td>7 Seats</td>\n",
       "      <td>51990</td>\n",
       "    </tr>\n",
       "    <tr>\n",
       "      <th>1</th>\n",
       "      <td>MG</td>\n",
       "      <td>2022.0</td>\n",
       "      <td>MG3</td>\n",
       "      <td>Hatchback</td>\n",
       "      <td>2022 MG MG3 Auto Excite (with Navigation)</td>\n",
       "      <td>USED</td>\n",
       "      <td>Automatic</td>\n",
       "      <td>4 cyl, 1.5 L</td>\n",
       "      <td>Front</td>\n",
       "      <td>Premium</td>\n",
       "      <td>6.7 L / 100 km</td>\n",
       "      <td>16</td>\n",
       "      <td>Black / Black</td>\n",
       "      <td>Brookvale, NSW</td>\n",
       "      <td>4 cyl</td>\n",
       "      <td>Hatchback</td>\n",
       "      <td>5 Doors</td>\n",
       "      <td>5 Seats</td>\n",
       "      <td>19990</td>\n",
       "    </tr>\n",
       "    <tr>\n",
       "      <th>2</th>\n",
       "      <td>BMW</td>\n",
       "      <td>2022.0</td>\n",
       "      <td>430I</td>\n",
       "      <td>Coupe</td>\n",
       "      <td>2022 BMW 430I M Sport</td>\n",
       "      <td>USED</td>\n",
       "      <td>Automatic</td>\n",
       "      <td>4 cyl, 2 L</td>\n",
       "      <td>Rear</td>\n",
       "      <td>Premium</td>\n",
       "      <td>6.6 L / 100 km</td>\n",
       "      <td>8472</td>\n",
       "      <td>Grey / White</td>\n",
       "      <td>Sylvania, NSW</td>\n",
       "      <td>4 cyl</td>\n",
       "      <td>Coupe</td>\n",
       "      <td>2 Doors</td>\n",
       "      <td>4 Seats</td>\n",
       "      <td>108988</td>\n",
       "    </tr>\n",
       "    <tr>\n",
       "      <th>3</th>\n",
       "      <td>Mercedes-Benz</td>\n",
       "      <td>2011.0</td>\n",
       "      <td>E500</td>\n",
       "      <td>Coupe</td>\n",
       "      <td>2011 Mercedes-Benz E500 Elegance</td>\n",
       "      <td>USED</td>\n",
       "      <td>Automatic</td>\n",
       "      <td>8 cyl, 5.5 L</td>\n",
       "      <td>Rear</td>\n",
       "      <td>Premium</td>\n",
       "      <td>11 L / 100 km</td>\n",
       "      <td>136517</td>\n",
       "      <td>White / Brown</td>\n",
       "      <td>Mount Druitt, NSW</td>\n",
       "      <td>8 cyl</td>\n",
       "      <td>Coupe</td>\n",
       "      <td>2 Doors</td>\n",
       "      <td>4 Seats</td>\n",
       "      <td>32990</td>\n",
       "    </tr>\n",
       "    <tr>\n",
       "      <th>4</th>\n",
       "      <td>Renault</td>\n",
       "      <td>2022.0</td>\n",
       "      <td>Arkana</td>\n",
       "      <td>SUV</td>\n",
       "      <td>2022 Renault Arkana Intens</td>\n",
       "      <td>USED</td>\n",
       "      <td>Automatic</td>\n",
       "      <td>4 cyl, 1.3 L</td>\n",
       "      <td>Front</td>\n",
       "      <td>Unleaded</td>\n",
       "      <td>6 L / 100 km</td>\n",
       "      <td>1035</td>\n",
       "      <td>Grey / Black</td>\n",
       "      <td>Castle Hill, NSW</td>\n",
       "      <td>4 cyl</td>\n",
       "      <td>SUV</td>\n",
       "      <td>4 Doors</td>\n",
       "      <td>5 Seats</td>\n",
       "      <td>34990</td>\n",
       "    </tr>\n",
       "  </tbody>\n",
       "</table>\n",
       "</div>"
      ],
      "text/plain": [
       "           Brand    Year   Model               Car/Suv  \\\n",
       "0      Ssangyong  2022.0  Rexton  Sutherland Isuzu Ute   \n",
       "1             MG  2022.0     MG3             Hatchback   \n",
       "2            BMW  2022.0    430I                 Coupe   \n",
       "3  Mercedes-Benz  2011.0    E500                 Coupe   \n",
       "4        Renault  2022.0  Arkana                   SUV   \n",
       "\n",
       "                                       Title UsedOrNew Transmission  \\\n",
       "0       2022 Ssangyong Rexton Ultimate (awd)      DEMO    Automatic   \n",
       "1  2022 MG MG3 Auto Excite (with Navigation)      USED    Automatic   \n",
       "2                      2022 BMW 430I M Sport      USED    Automatic   \n",
       "3           2011 Mercedes-Benz E500 Elegance      USED    Automatic   \n",
       "4                 2022 Renault Arkana Intens      USED    Automatic   \n",
       "\n",
       "         Engine DriveType  FuelType FuelConsumption Kilometres   ColourExtInt  \\\n",
       "0  4 cyl, 2.2 L       AWD    Diesel  8.7 L / 100 km       5595  White / Black   \n",
       "1  4 cyl, 1.5 L     Front   Premium  6.7 L / 100 km         16  Black / Black   \n",
       "2    4 cyl, 2 L      Rear   Premium  6.6 L / 100 km       8472   Grey / White   \n",
       "3  8 cyl, 5.5 L      Rear   Premium   11 L / 100 km     136517  White / Brown   \n",
       "4  4 cyl, 1.3 L     Front  Unleaded    6 L / 100 km       1035   Grey / Black   \n",
       "\n",
       "            Location CylindersinEngine   BodyType     Doors     Seats   Price  \n",
       "0     Caringbah, NSW             4 cyl        SUV   4 Doors   7 Seats   51990  \n",
       "1     Brookvale, NSW             4 cyl  Hatchback   5 Doors   5 Seats   19990  \n",
       "2      Sylvania, NSW             4 cyl      Coupe   2 Doors   4 Seats  108988  \n",
       "3  Mount Druitt, NSW             8 cyl      Coupe   2 Doors   4 Seats   32990  \n",
       "4   Castle Hill, NSW             4 cyl        SUV   4 Doors   5 Seats   34990  "
      ]
     },
     "execution_count": 3,
     "metadata": {},
     "output_type": "execute_result"
    }
   ],
   "source": [
    "#  Import and read Australian Vehicle Prices.csv\n",
    "Vehicleprices_df = pd.read_csv(\"Resources/Australian Vehicle Prices.csv\")\n",
    "Vehicleprices_df.head()"
   ]
  },
  {
   "cell_type": "code",
   "execution_count": 4,
   "id": "45820d9e-90f4-4dbb-9fff-9b41b675a119",
   "metadata": {
    "tags": []
   },
   "outputs": [
    {
     "data": {
      "text/html": [
       "<div>\n",
       "<style scoped>\n",
       "    .dataframe tbody tr th:only-of-type {\n",
       "        vertical-align: middle;\n",
       "    }\n",
       "\n",
       "    .dataframe tbody tr th {\n",
       "        vertical-align: top;\n",
       "    }\n",
       "\n",
       "    .dataframe thead th {\n",
       "        text-align: right;\n",
       "    }\n",
       "</style>\n",
       "<table border=\"1\" class=\"dataframe\">\n",
       "  <thead>\n",
       "    <tr style=\"text-align: right;\">\n",
       "      <th></th>\n",
       "      <th>Brand</th>\n",
       "      <th>Year</th>\n",
       "      <th>Model</th>\n",
       "      <th>Car/Suv</th>\n",
       "      <th>Title</th>\n",
       "      <th>UsedOrNew</th>\n",
       "      <th>Transmission</th>\n",
       "      <th>Engine</th>\n",
       "      <th>DriveType</th>\n",
       "      <th>FuelType</th>\n",
       "      <th>FuelConsumption</th>\n",
       "      <th>Kilometres</th>\n",
       "      <th>ColourExtInt</th>\n",
       "      <th>Location</th>\n",
       "      <th>CylindersinEngine</th>\n",
       "      <th>BodyType</th>\n",
       "      <th>Doors</th>\n",
       "      <th>Seats</th>\n",
       "      <th>Price</th>\n",
       "    </tr>\n",
       "  </thead>\n",
       "  <tbody>\n",
       "    <tr>\n",
       "      <th>16729</th>\n",
       "      <td>Toyota</td>\n",
       "      <td>2014.0</td>\n",
       "      <td>Alphard</td>\n",
       "      <td>SYC Cars</td>\n",
       "      <td>2014 Toyota Alphard</td>\n",
       "      <td>USED</td>\n",
       "      <td>Automatic</td>\n",
       "      <td>-</td>\n",
       "      <td>Front</td>\n",
       "      <td>Unleaded</td>\n",
       "      <td>-</td>\n",
       "      <td>66000</td>\n",
       "      <td>Grey / -</td>\n",
       "      <td>Rocklea, QLD</td>\n",
       "      <td>-</td>\n",
       "      <td>Commercial</td>\n",
       "      <td>7 Seats</td>\n",
       "      <td>NaN</td>\n",
       "      <td>29500</td>\n",
       "    </tr>\n",
       "    <tr>\n",
       "      <th>16730</th>\n",
       "      <td>Mercedes-Benz</td>\n",
       "      <td>2012.0</td>\n",
       "      <td>S-Class</td>\n",
       "      <td>USED Dealer ad</td>\n",
       "      <td>2012 Mercedes-Benz S-Class CDI BlueTEC</td>\n",
       "      <td>USED</td>\n",
       "      <td>Automatic</td>\n",
       "      <td>-</td>\n",
       "      <td>Rear</td>\n",
       "      <td>Diesel</td>\n",
       "      <td>-</td>\n",
       "      <td>117432</td>\n",
       "      <td>Silver / -</td>\n",
       "      <td>Port Melbourne, VIC</td>\n",
       "      <td>-</td>\n",
       "      <td>NaN</td>\n",
       "      <td>NaN</td>\n",
       "      <td>NaN</td>\n",
       "      <td>39888</td>\n",
       "    </tr>\n",
       "    <tr>\n",
       "      <th>16731</th>\n",
       "      <td>Suzuki</td>\n",
       "      <td>2022.0</td>\n",
       "      <td>Vitara</td>\n",
       "      <td>Bremer Suzuki - New</td>\n",
       "      <td>2022 Suzuki Vitara 1.6L</td>\n",
       "      <td>DEMO</td>\n",
       "      <td>Automatic</td>\n",
       "      <td>4 cyl, 1.6 L</td>\n",
       "      <td>Front</td>\n",
       "      <td>Unleaded</td>\n",
       "      <td>6.2 L / 100 km</td>\n",
       "      <td>5165</td>\n",
       "      <td>Yellow / -</td>\n",
       "      <td>Dinmore, QLD</td>\n",
       "      <td>4 cyl</td>\n",
       "      <td>SUV</td>\n",
       "      <td>4 Doors</td>\n",
       "      <td>5 Seats</td>\n",
       "      <td>35280</td>\n",
       "    </tr>\n",
       "    <tr>\n",
       "      <th>16732</th>\n",
       "      <td>Mercedes-Benz</td>\n",
       "      <td>2016.0</td>\n",
       "      <td>GLC250</td>\n",
       "      <td>SUV</td>\n",
       "      <td>2016 Mercedes-Benz GLC250</td>\n",
       "      <td>USED</td>\n",
       "      <td>Automatic</td>\n",
       "      <td>4 cyl, 2 L</td>\n",
       "      <td>AWD</td>\n",
       "      <td>Premium</td>\n",
       "      <td>7.2 L / 100 km</td>\n",
       "      <td>85525</td>\n",
       "      <td>Grey / Black</td>\n",
       "      <td>Albion, QLD</td>\n",
       "      <td>4 cyl</td>\n",
       "      <td>SUV</td>\n",
       "      <td>4 Doors</td>\n",
       "      <td>5 Seats</td>\n",
       "      <td>41888</td>\n",
       "    </tr>\n",
       "    <tr>\n",
       "      <th>16733</th>\n",
       "      <td>Mercedes-Benz</td>\n",
       "      <td>2021.0</td>\n",
       "      <td>C200</td>\n",
       "      <td>Sedan</td>\n",
       "      <td>2021 Mercedes-Benz C200</td>\n",
       "      <td>USED</td>\n",
       "      <td>Automatic</td>\n",
       "      <td>4 cyl, 2 L</td>\n",
       "      <td>Rear</td>\n",
       "      <td>Unleaded</td>\n",
       "      <td>7 L / 100 km</td>\n",
       "      <td>31852</td>\n",
       "      <td>Gold / -</td>\n",
       "      <td>Yatala, QLD</td>\n",
       "      <td>4 cyl</td>\n",
       "      <td>Sedan</td>\n",
       "      <td>4 Doors</td>\n",
       "      <td>5 Seats</td>\n",
       "      <td>65888</td>\n",
       "    </tr>\n",
       "  </tbody>\n",
       "</table>\n",
       "</div>"
      ],
      "text/plain": [
       "               Brand    Year    Model              Car/Suv  \\\n",
       "16729         Toyota  2014.0  Alphard             SYC Cars   \n",
       "16730  Mercedes-Benz  2012.0  S-Class       USED Dealer ad   \n",
       "16731         Suzuki  2022.0   Vitara  Bremer Suzuki - New   \n",
       "16732  Mercedes-Benz  2016.0   GLC250                  SUV   \n",
       "16733  Mercedes-Benz  2021.0     C200                Sedan   \n",
       "\n",
       "                                        Title UsedOrNew Transmission  \\\n",
       "16729                     2014 Toyota Alphard      USED    Automatic   \n",
       "16730  2012 Mercedes-Benz S-Class CDI BlueTEC      USED    Automatic   \n",
       "16731                 2022 Suzuki Vitara 1.6L      DEMO    Automatic   \n",
       "16732               2016 Mercedes-Benz GLC250      USED    Automatic   \n",
       "16733                 2021 Mercedes-Benz C200      USED    Automatic   \n",
       "\n",
       "             Engine DriveType  FuelType FuelConsumption Kilometres  \\\n",
       "16729             -     Front  Unleaded               -      66000   \n",
       "16730             -      Rear    Diesel               -     117432   \n",
       "16731  4 cyl, 1.6 L     Front  Unleaded  6.2 L / 100 km       5165   \n",
       "16732    4 cyl, 2 L       AWD   Premium  7.2 L / 100 km      85525   \n",
       "16733    4 cyl, 2 L      Rear  Unleaded    7 L / 100 km      31852   \n",
       "\n",
       "       ColourExtInt             Location CylindersinEngine    BodyType  \\\n",
       "16729      Grey / -         Rocklea, QLD                 -  Commercial   \n",
       "16730    Silver / -  Port Melbourne, VIC                 -         NaN   \n",
       "16731    Yellow / -         Dinmore, QLD             4 cyl         SUV   \n",
       "16732  Grey / Black          Albion, QLD             4 cyl         SUV   \n",
       "16733      Gold / -          Yatala, QLD             4 cyl       Sedan   \n",
       "\n",
       "          Doors     Seats  Price  \n",
       "16729   7 Seats       NaN  29500  \n",
       "16730       NaN       NaN  39888  \n",
       "16731   4 Doors   5 Seats  35280  \n",
       "16732   4 Doors   5 Seats  41888  \n",
       "16733   4 Doors   5 Seats  65888  "
      ]
     },
     "execution_count": 4,
     "metadata": {},
     "output_type": "execute_result"
    }
   ],
   "source": [
    "# Copying original dataset\n",
    "dataset = Vehicleprices_df.copy()\n",
    "dataset.tail()"
   ]
  },
  {
   "cell_type": "code",
   "execution_count": 5,
   "id": "f967fb95-6333-4dd4-b084-c32392a0049d",
   "metadata": {
    "tags": []
   },
   "outputs": [
    {
     "data": {
      "text/html": [
       "<div>\n",
       "<style scoped>\n",
       "    .dataframe tbody tr th:only-of-type {\n",
       "        vertical-align: middle;\n",
       "    }\n",
       "\n",
       "    .dataframe tbody tr th {\n",
       "        vertical-align: top;\n",
       "    }\n",
       "\n",
       "    .dataframe thead th {\n",
       "        text-align: right;\n",
       "    }\n",
       "</style>\n",
       "<table border=\"1\" class=\"dataframe\">\n",
       "  <thead>\n",
       "    <tr style=\"text-align: right;\">\n",
       "      <th></th>\n",
       "      <th>index</th>\n",
       "      <th>Price</th>\n",
       "    </tr>\n",
       "  </thead>\n",
       "  <tbody>\n",
       "    <tr>\n",
       "      <th>3789</th>\n",
       "      <td>40670</td>\n",
       "      <td>1</td>\n",
       "    </tr>\n",
       "    <tr>\n",
       "      <th>3790</th>\n",
       "      <td>315888</td>\n",
       "      <td>1</td>\n",
       "    </tr>\n",
       "    <tr>\n",
       "      <th>3791</th>\n",
       "      <td>25399</td>\n",
       "      <td>1</td>\n",
       "    </tr>\n",
       "    <tr>\n",
       "      <th>3792</th>\n",
       "      <td>69388</td>\n",
       "      <td>1</td>\n",
       "    </tr>\n",
       "    <tr>\n",
       "      <th>3793</th>\n",
       "      <td>35280</td>\n",
       "      <td>1</td>\n",
       "    </tr>\n",
       "  </tbody>\n",
       "</table>\n",
       "</div>"
      ],
      "text/plain": [
       "       index  Price\n",
       "3789   40670      1\n",
       "3790  315888      1\n",
       "3791   25399      1\n",
       "3792   69388      1\n",
       "3793   35280      1"
      ]
     },
     "execution_count": 5,
     "metadata": {},
     "output_type": "execute_result"
    }
   ],
   "source": [
    "Brands = dataset['Price'].value_counts().reset_index()\n",
    "Brands.tail() "
   ]
  },
  {
   "cell_type": "code",
   "execution_count": 6,
   "id": "3ce51579-b0d4-4056-850e-be5df564ef71",
   "metadata": {
    "tags": []
   },
   "outputs": [
    {
     "name": "stdout",
     "output_type": "stream",
     "text": [
      "<class 'pandas.core.frame.DataFrame'>\n",
      "RangeIndex: 13959 entries, 0 to 13958\n",
      "Data columns (total 11 columns):\n",
      " #   Column        Non-Null Count  Dtype  \n",
      "---  ------        --------------  -----  \n",
      " 0   Brand         13959 non-null  object \n",
      " 1   Year          13959 non-null  int32  \n",
      " 2   Model         13959 non-null  object \n",
      " 3   Car/Suv       13959 non-null  object \n",
      " 4   UsedOrNew     13959 non-null  object \n",
      " 5   Transmission  13959 non-null  object \n",
      " 6   Kilometres    13959 non-null  int32  \n",
      " 7   BodyType      13959 non-null  object \n",
      " 8   Price         13959 non-null  int32  \n",
      " 9   State         13959 non-null  object \n",
      " 10  Litres        13959 non-null  float64\n",
      "dtypes: float64(1), int32(3), object(7)\n",
      "memory usage: 1.0+ MB\n",
      "None\n"
     ]
    },
    {
     "data": {
      "text/html": [
       "<div>\n",
       "<style scoped>\n",
       "    .dataframe tbody tr th:only-of-type {\n",
       "        vertical-align: middle;\n",
       "    }\n",
       "\n",
       "    .dataframe tbody tr th {\n",
       "        vertical-align: top;\n",
       "    }\n",
       "\n",
       "    .dataframe thead th {\n",
       "        text-align: right;\n",
       "    }\n",
       "</style>\n",
       "<table border=\"1\" class=\"dataframe\">\n",
       "  <thead>\n",
       "    <tr style=\"text-align: right;\">\n",
       "      <th></th>\n",
       "      <th>Brand</th>\n",
       "      <th>Year</th>\n",
       "      <th>Model</th>\n",
       "      <th>Car/Suv</th>\n",
       "      <th>UsedOrNew</th>\n",
       "      <th>Transmission</th>\n",
       "      <th>Kilometres</th>\n",
       "      <th>BodyType</th>\n",
       "      <th>Price</th>\n",
       "      <th>State</th>\n",
       "      <th>Litres</th>\n",
       "    </tr>\n",
       "  </thead>\n",
       "  <tbody>\n",
       "    <tr>\n",
       "      <th>13954</th>\n",
       "      <td>Nissan</td>\n",
       "      <td>2009</td>\n",
       "      <td>Navara</td>\n",
       "      <td>Ute / Tray</td>\n",
       "      <td>USED</td>\n",
       "      <td>Automatic</td>\n",
       "      <td>182254</td>\n",
       "      <td>Ute / Tray</td>\n",
       "      <td>16000</td>\n",
       "      <td>VIC</td>\n",
       "      <td>2.5</td>\n",
       "    </tr>\n",
       "    <tr>\n",
       "      <th>13955</th>\n",
       "      <td>Hyundai</td>\n",
       "      <td>2015</td>\n",
       "      <td>I30</td>\n",
       "      <td>Wagon</td>\n",
       "      <td>USED</td>\n",
       "      <td>Automatic</td>\n",
       "      <td>54359</td>\n",
       "      <td>Wagon</td>\n",
       "      <td>21450</td>\n",
       "      <td>VIC</td>\n",
       "      <td>1.6</td>\n",
       "    </tr>\n",
       "    <tr>\n",
       "      <th>13956</th>\n",
       "      <td>Nissan</td>\n",
       "      <td>2021</td>\n",
       "      <td>Qashqai</td>\n",
       "      <td>SUV</td>\n",
       "      <td>USED</td>\n",
       "      <td>Automatic</td>\n",
       "      <td>32977</td>\n",
       "      <td>SUV</td>\n",
       "      <td>36770</td>\n",
       "      <td>QLD</td>\n",
       "      <td>2.0</td>\n",
       "    </tr>\n",
       "    <tr>\n",
       "      <th>13957</th>\n",
       "      <td>Mercedes-Benz</td>\n",
       "      <td>2016</td>\n",
       "      <td>GLC250</td>\n",
       "      <td>SUV</td>\n",
       "      <td>USED</td>\n",
       "      <td>Automatic</td>\n",
       "      <td>85525</td>\n",
       "      <td>SUV</td>\n",
       "      <td>41888</td>\n",
       "      <td>QLD</td>\n",
       "      <td>2.0</td>\n",
       "    </tr>\n",
       "    <tr>\n",
       "      <th>13958</th>\n",
       "      <td>Mercedes-Benz</td>\n",
       "      <td>2021</td>\n",
       "      <td>C200</td>\n",
       "      <td>Sedan</td>\n",
       "      <td>USED</td>\n",
       "      <td>Automatic</td>\n",
       "      <td>31852</td>\n",
       "      <td>Sedan</td>\n",
       "      <td>65888</td>\n",
       "      <td>QLD</td>\n",
       "      <td>2.0</td>\n",
       "    </tr>\n",
       "  </tbody>\n",
       "</table>\n",
       "</div>"
      ],
      "text/plain": [
       "               Brand  Year    Model     Car/Suv UsedOrNew Transmission  \\\n",
       "13954         Nissan  2009   Navara  Ute / Tray      USED    Automatic   \n",
       "13955        Hyundai  2015      I30       Wagon      USED    Automatic   \n",
       "13956         Nissan  2021  Qashqai         SUV      USED    Automatic   \n",
       "13957  Mercedes-Benz  2016   GLC250         SUV      USED    Automatic   \n",
       "13958  Mercedes-Benz  2021     C200       Sedan      USED    Automatic   \n",
       "\n",
       "       Kilometres    BodyType  Price State  Litres  \n",
       "13954      182254  Ute / Tray  16000   VIC     2.5  \n",
       "13955       54359       Wagon  21450   VIC     1.6  \n",
       "13956       32977         SUV  36770   QLD     2.0  \n",
       "13957       85525         SUV  41888   QLD     2.0  \n",
       "13958       31852       Sedan  65888   QLD     2.0  "
      ]
     },
     "execution_count": 6,
     "metadata": {},
     "output_type": "execute_result"
    }
   ],
   "source": [
    "# CLEANING DATASET\n",
    "\n",
    "# Extrating information needed from columns\n",
    "pattern = r',(.*)'\n",
    "dataset['State'] = dataset['Location'].str.extract(pattern)# Extrating state from location column\n",
    "dataset['Litres'] = dataset['Engine'].str.extract(pattern) # Extrating litres from engine column\n",
    "dataset['Litres'] = dataset['Litres'].str.strip()\n",
    "pattern_1 = r'^(.*?) '\n",
    "dataset['Litres'] = dataset['Litres'].str.extract(pattern_1) # Extrating litres from engine column\n",
    "\n",
    "# Drop Columns that are not going to be used\n",
    "columns_to_drop = ['Seats','Doors','ColourExtInt','DriveType','Title','FuelConsumption','FuelType','Location','Engine','CylindersinEngine']\n",
    "dataset = dataset.drop(columns=columns_to_drop)\n",
    "\n",
    "# Dropping rows with values irrelevant to this application\n",
    "dataset = dataset[dataset['UsedOrNew'] != 'DEMO']\n",
    "dataset = dataset[dataset['Transmission'] != '-']\n",
    "dataset = dataset[(dataset['Kilometres'] != '- / -') & (dataset['Kilometres'] != '-')]\n",
    "dataset = dataset[dataset['Price'] != 'POA']\n",
    "\n",
    "# Dropping rows with null values\n",
    "dataset = dataset.dropna()\n",
    "dataset = dataset.reset_index(drop=True)\n",
    "\n",
    "# Changing format of year to integer\n",
    "dataset['Year'] = dataset['Year'].astype(int)\n",
    "dataset['Kilometres'] = dataset['Kilometres'].astype(int)\n",
    "dataset['Price'] = dataset['Price'].astype(int)\n",
    "dataset['Litres'] = dataset['Litres'].astype(float)\n",
    "\n",
    "# Printing results\n",
    "print(dataset.info())\n",
    "dataset.tail()"
   ]
  },
  {
   "cell_type": "code",
   "execution_count": 7,
   "id": "9f050302-7f76-4dee-990b-f36883732a24",
   "metadata": {
    "tags": []
   },
   "outputs": [
    {
     "data": {
      "text/html": [
       "<div>\n",
       "<style scoped>\n",
       "    .dataframe tbody tr th:only-of-type {\n",
       "        vertical-align: middle;\n",
       "    }\n",
       "\n",
       "    .dataframe tbody tr th {\n",
       "        vertical-align: top;\n",
       "    }\n",
       "\n",
       "    .dataframe thead th {\n",
       "        text-align: right;\n",
       "    }\n",
       "</style>\n",
       "<table border=\"1\" class=\"dataframe\">\n",
       "  <thead>\n",
       "    <tr style=\"text-align: right;\">\n",
       "      <th></th>\n",
       "      <th>index</th>\n",
       "      <th>Brand</th>\n",
       "    </tr>\n",
       "  </thead>\n",
       "  <tbody>\n",
       "    <tr>\n",
       "      <th>0</th>\n",
       "      <td>Toyota</td>\n",
       "      <td>2269</td>\n",
       "    </tr>\n",
       "    <tr>\n",
       "      <th>1</th>\n",
       "      <td>Hyundai</td>\n",
       "      <td>1112</td>\n",
       "    </tr>\n",
       "    <tr>\n",
       "      <th>2</th>\n",
       "      <td>Holden</td>\n",
       "      <td>1024</td>\n",
       "    </tr>\n",
       "    <tr>\n",
       "      <th>3</th>\n",
       "      <td>Mazda</td>\n",
       "      <td>999</td>\n",
       "    </tr>\n",
       "    <tr>\n",
       "      <th>4</th>\n",
       "      <td>Ford</td>\n",
       "      <td>967</td>\n",
       "    </tr>\n",
       "    <tr>\n",
       "      <th>5</th>\n",
       "      <td>Mitsubishi</td>\n",
       "      <td>939</td>\n",
       "    </tr>\n",
       "    <tr>\n",
       "      <th>6</th>\n",
       "      <td>Nissan</td>\n",
       "      <td>820</td>\n",
       "    </tr>\n",
       "    <tr>\n",
       "      <th>7</th>\n",
       "      <td>Kia</td>\n",
       "      <td>757</td>\n",
       "    </tr>\n",
       "    <tr>\n",
       "      <th>8</th>\n",
       "      <td>Volkswagen</td>\n",
       "      <td>692</td>\n",
       "    </tr>\n",
       "    <tr>\n",
       "      <th>9</th>\n",
       "      <td>Mercedes-Benz</td>\n",
       "      <td>526</td>\n",
       "    </tr>\n",
       "  </tbody>\n",
       "</table>\n",
       "</div>"
      ],
      "text/plain": [
       "           index  Brand\n",
       "0         Toyota   2269\n",
       "1        Hyundai   1112\n",
       "2         Holden   1024\n",
       "3          Mazda    999\n",
       "4           Ford    967\n",
       "5     Mitsubishi    939\n",
       "6         Nissan    820\n",
       "7            Kia    757\n",
       "8     Volkswagen    692\n",
       "9  Mercedes-Benz    526"
      ]
     },
     "execution_count": 7,
     "metadata": {},
     "output_type": "execute_result"
    }
   ],
   "source": [
    "# Look at BRAND value counts for binning\n",
    "Brands = dataset['Brand'].value_counts().reset_index()\n",
    "Brands.head(10) "
   ]
  },
  {
   "cell_type": "code",
   "execution_count": 8,
   "id": "c20f5e22-cf8a-405a-8498-a722d1d01626",
   "metadata": {
    "tags": []
   },
   "outputs": [
    {
     "data": {
      "text/plain": [
       "Toyota           2269\n",
       "Hyundai          1112\n",
       "Holden           1024\n",
       "Mazda             999\n",
       "Ford              967\n",
       "Mitsubishi        939\n",
       "Nissan            820\n",
       "Other             758\n",
       "Kia               757\n",
       "Volkswagen        692\n",
       "Mercedes-Benz     526\n",
       "Subaru            516\n",
       "BMW               381\n",
       "Audi              369\n",
       "Honda             322\n",
       "Jeep              269\n",
       "Suzuki            235\n",
       "MG                221\n",
       "Land              195\n",
       "Isuzu             172\n",
       "Lexus             148\n",
       "Renault           140\n",
       "GWM               128\n",
       "Name: Brand, dtype: int64"
      ]
     },
     "execution_count": 8,
     "metadata": {},
     "output_type": "execute_result"
    }
   ],
   "source": [
    "# Choose a cutoff value and create a list of Brand types to be replaced\n",
    "Brand_types_to_replace = []\n",
    "\n",
    "Brand_types_to_replace = Brands[Brands['Brand'] <=100]['index']\n",
    "\n",
    "# Replace in dataframe\n",
    "for Brands in Brand_types_to_replace:\n",
    "    dataset['Brand'] = dataset['Brand'].replace(Brands,\"Other\")\n",
    "\n",
    "# Check to make sure binning was successful\n",
    "dataset['Brand'].value_counts()"
   ]
  },
  {
   "cell_type": "code",
   "execution_count": 9,
   "id": "8f4d398c-5ef8-41c8-a246-09aa158cc986",
   "metadata": {
    "tags": []
   },
   "outputs": [
    {
     "data": {
      "text/html": [
       "<div>\n",
       "<style scoped>\n",
       "    .dataframe tbody tr th:only-of-type {\n",
       "        vertical-align: middle;\n",
       "    }\n",
       "\n",
       "    .dataframe tbody tr th {\n",
       "        vertical-align: top;\n",
       "    }\n",
       "\n",
       "    .dataframe thead th {\n",
       "        text-align: right;\n",
       "    }\n",
       "</style>\n",
       "<table border=\"1\" class=\"dataframe\">\n",
       "  <thead>\n",
       "    <tr style=\"text-align: right;\">\n",
       "      <th></th>\n",
       "      <th>Brand</th>\n",
       "      <th>Year</th>\n",
       "      <th>Model</th>\n",
       "      <th>Car/Suv</th>\n",
       "      <th>UsedOrNew</th>\n",
       "      <th>Transmission</th>\n",
       "      <th>Kilometres</th>\n",
       "      <th>BodyType</th>\n",
       "      <th>Price</th>\n",
       "      <th>State</th>\n",
       "      <th>Litres</th>\n",
       "    </tr>\n",
       "  </thead>\n",
       "  <tbody>\n",
       "    <tr>\n",
       "      <th>13954</th>\n",
       "      <td>6</td>\n",
       "      <td>2009</td>\n",
       "      <td>84</td>\n",
       "      <td>7</td>\n",
       "      <td>1</td>\n",
       "      <td>1</td>\n",
       "      <td>182254</td>\n",
       "      <td>5</td>\n",
       "      <td>16000</td>\n",
       "      <td>2</td>\n",
       "      <td>2.5</td>\n",
       "    </tr>\n",
       "    <tr>\n",
       "      <th>13955</th>\n",
       "      <td>13</td>\n",
       "      <td>2015</td>\n",
       "      <td>36</td>\n",
       "      <td>10</td>\n",
       "      <td>1</td>\n",
       "      <td>1</td>\n",
       "      <td>54359</td>\n",
       "      <td>9</td>\n",
       "      <td>21450</td>\n",
       "      <td>2</td>\n",
       "      <td>1.6</td>\n",
       "    </tr>\n",
       "    <tr>\n",
       "      <th>13956</th>\n",
       "      <td>6</td>\n",
       "      <td>2021</td>\n",
       "      <td>21</td>\n",
       "      <td>3</td>\n",
       "      <td>1</td>\n",
       "      <td>1</td>\n",
       "      <td>32977</td>\n",
       "      <td>3</td>\n",
       "      <td>36770</td>\n",
       "      <td>3</td>\n",
       "      <td>2.0</td>\n",
       "    </tr>\n",
       "    <tr>\n",
       "      <th>13957</th>\n",
       "      <td>3</td>\n",
       "      <td>2016</td>\n",
       "      <td>301</td>\n",
       "      <td>3</td>\n",
       "      <td>1</td>\n",
       "      <td>1</td>\n",
       "      <td>85525</td>\n",
       "      <td>3</td>\n",
       "      <td>41888</td>\n",
       "      <td>3</td>\n",
       "      <td>2.0</td>\n",
       "    </tr>\n",
       "    <tr>\n",
       "      <th>13958</th>\n",
       "      <td>3</td>\n",
       "      <td>2021</td>\n",
       "      <td>97</td>\n",
       "      <td>6</td>\n",
       "      <td>1</td>\n",
       "      <td>1</td>\n",
       "      <td>31852</td>\n",
       "      <td>6</td>\n",
       "      <td>65888</td>\n",
       "      <td>3</td>\n",
       "      <td>2.0</td>\n",
       "    </tr>\n",
       "  </tbody>\n",
       "</table>\n",
       "</div>"
      ],
      "text/plain": [
       "       Brand  Year  Model  Car/Suv  UsedOrNew  Transmission  Kilometres  \\\n",
       "13954      6  2009     84        7          1             1      182254   \n",
       "13955     13  2015     36       10          1             1       54359   \n",
       "13956      6  2021     21        3          1             1       32977   \n",
       "13957      3  2016    301        3          1             1       85525   \n",
       "13958      3  2021     97        6          1             1       31852   \n",
       "\n",
       "       BodyType  Price  State  Litres  \n",
       "13954         5  16000      2     2.5  \n",
       "13955         9  21450      2     1.6  \n",
       "13956         3  36770      3     2.0  \n",
       "13957         3  41888      3     2.0  \n",
       "13958         6  65888      3     2.0  "
      ]
     },
     "execution_count": 9,
     "metadata": {},
     "output_type": "execute_result"
    }
   ],
   "source": [
    "# Copying dataset to change categorical columns for numerical values\n",
    "numerical_dataset = dataset.copy()\n",
    "\n",
    "# Organising columns that are not numerical\n",
    "numerical_dataset['Brand'] = pd.factorize(numerical_dataset['Brand'])[0] + 1\n",
    "numerical_dataset['Model'] = pd.factorize(numerical_dataset['Model'])[0] + 1\n",
    "numerical_dataset['Car/Suv'] = pd.factorize(numerical_dataset['Car/Suv'])[0] + 1\n",
    "numerical_dataset['UsedOrNew'] = pd.factorize(numerical_dataset['UsedOrNew'])[0] + 1\n",
    "numerical_dataset['Transmission'] = pd.factorize(numerical_dataset['Transmission'])[0] + 1\n",
    "numerical_dataset['BodyType'] = pd.factorize(numerical_dataset['BodyType'])[0] + 1\n",
    "numerical_dataset['State'] = pd.factorize(numerical_dataset['State'])[0] + 1\n",
    "numerical_dataset.tail()"
   ]
  },
  {
   "cell_type": "code",
   "execution_count": 10,
   "id": "01d391c7-5f02-45c1-bc68-8c28c32bc646",
   "metadata": {
    "tags": []
   },
   "outputs": [],
   "source": [
    "# Split the preprocessed data into a training and testing dataset\n",
    "train_dataset = numerical_dataset.sample(frac=0.8, random_state=0)\n",
    "test_dataset = numerical_dataset.drop(train_dataset.index)"
   ]
  },
  {
   "cell_type": "code",
   "execution_count": 11,
   "id": "75a9e2c6-d971-4411-8b0e-77bc65335252",
   "metadata": {
    "tags": []
   },
   "outputs": [
    {
     "data": {
      "text/plain": [
       "<seaborn.axisgrid.PairGrid at 0x15801a737d0>"
      ]
     },
     "execution_count": 11,
     "metadata": {},
     "output_type": "execute_result"
    },
    {
     "data": {
      "image/png": "[encoded data removed]",
      "text/plain": [
       "<Figure size 500x500 with 6 Axes>"
      ]
     },
     "metadata": {},
     "output_type": "display_data"
    }
   ],
   "source": [
    "sns.pairplot(train_dataset[['Price', 'Kilometres']], diag_kind='kde')"
   ]
  },
  {
   "cell_type": "code",
   "execution_count": 12,
   "id": "e729cc1b-1c5d-4901-83a6-2dd4b9e13710",
   "metadata": {
    "tags": []
   },
   "outputs": [
    {
     "data": {
      "text/html": [
       "<div>\n",
       "<style scoped>\n",
       "    .dataframe tbody tr th:only-of-type {\n",
       "        vertical-align: middle;\n",
       "    }\n",
       "\n",
       "    .dataframe tbody tr th {\n",
       "        vertical-align: top;\n",
       "    }\n",
       "\n",
       "    .dataframe thead th {\n",
       "        text-align: right;\n",
       "    }\n",
       "</style>\n",
       "<table border=\"1\" class=\"dataframe\">\n",
       "  <thead>\n",
       "    <tr style=\"text-align: right;\">\n",
       "      <th></th>\n",
       "      <th>count</th>\n",
       "      <th>mean</th>\n",
       "      <th>std</th>\n",
       "      <th>min</th>\n",
       "      <th>25%</th>\n",
       "      <th>50%</th>\n",
       "      <th>75%</th>\n",
       "      <th>max</th>\n",
       "    </tr>\n",
       "  </thead>\n",
       "  <tbody>\n",
       "    <tr>\n",
       "      <th>Brand</th>\n",
       "      <td>11167.0</td>\n",
       "      <td>11.323453</td>\n",
       "      <td>5.238121</td>\n",
       "      <td>1.0</td>\n",
       "      <td>7.0</td>\n",
       "      <td>11.0</td>\n",
       "      <td>16.0</td>\n",
       "      <td>23.0</td>\n",
       "    </tr>\n",
       "    <tr>\n",
       "      <th>Year</th>\n",
       "      <td>11167.0</td>\n",
       "      <td>2015.956658</td>\n",
       "      <td>4.849675</td>\n",
       "      <td>1978.0</td>\n",
       "      <td>2013.0</td>\n",
       "      <td>2017.0</td>\n",
       "      <td>2019.0</td>\n",
       "      <td>2023.0</td>\n",
       "    </tr>\n",
       "    <tr>\n",
       "      <th>Model</th>\n",
       "      <td>11167.0</td>\n",
       "      <td>114.605266</td>\n",
       "      <td>112.846984</td>\n",
       "      <td>1.0</td>\n",
       "      <td>36.0</td>\n",
       "      <td>79.0</td>\n",
       "      <td>145.0</td>\n",
       "      <td>630.0</td>\n",
       "    </tr>\n",
       "    <tr>\n",
       "      <th>Car/Suv</th>\n",
       "      <td>11167.0</td>\n",
       "      <td>5.760186</td>\n",
       "      <td>10.824565</td>\n",
       "      <td>1.0</td>\n",
       "      <td>3.0</td>\n",
       "      <td>3.0</td>\n",
       "      <td>6.0</td>\n",
       "      <td>123.0</td>\n",
       "    </tr>\n",
       "    <tr>\n",
       "      <th>UsedOrNew</th>\n",
       "      <td>11167.0</td>\n",
       "      <td>1.036178</td>\n",
       "      <td>0.186741</td>\n",
       "      <td>1.0</td>\n",
       "      <td>1.0</td>\n",
       "      <td>1.0</td>\n",
       "      <td>1.0</td>\n",
       "      <td>2.0</td>\n",
       "    </tr>\n",
       "    <tr>\n",
       "      <th>Transmission</th>\n",
       "      <td>11167.0</td>\n",
       "      <td>1.117579</td>\n",
       "      <td>0.322123</td>\n",
       "      <td>1.0</td>\n",
       "      <td>1.0</td>\n",
       "      <td>1.0</td>\n",
       "      <td>1.0</td>\n",
       "      <td>2.0</td>\n",
       "    </tr>\n",
       "    <tr>\n",
       "      <th>Kilometres</th>\n",
       "      <td>11167.0</td>\n",
       "      <td>103462.069670</td>\n",
       "      <td>76796.623498</td>\n",
       "      <td>1.0</td>\n",
       "      <td>46218.0</td>\n",
       "      <td>88570.0</td>\n",
       "      <td>149033.5</td>\n",
       "      <td>520991.0</td>\n",
       "    </tr>\n",
       "    <tr>\n",
       "      <th>BodyType</th>\n",
       "      <td>11167.0</td>\n",
       "      <td>3.677980</td>\n",
       "      <td>1.968133</td>\n",
       "      <td>1.0</td>\n",
       "      <td>3.0</td>\n",
       "      <td>3.0</td>\n",
       "      <td>5.0</td>\n",
       "      <td>10.0</td>\n",
       "    </tr>\n",
       "    <tr>\n",
       "      <th>Price</th>\n",
       "      <td>11167.0</td>\n",
       "      <td>33679.063849</td>\n",
       "      <td>27780.483315</td>\n",
       "      <td>88.0</td>\n",
       "      <td>18500.0</td>\n",
       "      <td>27990.0</td>\n",
       "      <td>40888.0</td>\n",
       "      <td>649880.0</td>\n",
       "    </tr>\n",
       "    <tr>\n",
       "      <th>State</th>\n",
       "      <td>11167.0</td>\n",
       "      <td>2.453479</td>\n",
       "      <td>1.656613</td>\n",
       "      <td>1.0</td>\n",
       "      <td>1.0</td>\n",
       "      <td>2.0</td>\n",
       "      <td>3.0</td>\n",
       "      <td>9.0</td>\n",
       "    </tr>\n",
       "    <tr>\n",
       "      <th>Litres</th>\n",
       "      <td>11167.0</td>\n",
       "      <td>2.420247</td>\n",
       "      <td>0.865167</td>\n",
       "      <td>0.7</td>\n",
       "      <td>2.0</td>\n",
       "      <td>2.2</td>\n",
       "      <td>2.8</td>\n",
       "      <td>6.8</td>\n",
       "    </tr>\n",
       "  </tbody>\n",
       "</table>\n",
       "</div>"
      ],
      "text/plain": [
       "                count           mean           std     min      25%      50%  \\\n",
       "Brand         11167.0      11.323453      5.238121     1.0      7.0     11.0   \n",
       "Year          11167.0    2015.956658      4.849675  1978.0   2013.0   2017.0   \n",
       "Model         11167.0     114.605266    112.846984     1.0     36.0     79.0   \n",
       "Car/Suv       11167.0       5.760186     10.824565     1.0      3.0      3.0   \n",
       "UsedOrNew     11167.0       1.036178      0.186741     1.0      1.0      1.0   \n",
       "Transmission  11167.0       1.117579      0.322123     1.0      1.0      1.0   \n",
       "Kilometres    11167.0  103462.069670  76796.623498     1.0  46218.0  88570.0   \n",
       "BodyType      11167.0       3.677980      1.968133     1.0      3.0      3.0   \n",
       "Price         11167.0   33679.063849  27780.483315    88.0  18500.0  27990.0   \n",
       "State         11167.0       2.453479      1.656613     1.0      1.0      2.0   \n",
       "Litres        11167.0       2.420247      0.865167     0.7      2.0      2.2   \n",
       "\n",
       "                   75%       max  \n",
       "Brand             16.0      23.0  \n",
       "Year            2019.0    2023.0  \n",
       "Model            145.0     630.0  \n",
       "Car/Suv            6.0     123.0  \n",
       "UsedOrNew          1.0       2.0  \n",
       "Transmission       1.0       2.0  \n",
       "Kilometres    149033.5  520991.0  \n",
       "BodyType           5.0      10.0  \n",
       "Price          40888.0  649880.0  \n",
       "State              3.0       9.0  \n",
       "Litres             2.8       6.8  "
      ]
     },
     "execution_count": 12,
     "metadata": {},
     "output_type": "execute_result"
    }
   ],
   "source": [
    "train_dataset.describe().transpose()"
   ]
  },
  {
   "cell_type": "code",
   "execution_count": 13,
   "id": "a65ffbf6-f53b-44f7-bd3c-c4d5693f903a",
   "metadata": {
    "tags": []
   },
   "outputs": [],
   "source": [
    "train_features = train_dataset.copy()\n",
    "test_features = test_dataset.copy()\n",
    "\n",
    "train_labels = train_features.pop('Price')\n",
    "test_labels = test_features.pop('Price')"
   ]
  },
  {
   "cell_type": "code",
   "execution_count": 14,
   "id": "f14c2165-a548-4f77-9fda-8740577cc833",
   "metadata": {
    "tags": []
   },
   "outputs": [
    {
     "data": {
      "text/html": [
       "<div>\n",
       "<style scoped>\n",
       "    .dataframe tbody tr th:only-of-type {\n",
       "        vertical-align: middle;\n",
       "    }\n",
       "\n",
       "    .dataframe tbody tr th {\n",
       "        vertical-align: top;\n",
       "    }\n",
       "\n",
       "    .dataframe thead th {\n",
       "        text-align: right;\n",
       "    }\n",
       "</style>\n",
       "<table border=\"1\" class=\"dataframe\">\n",
       "  <thead>\n",
       "    <tr style=\"text-align: right;\">\n",
       "      <th></th>\n",
       "      <th>mean</th>\n",
       "      <th>std</th>\n",
       "    </tr>\n",
       "  </thead>\n",
       "  <tbody>\n",
       "    <tr>\n",
       "      <th>Brand</th>\n",
       "      <td>11.323453</td>\n",
       "      <td>5.238121</td>\n",
       "    </tr>\n",
       "    <tr>\n",
       "      <th>Year</th>\n",
       "      <td>2015.956658</td>\n",
       "      <td>4.849675</td>\n",
       "    </tr>\n",
       "    <tr>\n",
       "      <th>Model</th>\n",
       "      <td>114.605266</td>\n",
       "      <td>112.846984</td>\n",
       "    </tr>\n",
       "    <tr>\n",
       "      <th>Car/Suv</th>\n",
       "      <td>5.760186</td>\n",
       "      <td>10.824565</td>\n",
       "    </tr>\n",
       "    <tr>\n",
       "      <th>UsedOrNew</th>\n",
       "      <td>1.036178</td>\n",
       "      <td>0.186741</td>\n",
       "    </tr>\n",
       "    <tr>\n",
       "      <th>Transmission</th>\n",
       "      <td>1.117579</td>\n",
       "      <td>0.322123</td>\n",
       "    </tr>\n",
       "    <tr>\n",
       "      <th>Kilometres</th>\n",
       "      <td>103462.069670</td>\n",
       "      <td>76796.623498</td>\n",
       "    </tr>\n",
       "    <tr>\n",
       "      <th>BodyType</th>\n",
       "      <td>3.677980</td>\n",
       "      <td>1.968133</td>\n",
       "    </tr>\n",
       "    <tr>\n",
       "      <th>Price</th>\n",
       "      <td>33679.063849</td>\n",
       "      <td>27780.483315</td>\n",
       "    </tr>\n",
       "    <tr>\n",
       "      <th>State</th>\n",
       "      <td>2.453479</td>\n",
       "      <td>1.656613</td>\n",
       "    </tr>\n",
       "    <tr>\n",
       "      <th>Litres</th>\n",
       "      <td>2.420247</td>\n",
       "      <td>0.865167</td>\n",
       "    </tr>\n",
       "  </tbody>\n",
       "</table>\n",
       "</div>"
      ],
      "text/plain": [
       "                       mean           std\n",
       "Brand             11.323453      5.238121\n",
       "Year            2015.956658      4.849675\n",
       "Model            114.605266    112.846984\n",
       "Car/Suv            5.760186     10.824565\n",
       "UsedOrNew          1.036178      0.186741\n",
       "Transmission       1.117579      0.322123\n",
       "Kilometres    103462.069670  76796.623498\n",
       "BodyType           3.677980      1.968133\n",
       "Price          33679.063849  27780.483315\n",
       "State              2.453479      1.656613\n",
       "Litres             2.420247      0.865167"
      ]
     },
     "execution_count": 14,
     "metadata": {},
     "output_type": "execute_result"
    }
   ],
   "source": [
    "train_dataset.describe().transpose()[['mean', 'std']]"
   ]
  },
  {
   "cell_type": "code",
   "execution_count": 15,
   "id": "1178d92a-6b15-478e-a5b5-2fdb0f4fd342",
   "metadata": {
    "tags": []
   },
   "outputs": [
    {
     "name": "stdout",
     "output_type": "stream",
     "text": [
      "WARNING:tensorflow:From C:\\Users\\oscar\\anaconda3\\envs\\PythonData\\Lib\\site-packages\\keras\\src\\backend.py:873: The name tf.get_default_graph is deprecated. Please use tf.compat.v1.get_default_graph instead.\n",
      "\n",
      "[[    11.323   2015.957    114.605      5.76       1.036      1.118\n",
      "  103462.07       3.678      2.453      2.42 ]]\n",
      "First example: [[    14.   2010.     58.      3.      1.      1. 311334.      3.      1.\n",
      "       3.]]\n",
      "\n",
      "Normalized: [[ 0.51 -1.23 -0.5  -0.26 -0.19 -0.37  2.71 -0.34 -0.88  0.67]]\n"
     ]
    }
   ],
   "source": [
    "# The Normalization layer\n",
    "normalizer = tf.keras.layers.Normalization(axis=-1)\n",
    "\n",
    "normalizer.adapt(np.array(train_features))\n",
    "\n",
    "print(normalizer.mean.numpy())\n",
    "\n",
    "first = np.array(train_features[:1])\n",
    "\n",
    "with np.printoptions(precision=2, suppress=True):\n",
    "  print('First example:', first)\n",
    "  print()\n",
    "  print('Normalized:', normalizer(first).numpy())"
   ]
  },
  {
   "cell_type": "code",
   "execution_count": 16,
   "id": "faa4b46e-21ae-4da8-a920-9f8731365d60",
   "metadata": {
    "tags": []
   },
   "outputs": [],
   "source": [
    "brand = np.array(train_features['Brand'])\n",
    "\n",
    "brand_normalizer = layers.Normalization(input_shape=[1,], axis=None)\n",
    "brand_normalizer.adapt(brand)"
   ]
  },
  {
   "cell_type": "code",
   "execution_count": 17,
   "id": "e09e65da-5364-468f-9136-dc8b627ae7ed",
   "metadata": {
    "tags": []
   },
   "outputs": [
    {
     "name": "stdout",
     "output_type": "stream",
     "text": [
      "Model: \"sequential\"\n",
      "_________________________________________________________________\n",
      " Layer (type)                Output Shape              Param #   \n",
      "=================================================================\n",
      " normalization_1 (Normaliza  (None, 1)                 3         \n",
      " tion)                                                           \n",
      "                                                                 \n",
      " dense (Dense)               (None, 1)                 2         \n",
      "                                                                 \n",
      "=================================================================\n",
      "Total params: 5 (24.00 Byte)\n",
      "Trainable params: 2 (8.00 Byte)\n",
      "Non-trainable params: 3 (16.00 Byte)\n",
      "_________________________________________________________________\n"
     ]
    }
   ],
   "source": [
    "# Build the Keras Sequential model\n",
    "brand_model = tf.keras.Sequential([\n",
    "    brand_normalizer,\n",
    "    layers.Dense(units=1)\n",
    "])\n",
    "\n",
    "brand_model.summary()"
   ]
  },
  {
   "cell_type": "code",
   "execution_count": 18,
   "id": "da7e2981-3417-40df-8c25-bffdf1b03585",
   "metadata": {
    "tags": []
   },
   "outputs": [
    {
     "name": "stdout",
     "output_type": "stream",
     "text": [
      "349/349 [==============================] - 1s 2ms/step\n"
     ]
    },
    {
     "data": {
      "text/plain": [
       "array([[ 0.858],\n",
       "       [-3.311],\n",
       "       [-1.387],\n",
       "       ...,\n",
       "       [ 2.462],\n",
       "       [ 1.82 ],\n",
       "       [-2.028]], dtype=float32)"
      ]
     },
     "execution_count": 18,
     "metadata": {},
     "output_type": "execute_result"
    }
   ],
   "source": [
    "brand_model.predict(brand)"
   ]
  },
  {
   "cell_type": "code",
   "execution_count": 19,
   "id": "52a76bde-19df-49c8-84d1-457cab384295",
   "metadata": {
    "tags": []
   },
   "outputs": [],
   "source": [
    "brand_model.compile(\n",
    "    optimizer=tf.keras.optimizers.Adam(learning_rate=0.1),\n",
    "    loss='mean_absolute_error')"
   ]
  },
  {
   "cell_type": "code",
   "execution_count": 20,
   "id": "b1b96769-1ee4-4efe-9913-e46a3f569523",
   "metadata": {
    "tags": []
   },
   "outputs": [
    {
     "name": "stdout",
     "output_type": "stream",
     "text": [
      "WARNING:tensorflow:From C:\\Users\\oscar\\anaconda3\\envs\\PythonData\\Lib\\site-packages\\keras\\src\\utils\\tf_utils.py:492: The name tf.ragged.RaggedTensorValue is deprecated. Please use tf.compat.v1.ragged.RaggedTensorValue instead.\n",
      "\n",
      "CPU times: total: 1min 11s\n",
      "Wall time: 56.3 s\n"
     ]
    }
   ],
   "source": [
    "%%time\n",
    "history = brand_model.fit(\n",
    "    train_features['Brand'],\n",
    "    train_labels,\n",
    "    epochs=100,\n",
    "    # Suppress logging.\n",
    "    verbose=0,\n",
    "    # Calculate validation results on 20% of the training data.\n",
    "    validation_split = 0.2)"
   ]
  },
  {
   "cell_type": "code",
   "execution_count": 21,
   "id": "0696ea73-36ec-4215-90d5-6e9dcf11e23b",
   "metadata": {
    "tags": []
   },
   "outputs": [],
   "source": [
    "hist = pd.DataFrame(history.history)\n",
    "hist['epoch'] = history.epoch\n",
    "hist.tail()\n",
    "\n",
    "def plot_loss(history):\n",
    "  plt.plot(history.history['loss'], label='loss')\n",
    "  plt.plot(history.history['val_loss'], label='val_loss')\n",
    "  plt.xlabel('Epoch')\n",
    "  plt.ylabel('Error [Brand]')\n",
    "  plt.legend()\n",
    "  plt.grid(True)"
   ]
  },
  {
   "cell_type": "code",
   "execution_count": 22,
   "id": "acca1eb1-7774-48f7-988d-68b305fe20a2",
   "metadata": {
    "tags": []
   },
   "outputs": [
    {
     "data": {
      "image/png": "[encoded data removed]",
      "text/plain": [
       "<Figure size 640x480 with 1 Axes>"
      ]
     },
     "metadata": {},
     "output_type": "display_data"
    }
   ],
   "source": [
    "plot_loss(history)"
   ]
  },
  {
   "cell_type": "code",
   "execution_count": 23,
   "id": "4081c6b7-b524-49d1-a4d0-f50e1c49b52b",
   "metadata": {
    "tags": []
   },
   "outputs": [],
   "source": [
    "test_results = {}\n",
    "\n",
    "test_results['brand_model'] = brand_model.evaluate(\n",
    "    test_features['Brand'],\n",
    "    test_labels, verbose=0)\n",
    "     "
   ]
  },
  {
   "cell_type": "code",
   "execution_count": 24,
   "id": "971754dc-5c31-489d-afc9-9dd375f21e7f",
   "metadata": {
    "tags": []
   },
   "outputs": [
    {
     "name": "stdout",
     "output_type": "stream",
     "text": [
      "8/8 [==============================] - 0s 2ms/step\n"
     ]
    }
   ],
   "source": [
    "x = tf.linspace(0.0, 250, 251)\n",
    "y = brand_model.predict(x)"
   ]
  },
  {
   "cell_type": "code",
   "execution_count": 25,
   "id": "ca618e82-dffc-43ea-a913-a9a0555bd187",
   "metadata": {
    "tags": []
   },
   "outputs": [],
   "source": [
    "def plot_brand(x, y):\n",
    "  plt.scatter(train_features['Brand'], train_labels, label='Data')\n",
    "  plt.plot(x, y, color='k', label='Predictions')\n",
    "  plt.xlabel('Brand')\n",
    "  plt.ylabel('Price')\n",
    "  plt.legend()"
   ]
  },
  {
   "cell_type": "code",
   "execution_count": 26,
   "id": "3454a350-61ba-4911-a307-d6c62336957a",
   "metadata": {
    "tags": []
   },
   "outputs": [
    {
     "data": {
      "image/png": "[encoded data removed]",
      "text/plain": [
       "<Figure size 640x480 with 1 Axes>"
      ]
     },
     "metadata": {},
     "output_type": "display_data"
    }
   ],
   "source": [
    "plot_brand(x, y)"
   ]
  },
  {
   "cell_type": "code",
   "execution_count": 27,
   "id": "4dffe016-ccca-4ede-a881-5c843a6f1707",
   "metadata": {
    "tags": []
   },
   "outputs": [],
   "source": [
    "linear_model = tf.keras.Sequential([\n",
    "    normalizer,\n",
    "    layers.Dense(units=1)\n",
    "])"
   ]
  },
  {
   "cell_type": "code",
   "execution_count": 28,
   "id": "4765a6af-be6b-41ed-9c86-f1cfe4863013",
   "metadata": {
    "tags": []
   },
   "outputs": [
    {
     "name": "stdout",
     "output_type": "stream",
     "text": [
      "349/349 [==============================] - 1s 2ms/step\n"
     ]
    },
    {
     "data": {
      "text/plain": [
       "array([[ 0.525],\n",
       "       [-0.265],\n",
       "       [ 0.033],\n",
       "       ...,\n",
       "       [-1.176],\n",
       "       [-0.631],\n",
       "       [ 0.397]], dtype=float32)"
      ]
     },
     "execution_count": 28,
     "metadata": {},
     "output_type": "execute_result"
    }
   ],
   "source": [
    "linear_model.predict(train_features)"
   ]
  },
  {
   "cell_type": "code",
   "execution_count": 29,
   "id": "df184b43-f166-40b3-a8fb-5b330da553dc",
   "metadata": {
    "tags": []
   },
   "outputs": [
    {
     "data": {
      "text/plain": [
       "<tf.Variable 'dense_1/kernel:0' shape=(10, 1) dtype=float32, numpy=\n",
       "array([[-0.542],\n",
       "       [-0.19 ],\n",
       "       [ 0.644],\n",
       "       [ 0.038],\n",
       "       [ 0.703],\n",
       "       [-0.171],\n",
       "       [ 0.375],\n",
       "       [-0.491],\n",
       "       [ 0.582],\n",
       "       [ 0.451]], dtype=float32)>"
      ]
     },
     "execution_count": 29,
     "metadata": {},
     "output_type": "execute_result"
    }
   ],
   "source": [
    "linear_model.layers[1].kernel"
   ]
  },
  {
   "cell_type": "code",
   "execution_count": 30,
   "id": "02de94fe-7e37-4e4b-ac02-fbabc3d0a642",
   "metadata": {
    "tags": []
   },
   "outputs": [],
   "source": [
    "linear_model.compile(\n",
    "    optimizer=tf.keras.optimizers.Adam(learning_rate=0.1),\n",
    "    loss='mean_absolute_error')"
   ]
  },
  {
   "cell_type": "code",
   "execution_count": 31,
   "id": "e95400d9-9b7a-4ba0-b591-dfaf59bb58f6",
   "metadata": {
    "tags": []
   },
   "outputs": [
    {
     "name": "stdout",
     "output_type": "stream",
     "text": [
      "CPU times: total: 1min 7s\n",
      "Wall time: 53.2 s\n"
     ]
    }
   ],
   "source": [
    "%%time\n",
    "history = linear_model.fit(\n",
    "    train_features,\n",
    "    train_labels,\n",
    "    epochs=100,\n",
    "    # Suppress logging.\n",
    "    verbose=0,\n",
    "    # Calculate validation results on 20% of the training data.\n",
    "    validation_split = 0.2)"
   ]
  },
  {
   "cell_type": "code",
   "execution_count": 32,
   "id": "6ab640ed-7738-45e6-ae47-42f9680e9c74",
   "metadata": {
    "tags": []
   },
   "outputs": [
    {
     "data": {
      "image/png": "[encoded data removed]",
      "text/plain": [
       "<Figure size 640x480 with 1 Axes>"
      ]
     },
     "metadata": {},
     "output_type": "display_data"
    }
   ],
   "source": [
    "plot_loss(history)"
   ]
  },
  {
   "cell_type": "code",
   "execution_count": 33,
   "id": "0b6d1dbc-f20d-4dd0-870c-80ad86a77fd2",
   "metadata": {
    "tags": []
   },
   "outputs": [],
   "source": [
    "test_results['linear_model'] = linear_model.evaluate(\n",
    "    test_features, test_labels, verbose=0)"
   ]
  },
  {
   "cell_type": "code",
   "execution_count": 34,
   "id": "00c2982e-3ce6-426a-b9c3-1e14da6ed5cc",
   "metadata": {
    "tags": []
   },
   "outputs": [
    {
     "data": {
      "text/html": [
       "<div>\n",
       "<style scoped>\n",
       "    .dataframe tbody tr th:only-of-type {\n",
       "        vertical-align: middle;\n",
       "    }\n",
       "\n",
       "    .dataframe tbody tr th {\n",
       "        vertical-align: top;\n",
       "    }\n",
       "\n",
       "    .dataframe thead th {\n",
       "        text-align: right;\n",
       "    }\n",
       "</style>\n",
       "<table border=\"1\" class=\"dataframe\">\n",
       "  <thead>\n",
       "    <tr style=\"text-align: right;\">\n",
       "      <th></th>\n",
       "      <th>Mean absolute error [MPG]</th>\n",
       "    </tr>\n",
       "  </thead>\n",
       "  <tbody>\n",
       "    <tr>\n",
       "      <th>brand_model</th>\n",
       "      <td>30957.787109</td>\n",
       "    </tr>\n",
       "    <tr>\n",
       "      <th>linear_model</th>\n",
       "      <td>30953.250000</td>\n",
       "    </tr>\n",
       "  </tbody>\n",
       "</table>\n",
       "</div>"
      ],
      "text/plain": [
       "              Mean absolute error [MPG]\n",
       "brand_model                30957.787109\n",
       "linear_model               30953.250000"
      ]
     },
     "execution_count": 34,
     "metadata": {},
     "output_type": "execute_result"
    }
   ],
   "source": [
    "pd.DataFrame(test_results, index=['Mean absolute error [MPG]']).T\n",
    "     "
   ]
  },
  {
   "cell_type": "code",
   "execution_count": 35,
   "id": "6584b72c-f796-4328-b507-e72c5f703abc",
   "metadata": {
    "tags": []
   },
   "outputs": [],
   "source": [
    "def build_and_compile_model(norm):\n",
    "  model = keras.Sequential([\n",
    "      norm,\n",
    "      layers.Dense(64, activation='relu'),\n",
    "      layers.Dense(64, activation='relu'),\n",
    "      layers.Dense(1)\n",
    "  ])\n",
    "\n",
    "  model.compile(loss='mean_absolute_error',\n",
    "                optimizer=tf.keras.optimizers.Adam(0.001))\n",
    "  return model"
   ]
  },
  {
   "cell_type": "code",
   "execution_count": 36,
   "id": "b39cdaf2-975b-462f-b775-8912bb615f1f",
   "metadata": {
    "tags": []
   },
   "outputs": [
    {
     "name": "stdout",
     "output_type": "stream",
     "text": [
      "Model: \"sequential_2\"\n",
      "_________________________________________________________________\n",
      " Layer (type)                Output Shape              Param #   \n",
      "=================================================================\n",
      " normalization_1 (Normaliza  (None, 1)                 3         \n",
      " tion)                                                           \n",
      "                                                                 \n",
      " dense_2 (Dense)             (None, 64)                128       \n",
      "                                                                 \n",
      " dense_3 (Dense)             (None, 64)                4160      \n",
      "                                                                 \n",
      " dense_4 (Dense)             (None, 1)                 65        \n",
      "                                                                 \n",
      "=================================================================\n",
      "Total params: 4356 (17.02 KB)\n",
      "Trainable params: 4353 (17.00 KB)\n",
      "Non-trainable params: 3 (16.00 Byte)\n",
      "_________________________________________________________________\n"
     ]
    }
   ],
   "source": [
    "dnn_brand_model = build_and_compile_model(brand_normalizer)\n",
    "dnn_brand_model.summary()"
   ]
  },
  {
   "cell_type": "code",
   "execution_count": 37,
   "id": "b5831403-dd58-495a-acc7-76a5a3dc9b08",
   "metadata": {
    "tags": []
   },
   "outputs": [
    {
     "name": "stdout",
     "output_type": "stream",
     "text": [
      "CPU times: total: 1min 35s\n",
      "Wall time: 1min 5s\n"
     ]
    }
   ],
   "source": [
    "%%time\n",
    "history = dnn_brand_model.fit(\n",
    "    train_features['Brand'],\n",
    "    train_labels,\n",
    "    validation_split=0.2,\n",
    "    verbose=0, epochs=100)"
   ]
  },
  {
   "cell_type": "code",
   "execution_count": 38,
   "id": "72169d50-e7e0-42d6-8317-2d674150822b",
   "metadata": {
    "tags": []
   },
   "outputs": [
    {
     "data": {
      "image/png": "[encoded data removed]",
      "text/plain": [
       "<Figure size 640x480 with 1 Axes>"
      ]
     },
     "metadata": {},
     "output_type": "display_data"
    }
   ],
   "source": [
    "plot_loss(history)"
   ]
  },
  {
   "cell_type": "code",
   "execution_count": 39,
   "id": "3df9312a-7f07-412f-8ba0-d5e411f4127e",
   "metadata": {
    "tags": []
   },
   "outputs": [
    {
     "name": "stdout",
     "output_type": "stream",
     "text": [
      "8/8 [==============================] - 0s 4ms/step\n"
     ]
    }
   ],
   "source": [
    "x = tf.linspace(0.0, 250, 251)\n",
    "y = dnn_brand_model.predict(x)"
   ]
  },
  {
   "cell_type": "code",
   "execution_count": 40,
   "id": "a2cc0c46-68c6-4bf9-91a1-cdd48d1246c8",
   "metadata": {
    "tags": []
   },
   "outputs": [
    {
     "data": {
      "image/png": "[encoded data removed]",
      "text/plain": [
       "<Figure size 640x480 with 1 Axes>"
      ]
     },
     "metadata": {},
     "output_type": "display_data"
    }
   ],
   "source": [
    "plot_brand(x, y)"
   ]
  },
  {
   "cell_type": "code",
   "execution_count": 41,
   "id": "c6e8c8f7-aff1-440c-88e1-fc4ee173e903",
   "metadata": {
    "tags": []
   },
   "outputs": [],
   "source": [
    "test_results['dnn_brand_model'] = dnn_brand_model.evaluate(\n",
    "    test_features['Brand'], test_labels,\n",
    "    verbose=0)"
   ]
  },
  {
   "cell_type": "code",
   "execution_count": 42,
   "id": "65fa416d-28dd-4007-a78f-07d758efffff",
   "metadata": {
    "tags": []
   },
   "outputs": [
    {
     "name": "stdout",
     "output_type": "stream",
     "text": [
      "Model: \"sequential_3\"\n",
      "_________________________________________________________________\n",
      " Layer (type)                Output Shape              Param #   \n",
      "=================================================================\n",
      " normalization (Normalizati  (None, 10)                21        \n",
      " on)                                                             \n",
      "                                                                 \n",
      " dense_5 (Dense)             (None, 64)                704       \n",
      "                                                                 \n",
      " dense_6 (Dense)             (None, 64)                4160      \n",
      "                                                                 \n",
      " dense_7 (Dense)             (None, 1)                 65        \n",
      "                                                                 \n",
      "=================================================================\n",
      "Total params: 4950 (19.34 KB)\n",
      "Trainable params: 4929 (19.25 KB)\n",
      "Non-trainable params: 21 (88.00 Byte)\n",
      "_________________________________________________________________\n"
     ]
    }
   ],
   "source": [
    "dnn_model = build_and_compile_model(normalizer)\n",
    "dnn_model.summary()"
   ]
  },
  {
   "cell_type": "code",
   "execution_count": 43,
   "id": "f99c43c2-cba0-48cc-8b61-88ff1c87f71b",
   "metadata": {
    "tags": []
   },
   "outputs": [
    {
     "name": "stdout",
     "output_type": "stream",
     "text": [
      "CPU times: total: 1min 37s\n",
      "Wall time: 1min 5s\n"
     ]
    }
   ],
   "source": [
    "%%time\n",
    "history = dnn_model.fit(\n",
    "    train_features,\n",
    "    train_labels,\n",
    "    validation_split=0.2,\n",
    "    verbose=0, epochs=100)"
   ]
  },
  {
   "cell_type": "code",
   "execution_count": 44,
   "id": "ee811b13-80e2-492a-af90-1351f5c178f8",
   "metadata": {
    "tags": []
   },
   "outputs": [
    {
     "data": {
      "image/png": "[encoded data removed]",
      "text/plain": [
       "<Figure size 640x480 with 1 Axes>"
      ]
     },
     "metadata": {},
     "output_type": "display_data"
    }
   ],
   "source": [
    "plot_loss(history)"
   ]
  },
  {
   "cell_type": "code",
   "execution_count": 45,
   "id": "1055fdad-e75e-406e-8c42-1b99a9b3f1bf",
   "metadata": {
    "tags": []
   },
   "outputs": [],
   "source": [
    "test_results['dnn_model'] = dnn_model.evaluate(test_features, test_labels, verbose=0)"
   ]
  },
  {
   "cell_type": "code",
   "execution_count": 46,
   "id": "a6c71518-6791-4c78-a693-2ac88e9485b2",
   "metadata": {
    "tags": []
   },
   "outputs": [
    {
     "data": {
      "text/html": [
       "<div>\n",
       "<style scoped>\n",
       "    .dataframe tbody tr th:only-of-type {\n",
       "        vertical-align: middle;\n",
       "    }\n",
       "\n",
       "    .dataframe tbody tr th {\n",
       "        vertical-align: top;\n",
       "    }\n",
       "\n",
       "    .dataframe thead th {\n",
       "        text-align: right;\n",
       "    }\n",
       "</style>\n",
       "<table border=\"1\" class=\"dataframe\">\n",
       "  <thead>\n",
       "    <tr style=\"text-align: right;\">\n",
       "      <th></th>\n",
       "      <th>Mean absolute error [MPG]</th>\n",
       "    </tr>\n",
       "  </thead>\n",
       "  <tbody>\n",
       "    <tr>\n",
       "      <th>brand_model</th>\n",
       "      <td>30957.787109</td>\n",
       "    </tr>\n",
       "    <tr>\n",
       "      <th>linear_model</th>\n",
       "      <td>30953.250000</td>\n",
       "    </tr>\n",
       "    <tr>\n",
       "      <th>dnn_brand_model</th>\n",
       "      <td>15652.761719</td>\n",
       "    </tr>\n",
       "    <tr>\n",
       "      <th>dnn_model</th>\n",
       "      <td>8469.529297</td>\n",
       "    </tr>\n",
       "  </tbody>\n",
       "</table>\n",
       "</div>"
      ],
      "text/plain": [
       "                 Mean absolute error [MPG]\n",
       "brand_model                   30957.787109\n",
       "linear_model                  30953.250000\n",
       "dnn_brand_model               15652.761719\n",
       "dnn_model                      8469.529297"
      ]
     },
     "execution_count": 46,
     "metadata": {},
     "output_type": "execute_result"
    }
   ],
   "source": [
    "pd.DataFrame(test_results, index=['Mean absolute error [MPG]']).T"
   ]
  },
  {
   "cell_type": "code",
   "execution_count": 50,
   "id": "9eaf1648-be41-40bf-a10a-f1924fe94ab4",
   "metadata": {
    "tags": []
   },
   "outputs": [
    {
     "name": "stdout",
     "output_type": "stream",
     "text": [
      "88/88 [==============================] - 0s 2ms/step\n"
     ]
    },
    {
     "data": {
      "image/png": "[encoded data removed]",
      "text/plain": [
       "<Figure size 640x480 with 1 Axes>"
      ]
     },
     "metadata": {},
     "output_type": "display_data"
    }
   ],
   "source": [
    "test_predictions = dnn_model.predict(test_features).flatten()\n",
    "\n",
    "a = plt.axes(aspect='equal')\n",
    "plt.scatter(test_labels, test_predictions)\n",
    "plt.xlabel('True Values [MPG]')\n",
    "plt.ylabel('Predictions [MPG]')\n",
    "lims = [0, 100000]\n",
    "plt.xlim(lims)\n",
    "plt.ylim(lims)\n",
    "_ = plt.plot(lims, lims)"
   ]
  },
  {
   "cell_type": "code",
   "execution_count": 51,
   "id": "d113129b-3c13-4396-ac08-95232e3b83be",
   "metadata": {
    "tags": []
   },
   "outputs": [
    {
     "data": {
      "image/png": "[encoded data removed]",
      "text/plain": [
       "<Figure size 640x480 with 1 Axes>"
      ]
     },
     "metadata": {},
     "output_type": "display_data"
    }
   ],
   "source": [
    "error = test_predictions - test_labels\n",
    "plt.hist(error, bins=25)\n",
    "plt.xlabel('Prediction Error [MPG]')\n",
    "_ = plt.ylabel('Count')"
   ]
  },
  {
   "cell_type": "code",
   "execution_count": 52,
   "id": "9289e8ec-c825-4ecb-92e3-6346f6987c0e",
   "metadata": {
    "tags": []
   },
   "outputs": [
    {
     "data": {
      "text/html": [
       "<div>\n",
       "<style scoped>\n",
       "    .dataframe tbody tr th:only-of-type {\n",
       "        vertical-align: middle;\n",
       "    }\n",
       "\n",
       "    .dataframe tbody tr th {\n",
       "        vertical-align: top;\n",
       "    }\n",
       "\n",
       "    .dataframe thead th {\n",
       "        text-align: right;\n",
       "    }\n",
       "</style>\n",
       "<table border=\"1\" class=\"dataframe\">\n",
       "  <thead>\n",
       "    <tr style=\"text-align: right;\">\n",
       "      <th></th>\n",
       "      <th>Mean absolute error [MPG]</th>\n",
       "    </tr>\n",
       "  </thead>\n",
       "  <tbody>\n",
       "    <tr>\n",
       "      <th>brand_model</th>\n",
       "      <td>30957.787109</td>\n",
       "    </tr>\n",
       "    <tr>\n",
       "      <th>linear_model</th>\n",
       "      <td>30953.250000</td>\n",
       "    </tr>\n",
       "    <tr>\n",
       "      <th>dnn_brand_model</th>\n",
       "      <td>15652.761719</td>\n",
       "    </tr>\n",
       "    <tr>\n",
       "      <th>dnn_model</th>\n",
       "      <td>8469.529297</td>\n",
       "    </tr>\n",
       "  </tbody>\n",
       "</table>\n",
       "</div>"
      ],
      "text/plain": [
       "                 Mean absolute error [MPG]\n",
       "brand_model                   30957.787109\n",
       "linear_model                  30953.250000\n",
       "dnn_brand_model               15652.761719\n",
       "dnn_model                      8469.529297"
      ]
     },
     "execution_count": 52,
     "metadata": {},
     "output_type": "execute_result"
    }
   ],
   "source": [
    "pd.DataFrame(test_results, index=['Mean absolute error [MPG]']).T"
   ]
  },
  {
   "cell_type": "code",
   "execution_count": null,
   "id": "35f10b49-8994-476a-960f-2cdedfc37fa2",
   "metadata": {},
   "outputs": [],
   "source": []
  }
 ],
 "metadata": {
  "kernelspec": {
   "display_name": "Python 3 (ipykernel)",
   "language": "python",
   "name": "python3"
  },
  "language_info": {
   "codemirror_mode": {
    "name": "ipython",
    "version": 3
   },
   "file_extension": ".py",
   "mimetype": "text/x-python",
   "name": "python",
   "nbconvert_exporter": "python",
   "pygments_lexer": "ipython3",
   "version": "3.11.4"
  }
 },
 "nbformat": 4,
 "nbformat_minor": 5
}
