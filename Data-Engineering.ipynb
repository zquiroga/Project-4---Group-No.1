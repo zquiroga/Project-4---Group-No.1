{
 "cells": [
  {
   "cell_type": "code",
   "execution_count": 1,
   "id": "fa9f96d3-30c2-4af4-9672-65a7a1ed05d7",
   "metadata": {
    "tags": []
   },
   "outputs": [],
   "source": [
    "import pandas as pd\n",
    "import numpy as np\n",
    "import pickle\n",
    "import joblib\n",
    "\n",
    "import warnings\n",
    "warnings.filterwarnings('ignore')\n",
    "\n",
    "#Scikit-Learn\n",
    "from sklearn.model_selection import train_test_split\n",
    "from sklearn.linear_model import LinearRegression\n",
    "from sklearn.preprocessing import LabelEncoder\n",
    "from sklearn.tree import DecisionTreeRegressor\n",
    "from sklearn.ensemble import RandomForestRegressor\n",
    "\n",
    "# Evaluation\n",
    "from sklearn.metrics import r2_score # R2\n",
    "from sklearn.metrics import mean_squared_error # RMSE\n",
    "\n",
    "# Data Visualisation\n",
    "import matplotlib.pyplot as plt \n",
    "import seaborn as sns\n"
   ]
  },
  {
   "cell_type": "code",
   "execution_count": 2,
   "id": "35f6c69d-88ff-4415-85fe-3eb6eadd008e",
   "metadata": {
    "tags": []
   },
   "outputs": [
    {
     "data": {
      "text/html": [
       "<div>\n",
       "<style scoped>\n",
       "    .dataframe tbody tr th:only-of-type {\n",
       "        vertical-align: middle;\n",
       "    }\n",
       "\n",
       "    .dataframe tbody tr th {\n",
       "        vertical-align: top;\n",
       "    }\n",
       "\n",
       "    .dataframe thead th {\n",
       "        text-align: right;\n",
       "    }\n",
       "</style>\n",
       "<table border=\"1\" class=\"dataframe\">\n",
       "  <thead>\n",
       "    <tr style=\"text-align: right;\">\n",
       "      <th></th>\n",
       "      <th>Brand</th>\n",
       "      <th>Year</th>\n",
       "      <th>Model</th>\n",
       "      <th>Car/Suv</th>\n",
       "      <th>Title</th>\n",
       "      <th>UsedOrNew</th>\n",
       "      <th>Transmission</th>\n",
       "      <th>Engine</th>\n",
       "      <th>DriveType</th>\n",
       "      <th>FuelType</th>\n",
       "      <th>FuelConsumption</th>\n",
       "      <th>Kilometres</th>\n",
       "      <th>ColourExtInt</th>\n",
       "      <th>Location</th>\n",
       "      <th>CylindersinEngine</th>\n",
       "      <th>BodyType</th>\n",
       "      <th>Doors</th>\n",
       "      <th>Seats</th>\n",
       "      <th>Price</th>\n",
       "    </tr>\n",
       "  </thead>\n",
       "  <tbody>\n",
       "    <tr>\n",
       "      <th>0</th>\n",
       "      <td>Ssangyong</td>\n",
       "      <td>2022.0</td>\n",
       "      <td>Rexton</td>\n",
       "      <td>Sutherland Isuzu Ute</td>\n",
       "      <td>2022 Ssangyong Rexton Ultimate (awd)</td>\n",
       "      <td>DEMO</td>\n",
       "      <td>Automatic</td>\n",
       "      <td>4 cyl, 2.2 L</td>\n",
       "      <td>AWD</td>\n",
       "      <td>Diesel</td>\n",
       "      <td>8.7 L / 100 km</td>\n",
       "      <td>5595</td>\n",
       "      <td>White / Black</td>\n",
       "      <td>Caringbah, NSW</td>\n",
       "      <td>4 cyl</td>\n",
       "      <td>SUV</td>\n",
       "      <td>4 Doors</td>\n",
       "      <td>7 Seats</td>\n",
       "      <td>51990</td>\n",
       "    </tr>\n",
       "    <tr>\n",
       "      <th>1</th>\n",
       "      <td>MG</td>\n",
       "      <td>2022.0</td>\n",
       "      <td>MG3</td>\n",
       "      <td>Hatchback</td>\n",
       "      <td>2022 MG MG3 Auto Excite (with Navigation)</td>\n",
       "      <td>USED</td>\n",
       "      <td>Automatic</td>\n",
       "      <td>4 cyl, 1.5 L</td>\n",
       "      <td>Front</td>\n",
       "      <td>Premium</td>\n",
       "      <td>6.7 L / 100 km</td>\n",
       "      <td>16</td>\n",
       "      <td>Black / Black</td>\n",
       "      <td>Brookvale, NSW</td>\n",
       "      <td>4 cyl</td>\n",
       "      <td>Hatchback</td>\n",
       "      <td>5 Doors</td>\n",
       "      <td>5 Seats</td>\n",
       "      <td>19990</td>\n",
       "    </tr>\n",
       "    <tr>\n",
       "      <th>2</th>\n",
       "      <td>BMW</td>\n",
       "      <td>2022.0</td>\n",
       "      <td>430I</td>\n",
       "      <td>Coupe</td>\n",
       "      <td>2022 BMW 430I M Sport</td>\n",
       "      <td>USED</td>\n",
       "      <td>Automatic</td>\n",
       "      <td>4 cyl, 2 L</td>\n",
       "      <td>Rear</td>\n",
       "      <td>Premium</td>\n",
       "      <td>6.6 L / 100 km</td>\n",
       "      <td>8472</td>\n",
       "      <td>Grey / White</td>\n",
       "      <td>Sylvania, NSW</td>\n",
       "      <td>4 cyl</td>\n",
       "      <td>Coupe</td>\n",
       "      <td>2 Doors</td>\n",
       "      <td>4 Seats</td>\n",
       "      <td>108988</td>\n",
       "    </tr>\n",
       "    <tr>\n",
       "      <th>3</th>\n",
       "      <td>Mercedes-Benz</td>\n",
       "      <td>2011.0</td>\n",
       "      <td>E500</td>\n",
       "      <td>Coupe</td>\n",
       "      <td>2011 Mercedes-Benz E500 Elegance</td>\n",
       "      <td>USED</td>\n",
       "      <td>Automatic</td>\n",
       "      <td>8 cyl, 5.5 L</td>\n",
       "      <td>Rear</td>\n",
       "      <td>Premium</td>\n",
       "      <td>11 L / 100 km</td>\n",
       "      <td>136517</td>\n",
       "      <td>White / Brown</td>\n",
       "      <td>Mount Druitt, NSW</td>\n",
       "      <td>8 cyl</td>\n",
       "      <td>Coupe</td>\n",
       "      <td>2 Doors</td>\n",
       "      <td>4 Seats</td>\n",
       "      <td>32990</td>\n",
       "    </tr>\n",
       "    <tr>\n",
       "      <th>4</th>\n",
       "      <td>Renault</td>\n",
       "      <td>2022.0</td>\n",
       "      <td>Arkana</td>\n",
       "      <td>SUV</td>\n",
       "      <td>2022 Renault Arkana Intens</td>\n",
       "      <td>USED</td>\n",
       "      <td>Automatic</td>\n",
       "      <td>4 cyl, 1.3 L</td>\n",
       "      <td>Front</td>\n",
       "      <td>Unleaded</td>\n",
       "      <td>6 L / 100 km</td>\n",
       "      <td>1035</td>\n",
       "      <td>Grey / Black</td>\n",
       "      <td>Castle Hill, NSW</td>\n",
       "      <td>4 cyl</td>\n",
       "      <td>SUV</td>\n",
       "      <td>4 Doors</td>\n",
       "      <td>5 Seats</td>\n",
       "      <td>34990</td>\n",
       "    </tr>\n",
       "  </tbody>\n",
       "</table>\n",
       "</div>"
      ],
      "text/plain": [
       "           Brand    Year   Model               Car/Suv  \\\n",
       "0      Ssangyong  2022.0  Rexton  Sutherland Isuzu Ute   \n",
       "1             MG  2022.0     MG3             Hatchback   \n",
       "2            BMW  2022.0    430I                 Coupe   \n",
       "3  Mercedes-Benz  2011.0    E500                 Coupe   \n",
       "4        Renault  2022.0  Arkana                   SUV   \n",
       "\n",
       "                                       Title UsedOrNew Transmission  \\\n",
       "0       2022 Ssangyong Rexton Ultimate (awd)      DEMO    Automatic   \n",
       "1  2022 MG MG3 Auto Excite (with Navigation)      USED    Automatic   \n",
       "2                      2022 BMW 430I M Sport      USED    Automatic   \n",
       "3           2011 Mercedes-Benz E500 Elegance      USED    Automatic   \n",
       "4                 2022 Renault Arkana Intens      USED    Automatic   \n",
       "\n",
       "         Engine DriveType  FuelType FuelConsumption Kilometres   ColourExtInt  \\\n",
       "0  4 cyl, 2.2 L       AWD    Diesel  8.7 L / 100 km       5595  White / Black   \n",
       "1  4 cyl, 1.5 L     Front   Premium  6.7 L / 100 km         16  Black / Black   \n",
       "2    4 cyl, 2 L      Rear   Premium  6.6 L / 100 km       8472   Grey / White   \n",
       "3  8 cyl, 5.5 L      Rear   Premium   11 L / 100 km     136517  White / Brown   \n",
       "4  4 cyl, 1.3 L     Front  Unleaded    6 L / 100 km       1035   Grey / Black   \n",
       "\n",
       "            Location CylindersinEngine   BodyType     Doors     Seats   Price  \n",
       "0     Caringbah, NSW             4 cyl        SUV   4 Doors   7 Seats   51990  \n",
       "1     Brookvale, NSW             4 cyl  Hatchback   5 Doors   5 Seats   19990  \n",
       "2      Sylvania, NSW             4 cyl      Coupe   2 Doors   4 Seats  108988  \n",
       "3  Mount Druitt, NSW             8 cyl      Coupe   2 Doors   4 Seats   32990  \n",
       "4   Castle Hill, NSW             4 cyl        SUV   4 Doors   5 Seats   34990  "
      ]
     },
     "execution_count": 2,
     "metadata": {},
     "output_type": "execute_result"
    }
   ],
   "source": [
    "#  Import and read Australian Vehicle Prices.csv\n",
    "Vehicleprices_df = pd.read_csv(\"Resources/Australian_Vehicle_Prices.csv\")\n",
    "Vehicleprices_df.head()"
   ]
  },
  {
   "cell_type": "code",
   "execution_count": 3,
   "id": "78692c0e-a6eb-4356-8895-771de02b8119",
   "metadata": {
    "tags": []
   },
   "outputs": [
    {
     "data": {
      "text/html": [
       "<div>\n",
       "<style scoped>\n",
       "    .dataframe tbody tr th:only-of-type {\n",
       "        vertical-align: middle;\n",
       "    }\n",
       "\n",
       "    .dataframe tbody tr th {\n",
       "        vertical-align: top;\n",
       "    }\n",
       "\n",
       "    .dataframe thead th {\n",
       "        text-align: right;\n",
       "    }\n",
       "</style>\n",
       "<table border=\"1\" class=\"dataframe\">\n",
       "  <thead>\n",
       "    <tr style=\"text-align: right;\">\n",
       "      <th></th>\n",
       "      <th>Brand</th>\n",
       "      <th>Year</th>\n",
       "      <th>Model</th>\n",
       "      <th>Car/Suv</th>\n",
       "      <th>Title</th>\n",
       "      <th>UsedOrNew</th>\n",
       "      <th>Transmission</th>\n",
       "      <th>Engine</th>\n",
       "      <th>DriveType</th>\n",
       "      <th>FuelType</th>\n",
       "      <th>FuelConsumption</th>\n",
       "      <th>Kilometres</th>\n",
       "      <th>ColourExtInt</th>\n",
       "      <th>Location</th>\n",
       "      <th>CylindersinEngine</th>\n",
       "      <th>BodyType</th>\n",
       "      <th>Doors</th>\n",
       "      <th>Seats</th>\n",
       "      <th>Price</th>\n",
       "    </tr>\n",
       "  </thead>\n",
       "  <tbody>\n",
       "    <tr>\n",
       "      <th>16729</th>\n",
       "      <td>Toyota</td>\n",
       "      <td>2014.0</td>\n",
       "      <td>Alphard</td>\n",
       "      <td>SYC Cars</td>\n",
       "      <td>2014 Toyota Alphard</td>\n",
       "      <td>USED</td>\n",
       "      <td>Automatic</td>\n",
       "      <td>-</td>\n",
       "      <td>Front</td>\n",
       "      <td>Unleaded</td>\n",
       "      <td>-</td>\n",
       "      <td>66000</td>\n",
       "      <td>Grey / -</td>\n",
       "      <td>Rocklea, QLD</td>\n",
       "      <td>-</td>\n",
       "      <td>Commercial</td>\n",
       "      <td>7 Seats</td>\n",
       "      <td>NaN</td>\n",
       "      <td>29500</td>\n",
       "    </tr>\n",
       "    <tr>\n",
       "      <th>16730</th>\n",
       "      <td>Mercedes-Benz</td>\n",
       "      <td>2012.0</td>\n",
       "      <td>S-Class</td>\n",
       "      <td>USED Dealer ad</td>\n",
       "      <td>2012 Mercedes-Benz S-Class CDI BlueTEC</td>\n",
       "      <td>USED</td>\n",
       "      <td>Automatic</td>\n",
       "      <td>-</td>\n",
       "      <td>Rear</td>\n",
       "      <td>Diesel</td>\n",
       "      <td>-</td>\n",
       "      <td>117432</td>\n",
       "      <td>Silver / -</td>\n",
       "      <td>Port Melbourne, VIC</td>\n",
       "      <td>-</td>\n",
       "      <td>NaN</td>\n",
       "      <td>NaN</td>\n",
       "      <td>NaN</td>\n",
       "      <td>39888</td>\n",
       "    </tr>\n",
       "    <tr>\n",
       "      <th>16731</th>\n",
       "      <td>Suzuki</td>\n",
       "      <td>2022.0</td>\n",
       "      <td>Vitara</td>\n",
       "      <td>Bremer Suzuki - New</td>\n",
       "      <td>2022 Suzuki Vitara 1.6L</td>\n",
       "      <td>DEMO</td>\n",
       "      <td>Automatic</td>\n",
       "      <td>4 cyl, 1.6 L</td>\n",
       "      <td>Front</td>\n",
       "      <td>Unleaded</td>\n",
       "      <td>6.2 L / 100 km</td>\n",
       "      <td>5165</td>\n",
       "      <td>Yellow / -</td>\n",
       "      <td>Dinmore, QLD</td>\n",
       "      <td>4 cyl</td>\n",
       "      <td>SUV</td>\n",
       "      <td>4 Doors</td>\n",
       "      <td>5 Seats</td>\n",
       "      <td>35280</td>\n",
       "    </tr>\n",
       "    <tr>\n",
       "      <th>16732</th>\n",
       "      <td>Mercedes-Benz</td>\n",
       "      <td>2016.0</td>\n",
       "      <td>GLC250</td>\n",
       "      <td>SUV</td>\n",
       "      <td>2016 Mercedes-Benz GLC250</td>\n",
       "      <td>USED</td>\n",
       "      <td>Automatic</td>\n",
       "      <td>4 cyl, 2 L</td>\n",
       "      <td>AWD</td>\n",
       "      <td>Premium</td>\n",
       "      <td>7.2 L / 100 km</td>\n",
       "      <td>85525</td>\n",
       "      <td>Grey / Black</td>\n",
       "      <td>Albion, QLD</td>\n",
       "      <td>4 cyl</td>\n",
       "      <td>SUV</td>\n",
       "      <td>4 Doors</td>\n",
       "      <td>5 Seats</td>\n",
       "      <td>41888</td>\n",
       "    </tr>\n",
       "    <tr>\n",
       "      <th>16733</th>\n",
       "      <td>Mercedes-Benz</td>\n",
       "      <td>2021.0</td>\n",
       "      <td>C200</td>\n",
       "      <td>Sedan</td>\n",
       "      <td>2021 Mercedes-Benz C200</td>\n",
       "      <td>USED</td>\n",
       "      <td>Automatic</td>\n",
       "      <td>4 cyl, 2 L</td>\n",
       "      <td>Rear</td>\n",
       "      <td>Unleaded</td>\n",
       "      <td>7 L / 100 km</td>\n",
       "      <td>31852</td>\n",
       "      <td>Gold / -</td>\n",
       "      <td>Yatala, QLD</td>\n",
       "      <td>4 cyl</td>\n",
       "      <td>Sedan</td>\n",
       "      <td>4 Doors</td>\n",
       "      <td>5 Seats</td>\n",
       "      <td>65888</td>\n",
       "    </tr>\n",
       "  </tbody>\n",
       "</table>\n",
       "</div>"
      ],
      "text/plain": [
       "               Brand    Year    Model              Car/Suv  \\\n",
       "16729         Toyota  2014.0  Alphard             SYC Cars   \n",
       "16730  Mercedes-Benz  2012.0  S-Class       USED Dealer ad   \n",
       "16731         Suzuki  2022.0   Vitara  Bremer Suzuki - New   \n",
       "16732  Mercedes-Benz  2016.0   GLC250                  SUV   \n",
       "16733  Mercedes-Benz  2021.0     C200                Sedan   \n",
       "\n",
       "                                        Title UsedOrNew Transmission  \\\n",
       "16729                     2014 Toyota Alphard      USED    Automatic   \n",
       "16730  2012 Mercedes-Benz S-Class CDI BlueTEC      USED    Automatic   \n",
       "16731                 2022 Suzuki Vitara 1.6L      DEMO    Automatic   \n",
       "16732               2016 Mercedes-Benz GLC250      USED    Automatic   \n",
       "16733                 2021 Mercedes-Benz C200      USED    Automatic   \n",
       "\n",
       "             Engine DriveType  FuelType FuelConsumption Kilometres  \\\n",
       "16729             -     Front  Unleaded               -      66000   \n",
       "16730             -      Rear    Diesel               -     117432   \n",
       "16731  4 cyl, 1.6 L     Front  Unleaded  6.2 L / 100 km       5165   \n",
       "16732    4 cyl, 2 L       AWD   Premium  7.2 L / 100 km      85525   \n",
       "16733    4 cyl, 2 L      Rear  Unleaded    7 L / 100 km      31852   \n",
       "\n",
       "       ColourExtInt             Location CylindersinEngine    BodyType  \\\n",
       "16729      Grey / -         Rocklea, QLD                 -  Commercial   \n",
       "16730    Silver / -  Port Melbourne, VIC                 -         NaN   \n",
       "16731    Yellow / -         Dinmore, QLD             4 cyl         SUV   \n",
       "16732  Grey / Black          Albion, QLD             4 cyl         SUV   \n",
       "16733      Gold / -          Yatala, QLD             4 cyl       Sedan   \n",
       "\n",
       "          Doors     Seats  Price  \n",
       "16729   7 Seats       NaN  29500  \n",
       "16730       NaN       NaN  39888  \n",
       "16731   4 Doors   5 Seats  35280  \n",
       "16732   4 Doors   5 Seats  41888  \n",
       "16733   4 Doors   5 Seats  65888  "
      ]
     },
     "execution_count": 3,
     "metadata": {},
     "output_type": "execute_result"
    }
   ],
   "source": [
    "# Copying original dataset\n",
    "dataset = Vehicleprices_df.copy()\n",
    "dataset.tail()"
   ]
  },
  {
   "cell_type": "code",
   "execution_count": 4,
   "id": "3d02e1bd-bc18-4d43-ab0d-b2880c1bccf5",
   "metadata": {
    "tags": []
   },
   "outputs": [
    {
     "name": "stdout",
     "output_type": "stream",
     "text": [
      "<class 'pandas.core.frame.DataFrame'>\n",
      "Int64Index: 13940 entries, 0 to 13957\n",
      "Data columns (total 9 columns):\n",
      " #   Column        Non-Null Count  Dtype  \n",
      "---  ------        --------------  -----  \n",
      " 0   Brand         13940 non-null  object \n",
      " 1   Year          13940 non-null  int32  \n",
      " 2   Model         13940 non-null  object \n",
      " 3   UsedOrNew     13940 non-null  object \n",
      " 4   Transmission  13940 non-null  object \n",
      " 5   Kilometres    13940 non-null  int32  \n",
      " 6   Price         13940 non-null  int32  \n",
      " 7   State         13940 non-null  object \n",
      " 8   Litres        13940 non-null  float32\n",
      "dtypes: float32(1), int32(3), object(5)\n",
      "memory usage: 871.2+ KB\n",
      "None\n"
     ]
    },
    {
     "data": {
      "text/html": [
       "<div>\n",
       "<style scoped>\n",
       "    .dataframe tbody tr th:only-of-type {\n",
       "        vertical-align: middle;\n",
       "    }\n",
       "\n",
       "    .dataframe tbody tr th {\n",
       "        vertical-align: top;\n",
       "    }\n",
       "\n",
       "    .dataframe thead th {\n",
       "        text-align: right;\n",
       "    }\n",
       "</style>\n",
       "<table border=\"1\" class=\"dataframe\">\n",
       "  <thead>\n",
       "    <tr style=\"text-align: right;\">\n",
       "      <th></th>\n",
       "      <th>Brand</th>\n",
       "      <th>Year</th>\n",
       "      <th>Model</th>\n",
       "      <th>UsedOrNew</th>\n",
       "      <th>Transmission</th>\n",
       "      <th>Kilometres</th>\n",
       "      <th>Price</th>\n",
       "      <th>State</th>\n",
       "      <th>Litres</th>\n",
       "    </tr>\n",
       "  </thead>\n",
       "  <tbody>\n",
       "    <tr>\n",
       "      <th>13953</th>\n",
       "      <td>Nissan</td>\n",
       "      <td>2009</td>\n",
       "      <td>Navara</td>\n",
       "      <td>USED</td>\n",
       "      <td>Automatic</td>\n",
       "      <td>182254</td>\n",
       "      <td>16000</td>\n",
       "      <td>VIC</td>\n",
       "      <td>2.5</td>\n",
       "    </tr>\n",
       "    <tr>\n",
       "      <th>13954</th>\n",
       "      <td>Hyundai</td>\n",
       "      <td>2015</td>\n",
       "      <td>I30</td>\n",
       "      <td>USED</td>\n",
       "      <td>Automatic</td>\n",
       "      <td>54359</td>\n",
       "      <td>21450</td>\n",
       "      <td>VIC</td>\n",
       "      <td>1.6</td>\n",
       "    </tr>\n",
       "    <tr>\n",
       "      <th>13955</th>\n",
       "      <td>Nissan</td>\n",
       "      <td>2021</td>\n",
       "      <td>Qashqai</td>\n",
       "      <td>USED</td>\n",
       "      <td>Automatic</td>\n",
       "      <td>32977</td>\n",
       "      <td>36770</td>\n",
       "      <td>QLD</td>\n",
       "      <td>2.0</td>\n",
       "    </tr>\n",
       "    <tr>\n",
       "      <th>13956</th>\n",
       "      <td>Mercedes-Benz</td>\n",
       "      <td>2016</td>\n",
       "      <td>GLC250</td>\n",
       "      <td>USED</td>\n",
       "      <td>Automatic</td>\n",
       "      <td>85525</td>\n",
       "      <td>41888</td>\n",
       "      <td>QLD</td>\n",
       "      <td>2.0</td>\n",
       "    </tr>\n",
       "    <tr>\n",
       "      <th>13957</th>\n",
       "      <td>Mercedes-Benz</td>\n",
       "      <td>2021</td>\n",
       "      <td>C200</td>\n",
       "      <td>USED</td>\n",
       "      <td>Automatic</td>\n",
       "      <td>31852</td>\n",
       "      <td>65888</td>\n",
       "      <td>QLD</td>\n",
       "      <td>2.0</td>\n",
       "    </tr>\n",
       "  </tbody>\n",
       "</table>\n",
       "</div>"
      ],
      "text/plain": [
       "               Brand  Year    Model UsedOrNew Transmission  Kilometres  Price  \\\n",
       "13953         Nissan  2009   Navara      USED    Automatic      182254  16000   \n",
       "13954        Hyundai  2015      I30      USED    Automatic       54359  21450   \n",
       "13955         Nissan  2021  Qashqai      USED    Automatic       32977  36770   \n",
       "13956  Mercedes-Benz  2016   GLC250      USED    Automatic       85525  41888   \n",
       "13957  Mercedes-Benz  2021     C200      USED    Automatic       31852  65888   \n",
       "\n",
       "      State  Litres  \n",
       "13953   VIC     2.5  \n",
       "13954   VIC     1.6  \n",
       "13955   QLD     2.0  \n",
       "13956   QLD     2.0  \n",
       "13957   QLD     2.0  "
      ]
     },
     "execution_count": 4,
     "metadata": {},
     "output_type": "execute_result"
    }
   ],
   "source": [
    "# CLEANING DATASET\n",
    "\n",
    "# Extracting information needed from columns\n",
    "pattern = r',(.*)'\n",
    "dataset['State'] = dataset['Location'].str.extract(pattern)# Extrating state from location column\n",
    "dataset['Litres'] = dataset['Engine'].str.extract(pattern) # Extrating litres from engine column\n",
    "dataset['Litres'] = dataset['Litres'].str.strip()\n",
    "pattern_1 = r'^(.*?) '\n",
    "dataset['Litres'] = dataset['Litres'].str.extract(pattern_1) # Extrating litres from engine column\n",
    "dataset['State'] = dataset['State'].str.strip()\n",
    "\n",
    "# Drop Columns that are not going to be used\n",
    "columns_to_drop = ['Seats','Doors','ColourExtInt','DriveType','Title','FuelConsumption','FuelType','Location','Engine','CylindersinEngine','Car/Suv', 'BodyType']\n",
    "dataset = dataset.drop(columns=columns_to_drop)\n",
    "\n",
    "# Dropping rows with values irrelevant to this application\n",
    "dataset = dataset[dataset['UsedOrNew'] != 'DEMO']\n",
    "dataset = dataset[dataset['Transmission'] != '-']\n",
    "dataset = dataset[(dataset['Kilometres'] != '- / -') & (dataset['Kilometres'] != '-')]\n",
    "dataset = dataset[dataset['Price'] != 'POA']\n",
    "states_to_keep = ['NSW', 'VIC', 'QLD', 'WA', 'SA', 'ACT', 'TAS', 'NT']\n",
    "dataset = dataset[dataset['State'].isin(states_to_keep)]\n",
    "\n",
    "# Dropping rows with null values\n",
    "dataset = dataset.dropna()\n",
    "dataset = dataset.reset_index(drop=True)\n",
    "\n",
    "# Changing format of year to integer\n",
    "dataset['Year'] = dataset['Year'].astype(int)\n",
    "dataset['Kilometres'] = dataset['Kilometres'].astype(int)\n",
    "dataset['Price'] = dataset['Price'].astype(int)\n",
    "dataset['Litres'] = dataset['Litres'].astype(np.float32)\n",
    "\n",
    "# Dropping more rows with values irrelevant to this application\n",
    "dataset = dataset[dataset['Price'] > 3000]\n",
    "\n",
    "# Printing results\n",
    "print(dataset.info())\n",
    "dataset.tail()"
   ]
  },
  {
   "cell_type": "code",
   "execution_count": 5,
   "id": "cb084499-5004-4377-9e1e-6166fd3051fc",
   "metadata": {
    "tags": []
   },
   "outputs": [
    {
     "data": {
      "image/png": "[encoded data removed]",
      "text/plain": [
       "<Figure size 2500x2500 with 4 Axes>"
      ]
     },
     "metadata": {},
     "output_type": "display_data"
    }
   ],
   "source": [
    "# Plotting boxplots\n",
    "fig, axs = plt.subplots(4,1, figsize = (25,25))\n",
    "plt_price = sns.boxplot(dataset['Price'], ax = axs[0])\n",
    "plt_litres = sns.boxplot(dataset['Litres'], ax = axs[1])\n",
    "plt_kilometres = sns.boxplot(dataset['Kilometres'], ax = axs[2])\n",
    "plt_year = sns.boxplot(dataset['Year'], ax = axs[3])\n",
    "plt.show()"
   ]
  },
  {
   "cell_type": "code",
   "execution_count": 6,
   "id": "a26a8a8f-3604-4ec8-b9c4-a6c75f990423",
   "metadata": {
    "tags": []
   },
   "outputs": [],
   "source": [
    "# Removing outliers\n",
    "Q1 = dataset.Price.quantile(0.25)\n",
    "Q3 = dataset.Price.quantile(0.75)\n",
    "IQR = Q3 - Q1\n",
    "dataset = dataset[(dataset.Price >= Q1 - 1.5*IQR) & (dataset.Price <= Q3 + 1.5*IQR)]"
   ]
  },
  {
   "cell_type": "code",
   "execution_count": 7,
   "id": "68a04051-0b77-484d-9479-049da53b70bf",
   "metadata": {
    "tags": []
   },
   "outputs": [
    {
     "data": {
      "text/html": [
       "<div>\n",
       "<style scoped>\n",
       "    .dataframe tbody tr th:only-of-type {\n",
       "        vertical-align: middle;\n",
       "    }\n",
       "\n",
       "    .dataframe tbody tr th {\n",
       "        vertical-align: top;\n",
       "    }\n",
       "\n",
       "    .dataframe thead th {\n",
       "        text-align: right;\n",
       "    }\n",
       "</style>\n",
       "<table border=\"1\" class=\"dataframe\">\n",
       "  <thead>\n",
       "    <tr style=\"text-align: right;\">\n",
       "      <th></th>\n",
       "      <th>index</th>\n",
       "      <th>State</th>\n",
       "    </tr>\n",
       "  </thead>\n",
       "  <tbody>\n",
       "    <tr>\n",
       "      <th>0</th>\n",
       "      <td>NSW</td>\n",
       "      <td>5076</td>\n",
       "    </tr>\n",
       "    <tr>\n",
       "      <th>1</th>\n",
       "      <td>VIC</td>\n",
       "      <td>3136</td>\n",
       "    </tr>\n",
       "    <tr>\n",
       "      <th>2</th>\n",
       "      <td>QLD</td>\n",
       "      <td>2259</td>\n",
       "    </tr>\n",
       "    <tr>\n",
       "      <th>3</th>\n",
       "      <td>WA</td>\n",
       "      <td>1490</td>\n",
       "    </tr>\n",
       "    <tr>\n",
       "      <th>4</th>\n",
       "      <td>SA</td>\n",
       "      <td>708</td>\n",
       "    </tr>\n",
       "    <tr>\n",
       "      <th>5</th>\n",
       "      <td>ACT</td>\n",
       "      <td>334</td>\n",
       "    </tr>\n",
       "    <tr>\n",
       "      <th>6</th>\n",
       "      <td>TAS</td>\n",
       "      <td>185</td>\n",
       "    </tr>\n",
       "    <tr>\n",
       "      <th>7</th>\n",
       "      <td>NT</td>\n",
       "      <td>63</td>\n",
       "    </tr>\n",
       "  </tbody>\n",
       "</table>\n",
       "</div>"
      ],
      "text/plain": [
       "  index  State\n",
       "0   NSW   5076\n",
       "1   VIC   3136\n",
       "2   QLD   2259\n",
       "3    WA   1490\n",
       "4    SA    708\n",
       "5   ACT    334\n",
       "6   TAS    185\n",
       "7    NT     63"
      ]
     },
     "execution_count": 7,
     "metadata": {},
     "output_type": "execute_result"
    }
   ],
   "source": [
    "# Look at State value counts for binning\n",
    "States = dataset['State'].value_counts().reset_index()\n",
    "States.head(10) "
   ]
  },
  {
   "cell_type": "code",
   "execution_count": 8,
   "id": "b8434723-b932-4b9d-938c-ab9d13770a62",
   "metadata": {
    "tags": []
   },
   "outputs": [],
   "source": [
    "# Choose a cutoff value and create a list of States to be replaced\n",
    "States_to_replace = []\n",
    "\n",
    "States_to_replace = States[States['State'] <=200]['index']\n",
    "\n",
    "# Replace in dataframe\n",
    "for States in States_to_replace:\n",
    "    dataset['State'] = dataset['State'].replace(States,\"Other\")\n",
    "    \n",
    "# Save DataFrame on CSV to use on explorer page    \n",
    "dataset.to_csv('Resources/cleaned_dataset.csv', index=False)"
   ]
  },
  {
   "cell_type": "code",
   "execution_count": 9,
   "id": "bcc6beb1-491c-4d5b-b7ef-e00011ce890c",
   "metadata": {
    "tags": []
   },
   "outputs": [
    {
     "data": {
      "text/plain": [
       "NSW      5076\n",
       "VIC      3136\n",
       "QLD      2259\n",
       "WA       1490\n",
       "SA        708\n",
       "ACT       334\n",
       "Other     248\n",
       "Name: State, dtype: int64"
      ]
     },
     "execution_count": 9,
     "metadata": {},
     "output_type": "execute_result"
    }
   ],
   "source": [
    "States = dataset['State'].value_counts()\n",
    "States.head(10) "
   ]
  },
  {
   "cell_type": "code",
   "execution_count": 10,
   "id": "9f050302-7f76-4dee-990b-f36883732a24",
   "metadata": {
    "tags": []
   },
   "outputs": [
    {
     "data": {
      "text/html": [
       "<div>\n",
       "<style scoped>\n",
       "    .dataframe tbody tr th:only-of-type {\n",
       "        vertical-align: middle;\n",
       "    }\n",
       "\n",
       "    .dataframe tbody tr th {\n",
       "        vertical-align: top;\n",
       "    }\n",
       "\n",
       "    .dataframe thead th {\n",
       "        text-align: right;\n",
       "    }\n",
       "</style>\n",
       "<table border=\"1\" class=\"dataframe\">\n",
       "  <thead>\n",
       "    <tr style=\"text-align: right;\">\n",
       "      <th></th>\n",
       "      <th>index</th>\n",
       "      <th>Brand</th>\n",
       "    </tr>\n",
       "  </thead>\n",
       "  <tbody>\n",
       "    <tr>\n",
       "      <th>0</th>\n",
       "      <td>Toyota</td>\n",
       "      <td>2098</td>\n",
       "    </tr>\n",
       "    <tr>\n",
       "      <th>1</th>\n",
       "      <td>Hyundai</td>\n",
       "      <td>1105</td>\n",
       "    </tr>\n",
       "    <tr>\n",
       "      <th>2</th>\n",
       "      <td>Holden</td>\n",
       "      <td>1018</td>\n",
       "    </tr>\n",
       "    <tr>\n",
       "      <th>3</th>\n",
       "      <td>Mazda</td>\n",
       "      <td>988</td>\n",
       "    </tr>\n",
       "    <tr>\n",
       "      <th>4</th>\n",
       "      <td>Ford</td>\n",
       "      <td>945</td>\n",
       "    </tr>\n",
       "    <tr>\n",
       "      <th>5</th>\n",
       "      <td>Mitsubishi</td>\n",
       "      <td>939</td>\n",
       "    </tr>\n",
       "    <tr>\n",
       "      <th>6</th>\n",
       "      <td>Nissan</td>\n",
       "      <td>800</td>\n",
       "    </tr>\n",
       "    <tr>\n",
       "      <th>7</th>\n",
       "      <td>Kia</td>\n",
       "      <td>755</td>\n",
       "    </tr>\n",
       "    <tr>\n",
       "      <th>8</th>\n",
       "      <td>Volkswagen</td>\n",
       "      <td>672</td>\n",
       "    </tr>\n",
       "    <tr>\n",
       "      <th>9</th>\n",
       "      <td>Subaru</td>\n",
       "      <td>516</td>\n",
       "    </tr>\n",
       "  </tbody>\n",
       "</table>\n",
       "</div>"
      ],
      "text/plain": [
       "        index  Brand\n",
       "0      Toyota   2098\n",
       "1     Hyundai   1105\n",
       "2      Holden   1018\n",
       "3       Mazda    988\n",
       "4        Ford    945\n",
       "5  Mitsubishi    939\n",
       "6      Nissan    800\n",
       "7         Kia    755\n",
       "8  Volkswagen    672\n",
       "9      Subaru    516"
      ]
     },
     "execution_count": 10,
     "metadata": {},
     "output_type": "execute_result"
    }
   ],
   "source": [
    "# Look at BRAND value counts for binning\n",
    "Brands = dataset['Brand'].value_counts().reset_index()\n",
    "Brands.head(10) "
   ]
  },
  {
   "cell_type": "code",
   "execution_count": 11,
   "id": "da72c481-cabc-4008-bede-7aa77a6e8ce6",
   "metadata": {
    "tags": []
   },
   "outputs": [
    {
     "data": {
      "text/plain": [
       "Toyota           2098\n",
       "Hyundai          1105\n",
       "Holden           1018\n",
       "Mazda             988\n",
       "Ford              945\n",
       "Mitsubishi        939\n",
       "Nissan            800\n",
       "Kia               755\n",
       "Volkswagen        672\n",
       "Other             628\n",
       "Subaru            516\n",
       "Mercedes-Benz     429\n",
       "BMW               334\n",
       "Audi              329\n",
       "Honda             320\n",
       "Suzuki            235\n",
       "Jeep              234\n",
       "MG                221\n",
       "Isuzu             170\n",
       "Renault           139\n",
       "GWM               128\n",
       "Land              125\n",
       "Lexus             123\n",
       "Name: Brand, dtype: int64"
      ]
     },
     "execution_count": 11,
     "metadata": {},
     "output_type": "execute_result"
    }
   ],
   "source": [
    "# Choose a cutoff value and create a list of Brand types to be replaced\n",
    "Brand_types_to_replace = []\n",
    "\n",
    "Brand_types_to_replace = Brands[Brands['Brand'] <=100]['index']\n",
    "\n",
    "# Replace in dataframe\n",
    "for Brands in Brand_types_to_replace:\n",
    "    dataset['Brand'] = dataset['Brand'].replace(Brands,\"Other\")\n",
    "\n",
    "# Check to make sure binning was successful\n",
    "dataset['Brand'].value_counts()"
   ]
  },
  {
   "cell_type": "code",
   "execution_count": 12,
   "id": "3cb8ed50-4bd5-4652-837e-fc47888811f6",
   "metadata": {
    "tags": []
   },
   "outputs": [],
   "source": [
    "# Getting Brand names for the list to be used on website\n",
    "brand_model = dataset.copy()"
   ]
  },
  {
   "cell_type": "code",
   "execution_count": 13,
   "id": "d48eb58a-05e2-47b6-a645-53aa20ad3455",
   "metadata": {
    "tags": []
   },
   "outputs": [
    {
     "data": {
      "text/plain": [
       "(13251, 9)"
      ]
     },
     "execution_count": 13,
     "metadata": {},
     "output_type": "execute_result"
    }
   ],
   "source": [
    "# checking the number of rows and columns\n",
    "dataset.shape"
   ]
  },
  {
   "cell_type": "code",
   "execution_count": 14,
   "id": "f6cb86d5-3a58-41d4-8fea-c38ee30afc7b",
   "metadata": {
    "tags": []
   },
   "outputs": [
    {
     "data": {
      "text/plain": [
       "Brand           0\n",
       "Year            0\n",
       "Model           0\n",
       "UsedOrNew       0\n",
       "Transmission    0\n",
       "Kilometres      0\n",
       "Price           0\n",
       "State           0\n",
       "Litres          0\n",
       "dtype: int64"
      ]
     },
     "execution_count": 14,
     "metadata": {},
     "output_type": "execute_result"
    }
   ],
   "source": [
    "# checking the number of missing values\n",
    "dataset.isnull().sum()"
   ]
  },
  {
   "cell_type": "code",
   "execution_count": 15,
   "id": "e6804520-b60e-4f83-b650-9a948aefbed2",
   "metadata": {
    "tags": []
   },
   "outputs": [
    {
     "data": {
      "text/plain": [
       "array([0, 1])"
      ]
     },
     "execution_count": 15,
     "metadata": {},
     "output_type": "execute_result"
    }
   ],
   "source": [
    "# Encoding string type columns\n",
    "le_brand = LabelEncoder()\n",
    "dataset['Brand'] = le_brand.fit_transform(dataset['Brand'])\n",
    "dataset['Brand'].unique()\n",
    "\n",
    "le_state = LabelEncoder()\n",
    "dataset['State'] = le_state.fit_transform(dataset['State'])\n",
    "dataset['State'].unique()\n",
    "\n",
    "le_model = LabelEncoder()\n",
    "dataset['Model'] = le_model.fit_transform(dataset['Model'])\n",
    "dataset['Model'].unique()\n",
    "\n",
    "le_used = LabelEncoder()\n",
    "dataset['UsedOrNew'] = le_used.fit_transform(dataset['UsedOrNew'])\n",
    "dataset['UsedOrNew'].unique()\n",
    "\n",
    "le_transmission = LabelEncoder()\n",
    "dataset['Transmission'] = le_transmission.fit_transform(dataset['Transmission'])\n",
    "dataset['Transmission'].unique()"
   ]
  },
  {
   "cell_type": "code",
   "execution_count": 16,
   "id": "83a02a63-1420-46d2-bfa5-c3c99af6e512",
   "metadata": {
    "tags": []
   },
   "outputs": [
    {
     "data": {
      "text/html": [
       "<div>\n",
       "<style scoped>\n",
       "    .dataframe tbody tr th:only-of-type {\n",
       "        vertical-align: middle;\n",
       "    }\n",
       "\n",
       "    .dataframe tbody tr th {\n",
       "        vertical-align: top;\n",
       "    }\n",
       "\n",
       "    .dataframe thead th {\n",
       "        text-align: right;\n",
       "    }\n",
       "</style>\n",
       "<table border=\"1\" class=\"dataframe\">\n",
       "  <thead>\n",
       "    <tr style=\"text-align: right;\">\n",
       "      <th></th>\n",
       "      <th>Brand</th>\n",
       "      <th>Year</th>\n",
       "      <th>Model</th>\n",
       "      <th>UsedOrNew</th>\n",
       "      <th>Transmission</th>\n",
       "      <th>Kilometres</th>\n",
       "      <th>Price</th>\n",
       "      <th>State</th>\n",
       "      <th>Litres</th>\n",
       "    </tr>\n",
       "  </thead>\n",
       "  <tbody>\n",
       "    <tr>\n",
       "      <th>13953</th>\n",
       "      <td>16</td>\n",
       "      <td>2009</td>\n",
       "      <td>377</td>\n",
       "      <td>1</td>\n",
       "      <td>0</td>\n",
       "      <td>182254</td>\n",
       "      <td>16000</td>\n",
       "      <td>5</td>\n",
       "      <td>2.5</td>\n",
       "    </tr>\n",
       "    <tr>\n",
       "      <th>13954</th>\n",
       "      <td>6</td>\n",
       "      <td>2015</td>\n",
       "      <td>291</td>\n",
       "      <td>1</td>\n",
       "      <td>0</td>\n",
       "      <td>54359</td>\n",
       "      <td>21450</td>\n",
       "      <td>5</td>\n",
       "      <td>1.6</td>\n",
       "    </tr>\n",
       "    <tr>\n",
       "      <th>13955</th>\n",
       "      <td>16</td>\n",
       "      <td>2021</td>\n",
       "      <td>411</td>\n",
       "      <td>1</td>\n",
       "      <td>0</td>\n",
       "      <td>32977</td>\n",
       "      <td>36770</td>\n",
       "      <td>3</td>\n",
       "      <td>2.0</td>\n",
       "    </tr>\n",
       "    <tr>\n",
       "      <th>13956</th>\n",
       "      <td>14</td>\n",
       "      <td>2016</td>\n",
       "      <td>256</td>\n",
       "      <td>1</td>\n",
       "      <td>0</td>\n",
       "      <td>85525</td>\n",
       "      <td>41888</td>\n",
       "      <td>3</td>\n",
       "      <td>2.0</td>\n",
       "    </tr>\n",
       "    <tr>\n",
       "      <th>13957</th>\n",
       "      <td>14</td>\n",
       "      <td>2021</td>\n",
       "      <td>117</td>\n",
       "      <td>1</td>\n",
       "      <td>0</td>\n",
       "      <td>31852</td>\n",
       "      <td>65888</td>\n",
       "      <td>3</td>\n",
       "      <td>2.0</td>\n",
       "    </tr>\n",
       "  </tbody>\n",
       "</table>\n",
       "</div>"
      ],
      "text/plain": [
       "       Brand  Year  Model  UsedOrNew  Transmission  Kilometres  Price  State  \\\n",
       "13953     16  2009    377          1             0      182254  16000      5   \n",
       "13954      6  2015    291          1             0       54359  21450      5   \n",
       "13955     16  2021    411          1             0       32977  36770      3   \n",
       "13956     14  2016    256          1             0       85525  41888      3   \n",
       "13957     14  2021    117          1             0       31852  65888      3   \n",
       "\n",
       "       Litres  \n",
       "13953     2.5  \n",
       "13954     1.6  \n",
       "13955     2.0  \n",
       "13956     2.0  \n",
       "13957     2.0  "
      ]
     },
     "execution_count": 16,
     "metadata": {},
     "output_type": "execute_result"
    }
   ],
   "source": [
    "dataset.tail()"
   ]
  },
  {
   "cell_type": "code",
   "execution_count": 17,
   "id": "69f4ffe4-7375-4225-870e-8d4aa6637e85",
   "metadata": {
    "tags": []
   },
   "outputs": [],
   "source": [
    "# Splitting the data and Target\n",
    "X = dataset.drop(['Price'],axis=1)\n",
    "y = dataset['Price']"
   ]
  },
  {
   "cell_type": "code",
   "execution_count": 18,
   "id": "4ba84e26-99ac-4459-8fd8-3f733e5c7371",
   "metadata": {
    "tags": []
   },
   "outputs": [],
   "source": [
    "# Splitting Training and Test data\n",
    "X_train, X_test, y_train, y_test = train_test_split(X, y, test_size=0.2, random_state=42)"
   ]
  },
  {
   "cell_type": "markdown",
   "id": "02cf729c-07a4-4922-92fc-411d6dde5f49",
   "metadata": {},
   "source": [
    "# Model Evaluation\n",
    "## 1.Linear Regression Model"
   ]
  },
  {
   "cell_type": "code",
   "execution_count": 19,
   "id": "84ee7ff6-4d8a-4e81-b182-4cb790e303d4",
   "metadata": {
    "tags": []
   },
   "outputs": [
    {
     "data": {
      "text/html": [
       "<style>#sk-container-id-1 {color: black;background-color: white;}#sk-container-id-1 pre{padding: 0;}#sk-container-id-1 div.sk-toggleable {background-color: white;}#sk-container-id-1 label.sk-toggleable__label {cursor: pointer;display: block;width: 100%;margin-bottom: 0;padding: 0.3em;box-sizing: border-box;text-align: center;}#sk-container-id-1 label.sk-toggleable__label-arrow:before {content: \"▸\";float: left;margin-right: 0.25em;color: #696969;}#sk-container-id-1 label.sk-toggleable__label-arrow:hover:before {color: black;}#sk-container-id-1 div.sk-estimator:hover label.sk-toggleable__label-arrow:before {color: black;}#sk-container-id-1 div.sk-toggleable__content {max-height: 0;max-width: 0;overflow: hidden;text-align: left;background-color: #f0f8ff;}#sk-container-id-1 div.sk-toggleable__content pre {margin: 0.2em;color: black;border-radius: 0.25em;background-color: #f0f8ff;}#sk-container-id-1 input.sk-toggleable__control:checked~div.sk-toggleable__content {max-height: 200px;max-width: 100%;overflow: auto;}#sk-container-id-1 input.sk-toggleable__control:checked~label.sk-toggleable__label-arrow:before {content: \"▾\";}#sk-container-id-1 div.sk-estimator input.sk-toggleable__control:checked~label.sk-toggleable__label {background-color: #d4ebff;}#sk-container-id-1 div.sk-label input.sk-toggleable__control:checked~label.sk-toggleable__label {background-color: #d4ebff;}#sk-container-id-1 input.sk-hidden--visually {border: 0;clip: rect(1px 1px 1px 1px);clip: rect(1px, 1px, 1px, 1px);height: 1px;margin: -1px;overflow: hidden;padding: 0;position: absolute;width: 1px;}#sk-container-id-1 div.sk-estimator {font-family: monospace;background-color: #f0f8ff;border: 1px dotted black;border-radius: 0.25em;box-sizing: border-box;margin-bottom: 0.5em;}#sk-container-id-1 div.sk-estimator:hover {background-color: #d4ebff;}#sk-container-id-1 div.sk-parallel-item::after {content: \"\";width: 100%;border-bottom: 1px solid gray;flex-grow: 1;}#sk-container-id-1 div.sk-label:hover label.sk-toggleable__label {background-color: #d4ebff;}#sk-container-id-1 div.sk-serial::before {content: \"\";position: absolute;border-left: 1px solid gray;box-sizing: border-box;top: 0;bottom: 0;left: 50%;z-index: 0;}#sk-container-id-1 div.sk-serial {display: flex;flex-direction: column;align-items: center;background-color: white;padding-right: 0.2em;padding-left: 0.2em;position: relative;}#sk-container-id-1 div.sk-item {position: relative;z-index: 1;}#sk-container-id-1 div.sk-parallel {display: flex;align-items: stretch;justify-content: center;background-color: white;position: relative;}#sk-container-id-1 div.sk-item::before, #sk-container-id-1 div.sk-parallel-item::before {content: \"\";position: absolute;border-left: 1px solid gray;box-sizing: border-box;top: 0;bottom: 0;left: 50%;z-index: -1;}#sk-container-id-1 div.sk-parallel-item {display: flex;flex-direction: column;z-index: 1;position: relative;background-color: white;}#sk-container-id-1 div.sk-parallel-item:first-child::after {align-self: flex-end;width: 50%;}#sk-container-id-1 div.sk-parallel-item:last-child::after {align-self: flex-start;width: 50%;}#sk-container-id-1 div.sk-parallel-item:only-child::after {width: 0;}#sk-container-id-1 div.sk-dashed-wrapped {border: 1px dashed gray;margin: 0 0.4em 0.5em 0.4em;box-sizing: border-box;padding-bottom: 0.4em;background-color: white;}#sk-container-id-1 div.sk-label label {font-family: monospace;font-weight: bold;display: inline-block;line-height: 1.2em;}#sk-container-id-1 div.sk-label-container {text-align: center;}#sk-container-id-1 div.sk-container {/* jupyter's `normalize.less` sets `[hidden] { display: none; }` but bootstrap.min.css set `[hidden] { display: none !important; }` so we also need the `!important` here to be able to override the default hidden behavior on the sphinx rendered scikit-learn.org. See: https://github.com/scikit-learn/scikit-learn/issues/21755 */display: inline-block !important;position: relative;}#sk-container-id-1 div.sk-text-repr-fallback {display: none;}</style><div id=\"sk-container-id-1\" class=\"sk-top-container\"><div class=\"sk-text-repr-fallback\"><pre>LinearRegression()</pre><b>In a Jupyter environment, please rerun this cell to show the HTML representation or trust the notebook. <br />On GitHub, the HTML representation is unable to render, please try loading this page with nbviewer.org.</b></div><div class=\"sk-container\" hidden><div class=\"sk-item\"><div class=\"sk-estimator sk-toggleable\"><input class=\"sk-toggleable__control sk-hidden--visually\" id=\"sk-estimator-id-1\" type=\"checkbox\" checked><label for=\"sk-estimator-id-1\" class=\"sk-toggleable__label sk-toggleable__label-arrow\">LinearRegression</label><div class=\"sk-toggleable__content\"><pre>LinearRegression()</pre></div></div></div></div></div>"
      ],
      "text/plain": [
       "LinearRegression()"
      ]
     },
     "execution_count": 19,
     "metadata": {},
     "output_type": "execute_result"
    }
   ],
   "source": [
    "# loading the linear regression model\n",
    "linear_reg = LinearRegression()\n",
    "linear_reg.fit(X, y)"
   ]
  },
  {
   "cell_type": "code",
   "execution_count": 20,
   "id": "82c1f22a-9de1-4f05-9944-d6e9929c64fb",
   "metadata": {
    "tags": []
   },
   "outputs": [],
   "source": [
    "# prediction on Training data\n",
    "y_pred = linear_reg.predict(X)"
   ]
  },
  {
   "cell_type": "code",
   "execution_count": 21,
   "id": "98906b47-290d-4933-9111-a486eb772648",
   "metadata": {
    "tags": []
   },
   "outputs": [
    {
     "name": "stdout",
     "output_type": "stream",
     "text": [
      "The score is 0.5742400433785596.\n",
      "The r2 is 0.5742400433785596.\n",
      "The mean squared error is 96622865.27602682.\n",
      "The root mean squared error is 9829.69304078346.\n",
      "The standard deviation is 15064.598088203897.\n"
     ]
    }
   ],
   "source": [
    "# Compute metrics for the linear regression model: score, r2, mse, rmse, std\n",
    "score = linear_reg.score(X, y, sample_weight=None)\n",
    "r2 = r2_score(y, y_pred)\n",
    "mse = mean_squared_error(y, y_pred)\n",
    "rmse = np.sqrt(mse)\n",
    "std = np.std(y)\n",
    "\n",
    "# Print relevant metrics.\n",
    "print(f\"The score is {score}.\")\n",
    "print(f\"The r2 is {r2}.\")\n",
    "print(f\"The mean squared error is {mse}.\")\n",
    "print(f\"The root mean squared error is {rmse}.\")\n",
    "print(f\"The standard deviation is {std}.\")"
   ]
  },
  {
   "cell_type": "markdown",
   "id": "556561bc-d0a7-4f0a-9b6b-00e5e94f81ce",
   "metadata": {},
   "source": [
    "## 2.Decision Tree Regressor Model"
   ]
  },
  {
   "cell_type": "code",
   "execution_count": 22,
   "id": "0d57b262-4487-4b4c-b343-fedf416461d6",
   "metadata": {
    "tags": []
   },
   "outputs": [
    {
     "data": {
      "text/html": [
       "<style>#sk-container-id-2 {color: black;background-color: white;}#sk-container-id-2 pre{padding: 0;}#sk-container-id-2 div.sk-toggleable {background-color: white;}#sk-container-id-2 label.sk-toggleable__label {cursor: pointer;display: block;width: 100%;margin-bottom: 0;padding: 0.3em;box-sizing: border-box;text-align: center;}#sk-container-id-2 label.sk-toggleable__label-arrow:before {content: \"▸\";float: left;margin-right: 0.25em;color: #696969;}#sk-container-id-2 label.sk-toggleable__label-arrow:hover:before {color: black;}#sk-container-id-2 div.sk-estimator:hover label.sk-toggleable__label-arrow:before {color: black;}#sk-container-id-2 div.sk-toggleable__content {max-height: 0;max-width: 0;overflow: hidden;text-align: left;background-color: #f0f8ff;}#sk-container-id-2 div.sk-toggleable__content pre {margin: 0.2em;color: black;border-radius: 0.25em;background-color: #f0f8ff;}#sk-container-id-2 input.sk-toggleable__control:checked~div.sk-toggleable__content {max-height: 200px;max-width: 100%;overflow: auto;}#sk-container-id-2 input.sk-toggleable__control:checked~label.sk-toggleable__label-arrow:before {content: \"▾\";}#sk-container-id-2 div.sk-estimator input.sk-toggleable__control:checked~label.sk-toggleable__label {background-color: #d4ebff;}#sk-container-id-2 div.sk-label input.sk-toggleable__control:checked~label.sk-toggleable__label {background-color: #d4ebff;}#sk-container-id-2 input.sk-hidden--visually {border: 0;clip: rect(1px 1px 1px 1px);clip: rect(1px, 1px, 1px, 1px);height: 1px;margin: -1px;overflow: hidden;padding: 0;position: absolute;width: 1px;}#sk-container-id-2 div.sk-estimator {font-family: monospace;background-color: #f0f8ff;border: 1px dotted black;border-radius: 0.25em;box-sizing: border-box;margin-bottom: 0.5em;}#sk-container-id-2 div.sk-estimator:hover {background-color: #d4ebff;}#sk-container-id-2 div.sk-parallel-item::after {content: \"\";width: 100%;border-bottom: 1px solid gray;flex-grow: 1;}#sk-container-id-2 div.sk-label:hover label.sk-toggleable__label {background-color: #d4ebff;}#sk-container-id-2 div.sk-serial::before {content: \"\";position: absolute;border-left: 1px solid gray;box-sizing: border-box;top: 0;bottom: 0;left: 50%;z-index: 0;}#sk-container-id-2 div.sk-serial {display: flex;flex-direction: column;align-items: center;background-color: white;padding-right: 0.2em;padding-left: 0.2em;position: relative;}#sk-container-id-2 div.sk-item {position: relative;z-index: 1;}#sk-container-id-2 div.sk-parallel {display: flex;align-items: stretch;justify-content: center;background-color: white;position: relative;}#sk-container-id-2 div.sk-item::before, #sk-container-id-2 div.sk-parallel-item::before {content: \"\";position: absolute;border-left: 1px solid gray;box-sizing: border-box;top: 0;bottom: 0;left: 50%;z-index: -1;}#sk-container-id-2 div.sk-parallel-item {display: flex;flex-direction: column;z-index: 1;position: relative;background-color: white;}#sk-container-id-2 div.sk-parallel-item:first-child::after {align-self: flex-end;width: 50%;}#sk-container-id-2 div.sk-parallel-item:last-child::after {align-self: flex-start;width: 50%;}#sk-container-id-2 div.sk-parallel-item:only-child::after {width: 0;}#sk-container-id-2 div.sk-dashed-wrapped {border: 1px dashed gray;margin: 0 0.4em 0.5em 0.4em;box-sizing: border-box;padding-bottom: 0.4em;background-color: white;}#sk-container-id-2 div.sk-label label {font-family: monospace;font-weight: bold;display: inline-block;line-height: 1.2em;}#sk-container-id-2 div.sk-label-container {text-align: center;}#sk-container-id-2 div.sk-container {/* jupyter's `normalize.less` sets `[hidden] { display: none; }` but bootstrap.min.css set `[hidden] { display: none !important; }` so we also need the `!important` here to be able to override the default hidden behavior on the sphinx rendered scikit-learn.org. See: https://github.com/scikit-learn/scikit-learn/issues/21755 */display: inline-block !important;position: relative;}#sk-container-id-2 div.sk-text-repr-fallback {display: none;}</style><div id=\"sk-container-id-2\" class=\"sk-top-container\"><div class=\"sk-text-repr-fallback\"><pre>DecisionTreeRegressor(random_state=0)</pre><b>In a Jupyter environment, please rerun this cell to show the HTML representation or trust the notebook. <br />On GitHub, the HTML representation is unable to render, please try loading this page with nbviewer.org.</b></div><div class=\"sk-container\" hidden><div class=\"sk-item\"><div class=\"sk-estimator sk-toggleable\"><input class=\"sk-toggleable__control sk-hidden--visually\" id=\"sk-estimator-id-2\" type=\"checkbox\" checked><label for=\"sk-estimator-id-2\" class=\"sk-toggleable__label sk-toggleable__label-arrow\">DecisionTreeRegressor</label><div class=\"sk-toggleable__content\"><pre>DecisionTreeRegressor(random_state=0)</pre></div></div></div></div></div>"
      ],
      "text/plain": [
       "DecisionTreeRegressor(random_state=0)"
      ]
     },
     "execution_count": 22,
     "metadata": {},
     "output_type": "execute_result"
    }
   ],
   "source": [
    "# loading the Decision Tree Regressor Model\n",
    "dec_tree_reg = DecisionTreeRegressor(random_state=0)\n",
    "dec_tree_reg.fit(X, y.values)"
   ]
  },
  {
   "cell_type": "code",
   "execution_count": 23,
   "id": "d0188ed7-e5d0-435b-932a-aab1f2510822",
   "metadata": {
    "tags": []
   },
   "outputs": [],
   "source": [
    "y_pred = dec_tree_reg.predict(X)"
   ]
  },
  {
   "cell_type": "code",
   "execution_count": 24,
   "id": "f33681a6-ead1-4f34-a5e6-5b7f7aa3ee39",
   "metadata": {
    "tags": []
   },
   "outputs": [
    {
     "name": "stdout",
     "output_type": "stream",
     "text": [
      "The score is 0.9994963677428144.\n",
      "The r2 is 0.9994963677428144.\n",
      "The mean squared error is 114295.36990951048.\n",
      "The root mean squared error is 338.0759824499671.\n",
      "The standard deviation is 15064.598088203897.\n"
     ]
    }
   ],
   "source": [
    "score = dec_tree_reg.score(X, y, sample_weight=None)\n",
    "r2 = r2_score(y, y_pred)\n",
    "mse = mean_squared_error(y, y_pred)\n",
    "rmse = np.sqrt(mse)\n",
    "std = np.std(y)\n",
    "\n",
    "# Print relevant metrics.\n",
    "print(f\"The score is {score}.\")\n",
    "print(f\"The r2 is {r2}.\")\n",
    "print(f\"The mean squared error is {mse}.\")\n",
    "print(f\"The root mean squared error is {rmse}.\")\n",
    "print(f\"The standard deviation is {std}.\")"
   ]
  },
  {
   "cell_type": "code",
   "execution_count": 25,
   "id": "98ec53eb-cb98-4f6b-984e-76e7528fe60f",
   "metadata": {
    "tags": []
   },
   "outputs": [
    {
     "name": "stdout",
     "output_type": "stream",
     "text": [
      "Brand: 9.06%\n",
      "Year: 47.03%\n",
      "Model: 10.17%\n",
      "UsedOrNew: 0.08%\n",
      "Transmission: 0.63%\n",
      "Kilometres: 12.32%\n",
      "State: 1.51%\n",
      "Litres: 19.20%\n"
     ]
    }
   ],
   "source": [
    "feature_importances = dec_tree_reg.feature_importances_\n",
    "feature_importances_percentage = feature_importances * 100\n",
    "columns_names = ['Brand', 'Year', 'Model', 'UsedOrNew', 'Transmission', 'Kilometres', 'State', 'Litres']\n",
    "for i, importance in enumerate(feature_importances_percentage):\n",
    "    print(f\"{columns_names[i]}: {importance:.2f}%\")"
   ]
  },
  {
   "cell_type": "code",
   "execution_count": 26,
   "id": "b0248910-d699-4349-9d3a-53bff256b0dc",
   "metadata": {
    "tags": []
   },
   "outputs": [
    {
     "data": {
      "image/png": "[encoded data removed]",
      "text/plain": [
       "<Figure size 640x480 with 1 Axes>"
      ]
     },
     "metadata": {},
     "output_type": "display_data"
    }
   ],
   "source": [
    "fig, ax = plt.subplots()\n",
    "bars = ax.bar(range(len(feature_importances_percentage)), feature_importances_percentage, tick_label=columns_names)\n",
    "\n",
    "for bar, importance in zip(bars, feature_importances_percentage):\n",
    "    height = bar.get_height()\n",
    "    ax.text(bar.get_x() + bar.get_width() / 2, height, f'{importance:.2f}%', ha='center', va='bottom')\n",
    "\n",
    "plt.title('Feature Importances')\n",
    "plt.xlabel('Features')\n",
    "plt.xticks(rotation='vertical')\n",
    "plt.ylabel('Importance')\n",
    "plt.tight_layout()\n",
    "plt.show()"
   ]
  },
  {
   "cell_type": "markdown",
   "id": "99214b66-e1b0-4659-9494-4a08aae02422",
   "metadata": {},
   "source": [
    "## 3.Random Forest Regressor Model"
   ]
  },
  {
   "cell_type": "code",
   "execution_count": 27,
   "id": "629029d3-b972-49d6-b447-6e0dfc4e2213",
   "metadata": {
    "tags": []
   },
   "outputs": [
    {
     "data": {
      "text/html": [
       "<style>#sk-container-id-3 {color: black;background-color: white;}#sk-container-id-3 pre{padding: 0;}#sk-container-id-3 div.sk-toggleable {background-color: white;}#sk-container-id-3 label.sk-toggleable__label {cursor: pointer;display: block;width: 100%;margin-bottom: 0;padding: 0.3em;box-sizing: border-box;text-align: center;}#sk-container-id-3 label.sk-toggleable__label-arrow:before {content: \"▸\";float: left;margin-right: 0.25em;color: #696969;}#sk-container-id-3 label.sk-toggleable__label-arrow:hover:before {color: black;}#sk-container-id-3 div.sk-estimator:hover label.sk-toggleable__label-arrow:before {color: black;}#sk-container-id-3 div.sk-toggleable__content {max-height: 0;max-width: 0;overflow: hidden;text-align: left;background-color: #f0f8ff;}#sk-container-id-3 div.sk-toggleable__content pre {margin: 0.2em;color: black;border-radius: 0.25em;background-color: #f0f8ff;}#sk-container-id-3 input.sk-toggleable__control:checked~div.sk-toggleable__content {max-height: 200px;max-width: 100%;overflow: auto;}#sk-container-id-3 input.sk-toggleable__control:checked~label.sk-toggleable__label-arrow:before {content: \"▾\";}#sk-container-id-3 div.sk-estimator input.sk-toggleable__control:checked~label.sk-toggleable__label {background-color: #d4ebff;}#sk-container-id-3 div.sk-label input.sk-toggleable__control:checked~label.sk-toggleable__label {background-color: #d4ebff;}#sk-container-id-3 input.sk-hidden--visually {border: 0;clip: rect(1px 1px 1px 1px);clip: rect(1px, 1px, 1px, 1px);height: 1px;margin: -1px;overflow: hidden;padding: 0;position: absolute;width: 1px;}#sk-container-id-3 div.sk-estimator {font-family: monospace;background-color: #f0f8ff;border: 1px dotted black;border-radius: 0.25em;box-sizing: border-box;margin-bottom: 0.5em;}#sk-container-id-3 div.sk-estimator:hover {background-color: #d4ebff;}#sk-container-id-3 div.sk-parallel-item::after {content: \"\";width: 100%;border-bottom: 1px solid gray;flex-grow: 1;}#sk-container-id-3 div.sk-label:hover label.sk-toggleable__label {background-color: #d4ebff;}#sk-container-id-3 div.sk-serial::before {content: \"\";position: absolute;border-left: 1px solid gray;box-sizing: border-box;top: 0;bottom: 0;left: 50%;z-index: 0;}#sk-container-id-3 div.sk-serial {display: flex;flex-direction: column;align-items: center;background-color: white;padding-right: 0.2em;padding-left: 0.2em;position: relative;}#sk-container-id-3 div.sk-item {position: relative;z-index: 1;}#sk-container-id-3 div.sk-parallel {display: flex;align-items: stretch;justify-content: center;background-color: white;position: relative;}#sk-container-id-3 div.sk-item::before, #sk-container-id-3 div.sk-parallel-item::before {content: \"\";position: absolute;border-left: 1px solid gray;box-sizing: border-box;top: 0;bottom: 0;left: 50%;z-index: -1;}#sk-container-id-3 div.sk-parallel-item {display: flex;flex-direction: column;z-index: 1;position: relative;background-color: white;}#sk-container-id-3 div.sk-parallel-item:first-child::after {align-self: flex-end;width: 50%;}#sk-container-id-3 div.sk-parallel-item:last-child::after {align-self: flex-start;width: 50%;}#sk-container-id-3 div.sk-parallel-item:only-child::after {width: 0;}#sk-container-id-3 div.sk-dashed-wrapped {border: 1px dashed gray;margin: 0 0.4em 0.5em 0.4em;box-sizing: border-box;padding-bottom: 0.4em;background-color: white;}#sk-container-id-3 div.sk-label label {font-family: monospace;font-weight: bold;display: inline-block;line-height: 1.2em;}#sk-container-id-3 div.sk-label-container {text-align: center;}#sk-container-id-3 div.sk-container {/* jupyter's `normalize.less` sets `[hidden] { display: none; }` but bootstrap.min.css set `[hidden] { display: none !important; }` so we also need the `!important` here to be able to override the default hidden behavior on the sphinx rendered scikit-learn.org. See: https://github.com/scikit-learn/scikit-learn/issues/21755 */display: inline-block !important;position: relative;}#sk-container-id-3 div.sk-text-repr-fallback {display: none;}</style><div id=\"sk-container-id-3\" class=\"sk-top-container\"><div class=\"sk-text-repr-fallback\"><pre>RandomForestRegressor(random_state=0)</pre><b>In a Jupyter environment, please rerun this cell to show the HTML representation or trust the notebook. <br />On GitHub, the HTML representation is unable to render, please try loading this page with nbviewer.org.</b></div><div class=\"sk-container\" hidden><div class=\"sk-item\"><div class=\"sk-estimator sk-toggleable\"><input class=\"sk-toggleable__control sk-hidden--visually\" id=\"sk-estimator-id-3\" type=\"checkbox\" checked><label for=\"sk-estimator-id-3\" class=\"sk-toggleable__label sk-toggleable__label-arrow\">RandomForestRegressor</label><div class=\"sk-toggleable__content\"><pre>RandomForestRegressor(random_state=0)</pre></div></div></div></div></div>"
      ],
      "text/plain": [
       "RandomForestRegressor(random_state=0)"
      ]
     },
     "execution_count": 27,
     "metadata": {},
     "output_type": "execute_result"
    }
   ],
   "source": [
    "# loading the Random Forest Regressor Model\n",
    "random_forest_reg = RandomForestRegressor(random_state=0)\n",
    "random_forest_reg.fit(X, y.values)"
   ]
  },
  {
   "cell_type": "code",
   "execution_count": 28,
   "id": "9d18e2d6-2dbd-44fa-b70f-111c48094a6d",
   "metadata": {
    "tags": []
   },
   "outputs": [],
   "source": [
    "y_pred = random_forest_reg.predict(X)"
   ]
  },
  {
   "cell_type": "code",
   "execution_count": 29,
   "id": "37b8bf1a-df12-410d-9b3b-7604c696611e",
   "metadata": {
    "tags": []
   },
   "outputs": [
    {
     "name": "stdout",
     "output_type": "stream",
     "text": [
      "The score is 0.9814225452309787.\n",
      "The r2 is 0.9814225452309787.\n",
      "The mean squared error is 4216006.886985464.\n",
      "The root mean squared error is 2053.2917198940495.\n",
      "The standard deviation is 15064.598088203897.\n"
     ]
    }
   ],
   "source": [
    "score = random_forest_reg.score(X, y, sample_weight=None)\n",
    "r2 = r2_score(y, y_pred)\n",
    "mse = mean_squared_error(y, y_pred)\n",
    "rmse = np.sqrt(mse)\n",
    "std = np.std(y)\n",
    "\n",
    "# Print relevant metrics.\n",
    "print(f\"The score is {score}.\")\n",
    "print(f\"The r2 is {r2}.\")\n",
    "print(f\"The mean squared error is {mse}.\")\n",
    "print(f\"The root mean squared error is {rmse}.\")\n",
    "print(f\"The standard deviation is {std}.\")"
   ]
  },
  {
   "cell_type": "code",
   "execution_count": 30,
   "id": "97dabd4a-1fbe-46b5-8f33-c781bd4a7299",
   "metadata": {
    "tags": []
   },
   "outputs": [
    {
     "name": "stdout",
     "output_type": "stream",
     "text": [
      "Brand: 8.66%\n",
      "Year: 45.07%\n",
      "Model: 10.19%\n",
      "UsedOrNew: 0.07%\n",
      "Transmission: 0.59%\n",
      "Kilometres: 14.07%\n",
      "State: 1.66%\n",
      "Litres: 19.69%\n"
     ]
    }
   ],
   "source": [
    "feature_importances = random_forest_reg.feature_importances_\n",
    "feature_importances_percentage = feature_importances * 100\n",
    "columns_names = ['Brand', 'Year', 'Model', 'UsedOrNew', 'Transmission', 'Kilometres', 'State', 'Litres']\n",
    "for i, importance in enumerate(feature_importances_percentage):\n",
    "    print(f\"{columns_names[i]}: {importance:.2f}%\")"
   ]
  },
  {
   "cell_type": "code",
   "execution_count": 31,
   "id": "afe37a4d-cfd6-4708-8d98-d807834e93fb",
   "metadata": {
    "tags": []
   },
   "outputs": [
    {
     "data": {
      "image/png": "[encoded data removed]",
      "text/plain": [
       "<Figure size 640x480 with 1 Axes>"
      ]
     },
     "metadata": {},
     "output_type": "display_data"
    }
   ],
   "source": [
    "fig, ax = plt.subplots()\n",
    "bars = ax.bar(range(len(feature_importances_percentage)), feature_importances_percentage, tick_label=columns_names)\n",
    "\n",
    "for bar, importance in zip(bars, feature_importances_percentage):\n",
    "    height = bar.get_height()\n",
    "    ax.text(bar.get_x() + bar.get_width() / 2, height, f'{importance:.2f}%', ha='center', va='bottom')\n",
    "\n",
    "plt.title('Feature Importances')\n",
    "plt.xlabel('Features')\n",
    "plt.xticks(rotation='vertical')\n",
    "plt.ylabel('Importance')\n",
    "plt.tight_layout()\n",
    "plt.show()"
   ]
  },
  {
   "cell_type": "markdown",
   "id": "7f4c7f9f-0cc9-47a3-a041-7f9dee2d4ac6",
   "metadata": {},
   "source": [
    "# Testing model with a new inputted value"
   ]
  },
  {
   "cell_type": "code",
   "execution_count": 32,
   "id": "812adc16-90e2-4eac-ac94-e607b1b02718",
   "metadata": {
    "tags": []
   },
   "outputs": [],
   "source": [
    "# Testing model to make a prediction with inputted values\n",
    "X = np.array([[\"Nissan\", 2009, \"Navara\", \"USED\", \"Automatic\", 190000, \"VIC\", 2.5]])"
   ]
  },
  {
   "cell_type": "code",
   "execution_count": 33,
   "id": "ac6df5dd-800e-4af6-accf-c3cca56854ac",
   "metadata": {
    "tags": []
   },
   "outputs": [
    {
     "data": {
      "text/plain": [
       "array([[1.600e+01, 2.009e+03, 3.770e+02, 1.000e+00, 0.000e+00, 1.900e+05,\n",
       "        5.000e+00, 2.500e+00]])"
      ]
     },
     "execution_count": 33,
     "metadata": {},
     "output_type": "execute_result"
    }
   ],
   "source": [
    "X[:, 0] = le_brand.transform(X[:,0])\n",
    "X[:, 1] = X[0,1]\n",
    "X[:, 2] = le_model.transform(X[:,2])\n",
    "X[:, 3] = le_used.transform(X[:,3])\n",
    "X[:, 4] = le_transmission.transform(X[:,4])\n",
    "X[:, 5] = X[0,5]  \n",
    "X[:, 6] = le_state.transform(X[:,6]) \n",
    "X[:, 7] = X[0,7]       \n",
    "X = X.astype(float)\n",
    "X"
   ]
  },
  {
   "cell_type": "code",
   "execution_count": 34,
   "id": "aec7d7a7-fc8c-4557-985e-80f64d9d21fa",
   "metadata": {
    "tags": []
   },
   "outputs": [
    {
     "name": "stdout",
     "output_type": "stream",
     "text": [
      "The price predicted usig Decision Tree Regressor Model is: [16000.]\n",
      "The price predicted usig Random Forest Regressor Model is: [15197.61]\n"
     ]
    }
   ],
   "source": [
    "y_pred = dec_tree_reg.predict(X)\n",
    "y_pred_1 = random_forest_reg.predict(X)\n",
    "\n",
    "print(f\"The price predicted usig Decision Tree Regressor Model is: {y_pred}\")\n",
    "print(f\"The price predicted usig Random Forest Regressor Model is: {y_pred_1}\")"
   ]
  },
  {
   "cell_type": "markdown",
   "id": "bdbc4822-9346-4070-89aa-ef8e1b189a90",
   "metadata": {},
   "source": [
    "# Saving models to use them on the website"
   ]
  },
  {
   "cell_type": "markdown",
   "id": "3dc8673e-100c-44c5-904e-6fbc31c2aed8",
   "metadata": {},
   "source": [
    "## Decision Tree Regressor Model"
   ]
  },
  {
   "cell_type": "code",
   "execution_count": 46,
   "id": "41b26d66-a4e5-492d-8857-f281e1859bd2",
   "metadata": {
    "tags": []
   },
   "outputs": [
    {
     "data": {
      "text/plain": [
       "['Joblib-files/decision_tree_model_steps.joblib']"
      ]
     },
     "execution_count": 46,
     "metadata": {},
     "output_type": "execute_result"
    }
   ],
   "source": [
    "data = {\"model\": dec_tree_reg, \"le_brand\": le_brand, \"le_model\": le_model, \n",
    "        \"le_used\": le_used, \"le_transmission\": le_transmission, \"le_state\": le_state}\n",
    "\n",
    "# Enable compression with compress parameter\n",
    "joblib.dump(data, 'Joblib-files/decision_tree_model_steps.joblib', compress=('zlib', 3))"
   ]
  },
  {
   "cell_type": "code",
   "execution_count": 47,
   "id": "e7e1d1fe-e2f5-4cd8-b393-fa9c1b51c959",
   "metadata": {
    "tags": []
   },
   "outputs": [],
   "source": [
    "# Load the joblib file\n",
    "data = joblib.load('Joblib-files/decision_tree_model_steps.joblib')\n",
    "\n",
    "# Access the components as needed\n",
    "dec_tree_reg = data[\"model\"]\n",
    "le_brand = data[\"le_brand\"]\n",
    "le_model = data[\"le_model\"]\n",
    "le_used = data[\"le_used\"]\n",
    "le_transmission = data[\"le_transmission\"]\n",
    "le_state = data[\"le_state\"]"
   ]
  },
  {
   "cell_type": "code",
   "execution_count": 48,
   "id": "ac9e49fb-2a50-4a41-ab6d-42131e6c22ac",
   "metadata": {
    "tags": []
   },
   "outputs": [
    {
     "data": {
      "text/plain": [
       "array([16000.])"
      ]
     },
     "execution_count": 48,
     "metadata": {},
     "output_type": "execute_result"
    }
   ],
   "source": [
    "y_pred = dec_tree_reg.predict(X)\n",
    "y_pred"
   ]
  },
  {
   "cell_type": "markdown",
   "id": "5ece99ca-56f6-4d3b-8c36-8d7d85aa5fc5",
   "metadata": {},
   "source": [
    "## Random Forest Regressor Model"
   ]
  },
  {
   "cell_type": "code",
   "execution_count": 49,
   "id": "cdaf907a-2a73-40ec-b1fe-cea82d99c6b8",
   "metadata": {
    "tags": []
   },
   "outputs": [
    {
     "data": {
      "text/plain": [
       "['Joblib-files/random_model_steps.joblib']"
      ]
     },
     "execution_count": 49,
     "metadata": {},
     "output_type": "execute_result"
    }
   ],
   "source": [
    "data_1 = {\"model\": random_forest_reg, \"le_brand\": le_brand, \"le_model\": le_model, \n",
    "         \"le_used\": le_used, \"le_transmission\": le_transmission, \"le_state\": le_state}\n",
    "\n",
    "# Enable compression with compress parameter\n",
    "joblib.dump(data_1, 'Joblib-files/random_model_steps.joblib', compress=('zlib', 3))"
   ]
  },
  {
   "cell_type": "code",
   "execution_count": 50,
   "id": "2d5111de-0a0c-4131-8756-7661842ba259",
   "metadata": {
    "tags": []
   },
   "outputs": [],
   "source": [
    "# Load the joblib file\n",
    "loaded_data = joblib.load('Joblib-files/random_model_steps.joblib')\n",
    "\n",
    "# Access the components as needed\n",
    "loaded_model = loaded_data[\"model\"]\n",
    "loaded_le_brand = loaded_data[\"le_brand\"]\n",
    "loaded_le_model = loaded_data[\"le_model\"]\n",
    "loaded_le_used = loaded_data[\"le_used\"]\n",
    "loaded_le_transmission = loaded_data[\"le_transmission\"]\n",
    "loaded_le_state = loaded_data[\"le_state\"]"
   ]
  },
  {
   "cell_type": "code",
   "execution_count": 51,
   "id": "76b1eba9-7e66-4a01-84bb-f27a587a1c8f",
   "metadata": {
    "tags": []
   },
   "outputs": [
    {
     "data": {
      "text/plain": [
       "array([15197.61])"
      ]
     },
     "execution_count": 51,
     "metadata": {},
     "output_type": "execute_result"
    }
   ],
   "source": [
    "y_pred_1 = random_forest_reg.predict(X)\n",
    "y_pred_1"
   ]
  },
  {
   "cell_type": "markdown",
   "id": "881d7f3c-7919-45ed-816e-1f606fb8cc53",
   "metadata": {},
   "source": [
    "### Additional cleaning for the menu \"Model\" on the website"
   ]
  },
  {
   "cell_type": "code",
   "execution_count": 41,
   "id": "2eff1be0-dc0b-41fd-a25a-e4e13cb31d73",
   "metadata": {},
   "outputs": [
    {
     "data": {
      "text/html": [
       "<div>\n",
       "<style scoped>\n",
       "    .dataframe tbody tr th:only-of-type {\n",
       "        vertical-align: middle;\n",
       "    }\n",
       "\n",
       "    .dataframe tbody tr th {\n",
       "        vertical-align: top;\n",
       "    }\n",
       "\n",
       "    .dataframe thead th {\n",
       "        text-align: right;\n",
       "    }\n",
       "</style>\n",
       "<table border=\"1\" class=\"dataframe\">\n",
       "  <thead>\n",
       "    <tr style=\"text-align: right;\">\n",
       "      <th></th>\n",
       "      <th>Brand</th>\n",
       "      <th>Model</th>\n",
       "    </tr>\n",
       "  </thead>\n",
       "  <tbody>\n",
       "    <tr>\n",
       "      <th>13953</th>\n",
       "      <td>Nissan</td>\n",
       "      <td>Navara</td>\n",
       "    </tr>\n",
       "    <tr>\n",
       "      <th>13954</th>\n",
       "      <td>Hyundai</td>\n",
       "      <td>I30</td>\n",
       "    </tr>\n",
       "    <tr>\n",
       "      <th>13955</th>\n",
       "      <td>Nissan</td>\n",
       "      <td>Qashqai</td>\n",
       "    </tr>\n",
       "    <tr>\n",
       "      <th>13956</th>\n",
       "      <td>Mercedes-Benz</td>\n",
       "      <td>GLC250</td>\n",
       "    </tr>\n",
       "    <tr>\n",
       "      <th>13957</th>\n",
       "      <td>Mercedes-Benz</td>\n",
       "      <td>C200</td>\n",
       "    </tr>\n",
       "  </tbody>\n",
       "</table>\n",
       "</div>"
      ],
      "text/plain": [
       "               Brand    Model\n",
       "13953         Nissan   Navara\n",
       "13954        Hyundai      I30\n",
       "13955         Nissan  Qashqai\n",
       "13956  Mercedes-Benz   GLC250\n",
       "13957  Mercedes-Benz     C200"
      ]
     },
     "execution_count": 41,
     "metadata": {},
     "output_type": "execute_result"
    }
   ],
   "source": [
    "# Cleaning dataset to filter models by brand on the website\n",
    "columns_to_drop = ['Price', 'Year', 'UsedOrNew', 'Transmission', 'Kilometres', 'State', 'Litres']\n",
    "brand_model = brand_model.drop(columns=columns_to_drop)\n",
    "brand_model.tail()"
   ]
  },
  {
   "cell_type": "code",
   "execution_count": 42,
   "id": "5fa5be56-eed0-4cbb-81c0-ab332c75f398",
   "metadata": {
    "tags": []
   },
   "outputs": [
    {
     "data": {
      "text/html": [
       "<div>\n",
       "<style scoped>\n",
       "    .dataframe tbody tr th:only-of-type {\n",
       "        vertical-align: middle;\n",
       "    }\n",
       "\n",
       "    .dataframe tbody tr th {\n",
       "        vertical-align: top;\n",
       "    }\n",
       "\n",
       "    .dataframe thead th {\n",
       "        text-align: right;\n",
       "    }\n",
       "</style>\n",
       "<table border=\"1\" class=\"dataframe\">\n",
       "  <thead>\n",
       "    <tr style=\"text-align: right;\">\n",
       "      <th></th>\n",
       "      <th>Brand</th>\n",
       "      <th>Model</th>\n",
       "    </tr>\n",
       "  </thead>\n",
       "  <tbody>\n",
       "    <tr>\n",
       "      <th>0</th>\n",
       "      <td>Audi</td>\n",
       "      <td>A1</td>\n",
       "    </tr>\n",
       "    <tr>\n",
       "      <th>1</th>\n",
       "      <td>Audi</td>\n",
       "      <td>A3</td>\n",
       "    </tr>\n",
       "    <tr>\n",
       "      <th>2</th>\n",
       "      <td>Audi</td>\n",
       "      <td>A4</td>\n",
       "    </tr>\n",
       "    <tr>\n",
       "      <th>3</th>\n",
       "      <td>Audi</td>\n",
       "      <td>A5</td>\n",
       "    </tr>\n",
       "    <tr>\n",
       "      <th>4</th>\n",
       "      <td>Audi</td>\n",
       "      <td>A6</td>\n",
       "    </tr>\n",
       "    <tr>\n",
       "      <th>...</th>\n",
       "      <td>...</td>\n",
       "      <td>...</td>\n",
       "    </tr>\n",
       "    <tr>\n",
       "      <th>545</th>\n",
       "      <td>Volkswagen</td>\n",
       "      <td>T-Cross</td>\n",
       "    </tr>\n",
       "    <tr>\n",
       "      <th>546</th>\n",
       "      <td>Volkswagen</td>\n",
       "      <td>T-ROC</td>\n",
       "    </tr>\n",
       "    <tr>\n",
       "      <th>547</th>\n",
       "      <td>Volkswagen</td>\n",
       "      <td>Tiguan</td>\n",
       "    </tr>\n",
       "    <tr>\n",
       "      <th>548</th>\n",
       "      <td>Volkswagen</td>\n",
       "      <td>Touareg</td>\n",
       "    </tr>\n",
       "    <tr>\n",
       "      <th>549</th>\n",
       "      <td>Volkswagen</td>\n",
       "      <td>Transporter</td>\n",
       "    </tr>\n",
       "  </tbody>\n",
       "</table>\n",
       "<p>550 rows × 2 columns</p>\n",
       "</div>"
      ],
      "text/plain": [
       "          Brand        Model\n",
       "0          Audi           A1\n",
       "1          Audi           A3\n",
       "2          Audi           A4\n",
       "3          Audi           A5\n",
       "4          Audi           A6\n",
       "..          ...          ...\n",
       "545  Volkswagen      T-Cross\n",
       "546  Volkswagen        T-ROC\n",
       "547  Volkswagen       Tiguan\n",
       "548  Volkswagen      Touareg\n",
       "549  Volkswagen  Transporter\n",
       "\n",
       "[550 rows x 2 columns]"
      ]
     },
     "execution_count": 42,
     "metadata": {},
     "output_type": "execute_result"
    }
   ],
   "source": [
    "brand_model = brand_model.drop_duplicates(subset='Model', keep='first').sort_values(by=['Brand', 'Model'])\n",
    "#brand_model = brand_model[brand_model['Brand'] != 'Other']\n",
    "unique_brands = brand_model.reset_index(drop=True)\n",
    "unique_brands"
   ]
  },
  {
   "cell_type": "code",
   "execution_count": 43,
   "id": "690cffab-c296-4bd0-93a8-d76db9588ede",
   "metadata": {
    "tags": []
   },
   "outputs": [],
   "source": [
    "unique_brands.to_csv('Resources/unique_brands.csv', index=False)"
   ]
  },
  {
   "cell_type": "code",
   "execution_count": null,
   "id": "c616886a-719f-4223-abf9-a5ba7ea58ad5",
   "metadata": {},
   "outputs": [],
   "source": []
  }
 ],
 "metadata": {
  "kernelspec": {
   "display_name": "Python 3 (ipykernel)",
   "language": "python",
   "name": "python3"
  },
  "language_info": {
   "codemirror_mode": {
    "name": "ipython",
    "version": 3
   },
   "file_extension": ".py",
   "mimetype": "text/x-python",
   "name": "python",
   "nbconvert_exporter": "python",
   "pygments_lexer": "ipython3",
   "version": "3.11.3"
  }
 },
 "nbformat": 4,
 "nbformat_minor": 5
}
