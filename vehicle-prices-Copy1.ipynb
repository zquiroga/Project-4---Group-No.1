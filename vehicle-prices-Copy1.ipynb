{
 "cells": [
  {
   "cell_type": "code",
   "execution_count": 1,
   "id": "fa9f96d3-30c2-4af4-9672-65a7a1ed05d7",
   "metadata": {
    "tags": []
   },
   "outputs": [],
   "source": [
    "import pandas as pd\n",
    "import numpy as np\n",
    "import pickle\n",
    "\n",
    "#Scikit-Learn\n",
    "from sklearn.model_selection import train_test_split\n",
    "from sklearn.linear_model import LinearRegression\n",
    "from sklearn.preprocessing import LabelEncoder\n",
    "from sklearn.tree import DecisionTreeRegressor\n",
    "from sklearn.ensemble import RandomForestRegressor\n",
    "\n",
    "# Evaluation\n",
    "from sklearn.metrics import r2_score # R2\n",
    "from sklearn.metrics import mean_squared_error # RMSE\n",
    "\n",
    "# Data Visualisation\n",
    "import matplotlib.pyplot as plt \n",
    "import seaborn as sns\n"
   ]
  },
  {
   "cell_type": "code",
   "execution_count": 2,
   "id": "35f6c69d-88ff-4415-85fe-3eb6eadd008e",
   "metadata": {
    "tags": []
   },
   "outputs": [
    {
     "data": {
      "text/html": [
       "<div>\n",
       "<style scoped>\n",
       "    .dataframe tbody tr th:only-of-type {\n",
       "        vertical-align: middle;\n",
       "    }\n",
       "\n",
       "    .dataframe tbody tr th {\n",
       "        vertical-align: top;\n",
       "    }\n",
       "\n",
       "    .dataframe thead th {\n",
       "        text-align: right;\n",
       "    }\n",
       "</style>\n",
       "<table border=\"1\" class=\"dataframe\">\n",
       "  <thead>\n",
       "    <tr style=\"text-align: right;\">\n",
       "      <th></th>\n",
       "      <th>Brand</th>\n",
       "      <th>Year</th>\n",
       "      <th>Model</th>\n",
       "      <th>Car/Suv</th>\n",
       "      <th>Title</th>\n",
       "      <th>UsedOrNew</th>\n",
       "      <th>Transmission</th>\n",
       "      <th>Engine</th>\n",
       "      <th>DriveType</th>\n",
       "      <th>FuelType</th>\n",
       "      <th>FuelConsumption</th>\n",
       "      <th>Kilometres</th>\n",
       "      <th>ColourExtInt</th>\n",
       "      <th>Location</th>\n",
       "      <th>CylindersinEngine</th>\n",
       "      <th>BodyType</th>\n",
       "      <th>Doors</th>\n",
       "      <th>Seats</th>\n",
       "      <th>Price</th>\n",
       "    </tr>\n",
       "  </thead>\n",
       "  <tbody>\n",
       "    <tr>\n",
       "      <th>0</th>\n",
       "      <td>Ssangyong</td>\n",
       "      <td>2022.0</td>\n",
       "      <td>Rexton</td>\n",
       "      <td>Sutherland Isuzu Ute</td>\n",
       "      <td>2022 Ssangyong Rexton Ultimate (awd)</td>\n",
       "      <td>DEMO</td>\n",
       "      <td>Automatic</td>\n",
       "      <td>4 cyl, 2.2 L</td>\n",
       "      <td>AWD</td>\n",
       "      <td>Diesel</td>\n",
       "      <td>8.7 L / 100 km</td>\n",
       "      <td>5595</td>\n",
       "      <td>White / Black</td>\n",
       "      <td>Caringbah, NSW</td>\n",
       "      <td>4 cyl</td>\n",
       "      <td>SUV</td>\n",
       "      <td>4 Doors</td>\n",
       "      <td>7 Seats</td>\n",
       "      <td>51990</td>\n",
       "    </tr>\n",
       "    <tr>\n",
       "      <th>1</th>\n",
       "      <td>MG</td>\n",
       "      <td>2022.0</td>\n",
       "      <td>MG3</td>\n",
       "      <td>Hatchback</td>\n",
       "      <td>2022 MG MG3 Auto Excite (with Navigation)</td>\n",
       "      <td>USED</td>\n",
       "      <td>Automatic</td>\n",
       "      <td>4 cyl, 1.5 L</td>\n",
       "      <td>Front</td>\n",
       "      <td>Premium</td>\n",
       "      <td>6.7 L / 100 km</td>\n",
       "      <td>16</td>\n",
       "      <td>Black / Black</td>\n",
       "      <td>Brookvale, NSW</td>\n",
       "      <td>4 cyl</td>\n",
       "      <td>Hatchback</td>\n",
       "      <td>5 Doors</td>\n",
       "      <td>5 Seats</td>\n",
       "      <td>19990</td>\n",
       "    </tr>\n",
       "    <tr>\n",
       "      <th>2</th>\n",
       "      <td>BMW</td>\n",
       "      <td>2022.0</td>\n",
       "      <td>430I</td>\n",
       "      <td>Coupe</td>\n",
       "      <td>2022 BMW 430I M Sport</td>\n",
       "      <td>USED</td>\n",
       "      <td>Automatic</td>\n",
       "      <td>4 cyl, 2 L</td>\n",
       "      <td>Rear</td>\n",
       "      <td>Premium</td>\n",
       "      <td>6.6 L / 100 km</td>\n",
       "      <td>8472</td>\n",
       "      <td>Grey / White</td>\n",
       "      <td>Sylvania, NSW</td>\n",
       "      <td>4 cyl</td>\n",
       "      <td>Coupe</td>\n",
       "      <td>2 Doors</td>\n",
       "      <td>4 Seats</td>\n",
       "      <td>108988</td>\n",
       "    </tr>\n",
       "    <tr>\n",
       "      <th>3</th>\n",
       "      <td>Mercedes-Benz</td>\n",
       "      <td>2011.0</td>\n",
       "      <td>E500</td>\n",
       "      <td>Coupe</td>\n",
       "      <td>2011 Mercedes-Benz E500 Elegance</td>\n",
       "      <td>USED</td>\n",
       "      <td>Automatic</td>\n",
       "      <td>8 cyl, 5.5 L</td>\n",
       "      <td>Rear</td>\n",
       "      <td>Premium</td>\n",
       "      <td>11 L / 100 km</td>\n",
       "      <td>136517</td>\n",
       "      <td>White / Brown</td>\n",
       "      <td>Mount Druitt, NSW</td>\n",
       "      <td>8 cyl</td>\n",
       "      <td>Coupe</td>\n",
       "      <td>2 Doors</td>\n",
       "      <td>4 Seats</td>\n",
       "      <td>32990</td>\n",
       "    </tr>\n",
       "    <tr>\n",
       "      <th>4</th>\n",
       "      <td>Renault</td>\n",
       "      <td>2022.0</td>\n",
       "      <td>Arkana</td>\n",
       "      <td>SUV</td>\n",
       "      <td>2022 Renault Arkana Intens</td>\n",
       "      <td>USED</td>\n",
       "      <td>Automatic</td>\n",
       "      <td>4 cyl, 1.3 L</td>\n",
       "      <td>Front</td>\n",
       "      <td>Unleaded</td>\n",
       "      <td>6 L / 100 km</td>\n",
       "      <td>1035</td>\n",
       "      <td>Grey / Black</td>\n",
       "      <td>Castle Hill, NSW</td>\n",
       "      <td>4 cyl</td>\n",
       "      <td>SUV</td>\n",
       "      <td>4 Doors</td>\n",
       "      <td>5 Seats</td>\n",
       "      <td>34990</td>\n",
       "    </tr>\n",
       "  </tbody>\n",
       "</table>\n",
       "</div>"
      ],
      "text/plain": [
       "           Brand    Year   Model               Car/Suv  \\\n",
       "0      Ssangyong  2022.0  Rexton  Sutherland Isuzu Ute   \n",
       "1             MG  2022.0     MG3             Hatchback   \n",
       "2            BMW  2022.0    430I                 Coupe   \n",
       "3  Mercedes-Benz  2011.0    E500                 Coupe   \n",
       "4        Renault  2022.0  Arkana                   SUV   \n",
       "\n",
       "                                       Title UsedOrNew Transmission  \\\n",
       "0       2022 Ssangyong Rexton Ultimate (awd)      DEMO    Automatic   \n",
       "1  2022 MG MG3 Auto Excite (with Navigation)      USED    Automatic   \n",
       "2                      2022 BMW 430I M Sport      USED    Automatic   \n",
       "3           2011 Mercedes-Benz E500 Elegance      USED    Automatic   \n",
       "4                 2022 Renault Arkana Intens      USED    Automatic   \n",
       "\n",
       "         Engine DriveType  FuelType FuelConsumption Kilometres   ColourExtInt  \\\n",
       "0  4 cyl, 2.2 L       AWD    Diesel  8.7 L / 100 km       5595  White / Black   \n",
       "1  4 cyl, 1.5 L     Front   Premium  6.7 L / 100 km         16  Black / Black   \n",
       "2    4 cyl, 2 L      Rear   Premium  6.6 L / 100 km       8472   Grey / White   \n",
       "3  8 cyl, 5.5 L      Rear   Premium   11 L / 100 km     136517  White / Brown   \n",
       "4  4 cyl, 1.3 L     Front  Unleaded    6 L / 100 km       1035   Grey / Black   \n",
       "\n",
       "            Location CylindersinEngine   BodyType     Doors     Seats   Price  \n",
       "0     Caringbah, NSW             4 cyl        SUV   4 Doors   7 Seats   51990  \n",
       "1     Brookvale, NSW             4 cyl  Hatchback   5 Doors   5 Seats   19990  \n",
       "2      Sylvania, NSW             4 cyl      Coupe   2 Doors   4 Seats  108988  \n",
       "3  Mount Druitt, NSW             8 cyl      Coupe   2 Doors   4 Seats   32990  \n",
       "4   Castle Hill, NSW             4 cyl        SUV   4 Doors   5 Seats   34990  "
      ]
     },
     "execution_count": 2,
     "metadata": {},
     "output_type": "execute_result"
    }
   ],
   "source": [
    "#  Import and read Australian Vehicle Prices.csv\n",
    "Vehicleprices_df = pd.read_csv(\"Resources/Australian Vehicle Prices.csv\")\n",
    "Vehicleprices_df.head()"
   ]
  },
  {
   "cell_type": "code",
   "execution_count": 3,
   "id": "78692c0e-a6eb-4356-8895-771de02b8119",
   "metadata": {
    "tags": []
   },
   "outputs": [
    {
     "data": {
      "text/html": [
       "<div>\n",
       "<style scoped>\n",
       "    .dataframe tbody tr th:only-of-type {\n",
       "        vertical-align: middle;\n",
       "    }\n",
       "\n",
       "    .dataframe tbody tr th {\n",
       "        vertical-align: top;\n",
       "    }\n",
       "\n",
       "    .dataframe thead th {\n",
       "        text-align: right;\n",
       "    }\n",
       "</style>\n",
       "<table border=\"1\" class=\"dataframe\">\n",
       "  <thead>\n",
       "    <tr style=\"text-align: right;\">\n",
       "      <th></th>\n",
       "      <th>Brand</th>\n",
       "      <th>Year</th>\n",
       "      <th>Model</th>\n",
       "      <th>Car/Suv</th>\n",
       "      <th>Title</th>\n",
       "      <th>UsedOrNew</th>\n",
       "      <th>Transmission</th>\n",
       "      <th>Engine</th>\n",
       "      <th>DriveType</th>\n",
       "      <th>FuelType</th>\n",
       "      <th>FuelConsumption</th>\n",
       "      <th>Kilometres</th>\n",
       "      <th>ColourExtInt</th>\n",
       "      <th>Location</th>\n",
       "      <th>CylindersinEngine</th>\n",
       "      <th>BodyType</th>\n",
       "      <th>Doors</th>\n",
       "      <th>Seats</th>\n",
       "      <th>Price</th>\n",
       "    </tr>\n",
       "  </thead>\n",
       "  <tbody>\n",
       "    <tr>\n",
       "      <th>16729</th>\n",
       "      <td>Toyota</td>\n",
       "      <td>2014.0</td>\n",
       "      <td>Alphard</td>\n",
       "      <td>SYC Cars</td>\n",
       "      <td>2014 Toyota Alphard</td>\n",
       "      <td>USED</td>\n",
       "      <td>Automatic</td>\n",
       "      <td>-</td>\n",
       "      <td>Front</td>\n",
       "      <td>Unleaded</td>\n",
       "      <td>-</td>\n",
       "      <td>66000</td>\n",
       "      <td>Grey / -</td>\n",
       "      <td>Rocklea, QLD</td>\n",
       "      <td>-</td>\n",
       "      <td>Commercial</td>\n",
       "      <td>7 Seats</td>\n",
       "      <td>NaN</td>\n",
       "      <td>29500</td>\n",
       "    </tr>\n",
       "    <tr>\n",
       "      <th>16730</th>\n",
       "      <td>Mercedes-Benz</td>\n",
       "      <td>2012.0</td>\n",
       "      <td>S-Class</td>\n",
       "      <td>USED Dealer ad</td>\n",
       "      <td>2012 Mercedes-Benz S-Class CDI BlueTEC</td>\n",
       "      <td>USED</td>\n",
       "      <td>Automatic</td>\n",
       "      <td>-</td>\n",
       "      <td>Rear</td>\n",
       "      <td>Diesel</td>\n",
       "      <td>-</td>\n",
       "      <td>117432</td>\n",
       "      <td>Silver / -</td>\n",
       "      <td>Port Melbourne, VIC</td>\n",
       "      <td>-</td>\n",
       "      <td>NaN</td>\n",
       "      <td>NaN</td>\n",
       "      <td>NaN</td>\n",
       "      <td>39888</td>\n",
       "    </tr>\n",
       "    <tr>\n",
       "      <th>16731</th>\n",
       "      <td>Suzuki</td>\n",
       "      <td>2022.0</td>\n",
       "      <td>Vitara</td>\n",
       "      <td>Bremer Suzuki - New</td>\n",
       "      <td>2022 Suzuki Vitara 1.6L</td>\n",
       "      <td>DEMO</td>\n",
       "      <td>Automatic</td>\n",
       "      <td>4 cyl, 1.6 L</td>\n",
       "      <td>Front</td>\n",
       "      <td>Unleaded</td>\n",
       "      <td>6.2 L / 100 km</td>\n",
       "      <td>5165</td>\n",
       "      <td>Yellow / -</td>\n",
       "      <td>Dinmore, QLD</td>\n",
       "      <td>4 cyl</td>\n",
       "      <td>SUV</td>\n",
       "      <td>4 Doors</td>\n",
       "      <td>5 Seats</td>\n",
       "      <td>35280</td>\n",
       "    </tr>\n",
       "    <tr>\n",
       "      <th>16732</th>\n",
       "      <td>Mercedes-Benz</td>\n",
       "      <td>2016.0</td>\n",
       "      <td>GLC250</td>\n",
       "      <td>SUV</td>\n",
       "      <td>2016 Mercedes-Benz GLC250</td>\n",
       "      <td>USED</td>\n",
       "      <td>Automatic</td>\n",
       "      <td>4 cyl, 2 L</td>\n",
       "      <td>AWD</td>\n",
       "      <td>Premium</td>\n",
       "      <td>7.2 L / 100 km</td>\n",
       "      <td>85525</td>\n",
       "      <td>Grey / Black</td>\n",
       "      <td>Albion, QLD</td>\n",
       "      <td>4 cyl</td>\n",
       "      <td>SUV</td>\n",
       "      <td>4 Doors</td>\n",
       "      <td>5 Seats</td>\n",
       "      <td>41888</td>\n",
       "    </tr>\n",
       "    <tr>\n",
       "      <th>16733</th>\n",
       "      <td>Mercedes-Benz</td>\n",
       "      <td>2021.0</td>\n",
       "      <td>C200</td>\n",
       "      <td>Sedan</td>\n",
       "      <td>2021 Mercedes-Benz C200</td>\n",
       "      <td>USED</td>\n",
       "      <td>Automatic</td>\n",
       "      <td>4 cyl, 2 L</td>\n",
       "      <td>Rear</td>\n",
       "      <td>Unleaded</td>\n",
       "      <td>7 L / 100 km</td>\n",
       "      <td>31852</td>\n",
       "      <td>Gold / -</td>\n",
       "      <td>Yatala, QLD</td>\n",
       "      <td>4 cyl</td>\n",
       "      <td>Sedan</td>\n",
       "      <td>4 Doors</td>\n",
       "      <td>5 Seats</td>\n",
       "      <td>65888</td>\n",
       "    </tr>\n",
       "  </tbody>\n",
       "</table>\n",
       "</div>"
      ],
      "text/plain": [
       "               Brand    Year    Model              Car/Suv  \\\n",
       "16729         Toyota  2014.0  Alphard             SYC Cars   \n",
       "16730  Mercedes-Benz  2012.0  S-Class       USED Dealer ad   \n",
       "16731         Suzuki  2022.0   Vitara  Bremer Suzuki - New   \n",
       "16732  Mercedes-Benz  2016.0   GLC250                  SUV   \n",
       "16733  Mercedes-Benz  2021.0     C200                Sedan   \n",
       "\n",
       "                                        Title UsedOrNew Transmission  \\\n",
       "16729                     2014 Toyota Alphard      USED    Automatic   \n",
       "16730  2012 Mercedes-Benz S-Class CDI BlueTEC      USED    Automatic   \n",
       "16731                 2022 Suzuki Vitara 1.6L      DEMO    Automatic   \n",
       "16732               2016 Mercedes-Benz GLC250      USED    Automatic   \n",
       "16733                 2021 Mercedes-Benz C200      USED    Automatic   \n",
       "\n",
       "             Engine DriveType  FuelType FuelConsumption Kilometres  \\\n",
       "16729             -     Front  Unleaded               -      66000   \n",
       "16730             -      Rear    Diesel               -     117432   \n",
       "16731  4 cyl, 1.6 L     Front  Unleaded  6.2 L / 100 km       5165   \n",
       "16732    4 cyl, 2 L       AWD   Premium  7.2 L / 100 km      85525   \n",
       "16733    4 cyl, 2 L      Rear  Unleaded    7 L / 100 km      31852   \n",
       "\n",
       "       ColourExtInt             Location CylindersinEngine    BodyType  \\\n",
       "16729      Grey / -         Rocklea, QLD                 -  Commercial   \n",
       "16730    Silver / -  Port Melbourne, VIC                 -         NaN   \n",
       "16731    Yellow / -         Dinmore, QLD             4 cyl         SUV   \n",
       "16732  Grey / Black          Albion, QLD             4 cyl         SUV   \n",
       "16733      Gold / -          Yatala, QLD             4 cyl       Sedan   \n",
       "\n",
       "          Doors     Seats  Price  \n",
       "16729   7 Seats       NaN  29500  \n",
       "16730       NaN       NaN  39888  \n",
       "16731   4 Doors   5 Seats  35280  \n",
       "16732   4 Doors   5 Seats  41888  \n",
       "16733   4 Doors   5 Seats  65888  "
      ]
     },
     "execution_count": 3,
     "metadata": {},
     "output_type": "execute_result"
    }
   ],
   "source": [
    "# Copying original dataset\n",
    "dataset = Vehicleprices_df.copy()\n",
    "dataset.tail()"
   ]
  },
  {
   "cell_type": "code",
   "execution_count": 4,
   "id": "1e660900-e120-4a55-882a-0a6656bac8e4",
   "metadata": {
    "tags": []
   },
   "outputs": [
    {
     "data": {
      "text/html": [
       "<div>\n",
       "<style scoped>\n",
       "    .dataframe tbody tr th:only-of-type {\n",
       "        vertical-align: middle;\n",
       "    }\n",
       "\n",
       "    .dataframe tbody tr th {\n",
       "        vertical-align: top;\n",
       "    }\n",
       "\n",
       "    .dataframe thead th {\n",
       "        text-align: right;\n",
       "    }\n",
       "</style>\n",
       "<table border=\"1\" class=\"dataframe\">\n",
       "  <thead>\n",
       "    <tr style=\"text-align: right;\">\n",
       "      <th></th>\n",
       "      <th>index</th>\n",
       "      <th>Price</th>\n",
       "    </tr>\n",
       "  </thead>\n",
       "  <tbody>\n",
       "    <tr>\n",
       "      <th>3789</th>\n",
       "      <td>40670</td>\n",
       "      <td>1</td>\n",
       "    </tr>\n",
       "    <tr>\n",
       "      <th>3790</th>\n",
       "      <td>315888</td>\n",
       "      <td>1</td>\n",
       "    </tr>\n",
       "    <tr>\n",
       "      <th>3791</th>\n",
       "      <td>25399</td>\n",
       "      <td>1</td>\n",
       "    </tr>\n",
       "    <tr>\n",
       "      <th>3792</th>\n",
       "      <td>69388</td>\n",
       "      <td>1</td>\n",
       "    </tr>\n",
       "    <tr>\n",
       "      <th>3793</th>\n",
       "      <td>35280</td>\n",
       "      <td>1</td>\n",
       "    </tr>\n",
       "  </tbody>\n",
       "</table>\n",
       "</div>"
      ],
      "text/plain": [
       "       index  Price\n",
       "3789   40670      1\n",
       "3790  315888      1\n",
       "3791   25399      1\n",
       "3792   69388      1\n",
       "3793   35280      1"
      ]
     },
     "execution_count": 4,
     "metadata": {},
     "output_type": "execute_result"
    }
   ],
   "source": [
    "Brands = dataset['Price'].value_counts().reset_index()\n",
    "Brands.tail() "
   ]
  },
  {
   "cell_type": "code",
   "execution_count": 5,
   "id": "3d02e1bd-bc18-4d43-ab0d-b2880c1bccf5",
   "metadata": {
    "tags": []
   },
   "outputs": [
    {
     "name": "stdout",
     "output_type": "stream",
     "text": [
      "<class 'pandas.core.frame.DataFrame'>\n",
      "Int64Index: 13941 entries, 0 to 13958\n",
      "Data columns (total 10 columns):\n",
      " #   Column        Non-Null Count  Dtype  \n",
      "---  ------        --------------  -----  \n",
      " 0   Brand         13941 non-null  object \n",
      " 1   Year          13941 non-null  int32  \n",
      " 2   Model         13941 non-null  object \n",
      " 3   UsedOrNew     13941 non-null  object \n",
      " 4   Transmission  13941 non-null  object \n",
      " 5   Kilometres    13941 non-null  int32  \n",
      " 6   BodyType      13941 non-null  object \n",
      " 7   Price         13941 non-null  int32  \n",
      " 8   State         13941 non-null  object \n",
      " 9   Litres        13941 non-null  float64\n",
      "dtypes: float64(1), int32(3), object(6)\n",
      "memory usage: 1.0+ MB\n",
      "None\n"
     ]
    },
    {
     "data": {
      "text/html": [
       "<div>\n",
       "<style scoped>\n",
       "    .dataframe tbody tr th:only-of-type {\n",
       "        vertical-align: middle;\n",
       "    }\n",
       "\n",
       "    .dataframe tbody tr th {\n",
       "        vertical-align: top;\n",
       "    }\n",
       "\n",
       "    .dataframe thead th {\n",
       "        text-align: right;\n",
       "    }\n",
       "</style>\n",
       "<table border=\"1\" class=\"dataframe\">\n",
       "  <thead>\n",
       "    <tr style=\"text-align: right;\">\n",
       "      <th></th>\n",
       "      <th>Brand</th>\n",
       "      <th>Year</th>\n",
       "      <th>Model</th>\n",
       "      <th>UsedOrNew</th>\n",
       "      <th>Transmission</th>\n",
       "      <th>Kilometres</th>\n",
       "      <th>BodyType</th>\n",
       "      <th>Price</th>\n",
       "      <th>State</th>\n",
       "      <th>Litres</th>\n",
       "    </tr>\n",
       "  </thead>\n",
       "  <tbody>\n",
       "    <tr>\n",
       "      <th>13954</th>\n",
       "      <td>Nissan</td>\n",
       "      <td>2009</td>\n",
       "      <td>Navara</td>\n",
       "      <td>USED</td>\n",
       "      <td>Automatic</td>\n",
       "      <td>182254</td>\n",
       "      <td>Ute / Tray</td>\n",
       "      <td>16000</td>\n",
       "      <td>VIC</td>\n",
       "      <td>2.5</td>\n",
       "    </tr>\n",
       "    <tr>\n",
       "      <th>13955</th>\n",
       "      <td>Hyundai</td>\n",
       "      <td>2015</td>\n",
       "      <td>I30</td>\n",
       "      <td>USED</td>\n",
       "      <td>Automatic</td>\n",
       "      <td>54359</td>\n",
       "      <td>Wagon</td>\n",
       "      <td>21450</td>\n",
       "      <td>VIC</td>\n",
       "      <td>1.6</td>\n",
       "    </tr>\n",
       "    <tr>\n",
       "      <th>13956</th>\n",
       "      <td>Nissan</td>\n",
       "      <td>2021</td>\n",
       "      <td>Qashqai</td>\n",
       "      <td>USED</td>\n",
       "      <td>Automatic</td>\n",
       "      <td>32977</td>\n",
       "      <td>SUV</td>\n",
       "      <td>36770</td>\n",
       "      <td>QLD</td>\n",
       "      <td>2.0</td>\n",
       "    </tr>\n",
       "    <tr>\n",
       "      <th>13957</th>\n",
       "      <td>Mercedes-Benz</td>\n",
       "      <td>2016</td>\n",
       "      <td>GLC250</td>\n",
       "      <td>USED</td>\n",
       "      <td>Automatic</td>\n",
       "      <td>85525</td>\n",
       "      <td>SUV</td>\n",
       "      <td>41888</td>\n",
       "      <td>QLD</td>\n",
       "      <td>2.0</td>\n",
       "    </tr>\n",
       "    <tr>\n",
       "      <th>13958</th>\n",
       "      <td>Mercedes-Benz</td>\n",
       "      <td>2021</td>\n",
       "      <td>C200</td>\n",
       "      <td>USED</td>\n",
       "      <td>Automatic</td>\n",
       "      <td>31852</td>\n",
       "      <td>Sedan</td>\n",
       "      <td>65888</td>\n",
       "      <td>QLD</td>\n",
       "      <td>2.0</td>\n",
       "    </tr>\n",
       "  </tbody>\n",
       "</table>\n",
       "</div>"
      ],
      "text/plain": [
       "               Brand  Year    Model UsedOrNew Transmission  Kilometres  \\\n",
       "13954         Nissan  2009   Navara      USED    Automatic      182254   \n",
       "13955        Hyundai  2015      I30      USED    Automatic       54359   \n",
       "13956         Nissan  2021  Qashqai      USED    Automatic       32977   \n",
       "13957  Mercedes-Benz  2016   GLC250      USED    Automatic       85525   \n",
       "13958  Mercedes-Benz  2021     C200      USED    Automatic       31852   \n",
       "\n",
       "         BodyType  Price State  Litres  \n",
       "13954  Ute / Tray  16000   VIC     2.5  \n",
       "13955       Wagon  21450   VIC     1.6  \n",
       "13956         SUV  36770   QLD     2.0  \n",
       "13957         SUV  41888   QLD     2.0  \n",
       "13958       Sedan  65888   QLD     2.0  "
      ]
     },
     "execution_count": 5,
     "metadata": {},
     "output_type": "execute_result"
    }
   ],
   "source": [
    "# CLEANING DATASET\n",
    "\n",
    "# Extrating information needed from columns\n",
    "pattern = r',(.*)'\n",
    "dataset['State'] = dataset['Location'].str.extract(pattern)# Extrating state from location column\n",
    "dataset['Litres'] = dataset['Engine'].str.extract(pattern) # Extrating litres from engine column\n",
    "dataset['Litres'] = dataset['Litres'].str.strip()\n",
    "pattern_1 = r'^(.*?) '\n",
    "dataset['Litres'] = dataset['Litres'].str.extract(pattern_1) # Extrating litres from engine column\n",
    "dataset['State'] = dataset['State'].str.strip()\n",
    "\n",
    "# Drop Columns that are not going to be used\n",
    "columns_to_drop = ['Seats','Doors','ColourExtInt','DriveType','Title','FuelConsumption','FuelType','Location','Engine','CylindersinEngine','Car/Suv']\n",
    "dataset = dataset.drop(columns=columns_to_drop)\n",
    "\n",
    "# Dropping rows with values irrelevant to this application\n",
    "dataset = dataset[dataset['UsedOrNew'] != 'DEMO']\n",
    "dataset = dataset[dataset['Transmission'] != '-']\n",
    "dataset = dataset[(dataset['Kilometres'] != '- / -') & (dataset['Kilometres'] != '-')]\n",
    "dataset = dataset[dataset['Price'] != 'POA']\n",
    "#states_to_keep = ['NSW', 'VIC', 'QLD', 'WA', 'SA', 'ACT', 'TAS', 'NT']\n",
    "#dataset = dataset[dataset['State'].isin(states_to_keep)]\n",
    "\n",
    "# Dropping rows with null values\n",
    "dataset = dataset.dropna()\n",
    "dataset = dataset.reset_index(drop=True)\n",
    "\n",
    "# Changing format of year to integer\n",
    "dataset['Year'] = dataset['Year'].astype(int)\n",
    "dataset['Kilometres'] = dataset['Kilometres'].astype(int)\n",
    "dataset['Price'] = dataset['Price'].astype(int)\n",
    "dataset['Litres'] = dataset['Litres'].astype(float)\n",
    "\n",
    "# Dropping more rows with values irrelevant to this application\n",
    "dataset = dataset[dataset['Price'] > 3000]\n",
    "\n",
    "# Printing results\n",
    "print(dataset.info())\n",
    "dataset.tail()"
   ]
  },
  {
   "cell_type": "code",
   "execution_count": 6,
   "id": "cb084499-5004-4377-9e1e-6166fd3051fc",
   "metadata": {
    "tags": []
   },
   "outputs": [
    {
     "data": {
      "image/png": "[encoded data removed]",
      "text/plain": [
       "<Figure size 2500x2500 with 4 Axes>"
      ]
     },
     "metadata": {},
     "output_type": "display_data"
    }
   ],
   "source": [
    "fig, axs = plt.subplots(4,1, figsize = (25,25))\n",
    "plt_age = sns.boxplot(dataset['Price'], ax = axs[0])\n",
    "plt_rooms = sns.boxplot(dataset['Litres'], ax = axs[1])\n",
    "plt_bedrooms = sns.boxplot(dataset['Kilometres'], ax = axs[2])\n",
    "plt_population = sns.boxplot(dataset['Year'], ax = axs[3])\n",
    "plt.show()"
   ]
  },
  {
   "cell_type": "code",
   "execution_count": 7,
   "id": "a26a8a8f-3604-4ec8-b9c4-a6c75f990423",
   "metadata": {
    "tags": []
   },
   "outputs": [],
   "source": [
    "Q1 = dataset.Price.quantile(0.25)\n",
    "Q3 = dataset.Price.quantile(0.75)\n",
    "IQR = Q3 - Q1\n",
    "dataset = dataset[(dataset.Price >= Q1 - 1.5*IQR) & (dataset.Price <= Q3 + 1.5*IQR)]"
   ]
  },
  {
   "cell_type": "code",
   "execution_count": 8,
   "id": "24c9a30b-3a4b-4fed-ac6a-b3d295878e81",
   "metadata": {
    "tags": []
   },
   "outputs": [
    {
     "name": "stdout",
     "output_type": "stream",
     "text": [
      "<class 'pandas.core.frame.DataFrame'>\n",
      "Int64Index: 13252 entries, 0 to 13958\n",
      "Data columns (total 10 columns):\n",
      " #   Column        Non-Null Count  Dtype  \n",
      "---  ------        --------------  -----  \n",
      " 0   Brand         13252 non-null  object \n",
      " 1   Year          13252 non-null  int32  \n",
      " 2   Model         13252 non-null  object \n",
      " 3   UsedOrNew     13252 non-null  object \n",
      " 4   Transmission  13252 non-null  object \n",
      " 5   Kilometres    13252 non-null  int32  \n",
      " 6   BodyType      13252 non-null  object \n",
      " 7   Price         13252 non-null  int32  \n",
      " 8   State         13252 non-null  object \n",
      " 9   Litres        13252 non-null  float64\n",
      "dtypes: float64(1), int32(3), object(6)\n",
      "memory usage: 983.5+ KB\n",
      "None\n"
     ]
    },
    {
     "data": {
      "text/html": [
       "<div>\n",
       "<style scoped>\n",
       "    .dataframe tbody tr th:only-of-type {\n",
       "        vertical-align: middle;\n",
       "    }\n",
       "\n",
       "    .dataframe tbody tr th {\n",
       "        vertical-align: top;\n",
       "    }\n",
       "\n",
       "    .dataframe thead th {\n",
       "        text-align: right;\n",
       "    }\n",
       "</style>\n",
       "<table border=\"1\" class=\"dataframe\">\n",
       "  <thead>\n",
       "    <tr style=\"text-align: right;\">\n",
       "      <th></th>\n",
       "      <th>Brand</th>\n",
       "      <th>Year</th>\n",
       "      <th>Model</th>\n",
       "      <th>UsedOrNew</th>\n",
       "      <th>Transmission</th>\n",
       "      <th>Kilometres</th>\n",
       "      <th>BodyType</th>\n",
       "      <th>Price</th>\n",
       "      <th>State</th>\n",
       "      <th>Litres</th>\n",
       "    </tr>\n",
       "  </thead>\n",
       "  <tbody>\n",
       "    <tr>\n",
       "      <th>13954</th>\n",
       "      <td>Nissan</td>\n",
       "      <td>2009</td>\n",
       "      <td>Navara</td>\n",
       "      <td>USED</td>\n",
       "      <td>Automatic</td>\n",
       "      <td>182254</td>\n",
       "      <td>Ute / Tray</td>\n",
       "      <td>16000</td>\n",
       "      <td>VIC</td>\n",
       "      <td>2.5</td>\n",
       "    </tr>\n",
       "    <tr>\n",
       "      <th>13955</th>\n",
       "      <td>Hyundai</td>\n",
       "      <td>2015</td>\n",
       "      <td>I30</td>\n",
       "      <td>USED</td>\n",
       "      <td>Automatic</td>\n",
       "      <td>54359</td>\n",
       "      <td>Wagon</td>\n",
       "      <td>21450</td>\n",
       "      <td>VIC</td>\n",
       "      <td>1.6</td>\n",
       "    </tr>\n",
       "    <tr>\n",
       "      <th>13956</th>\n",
       "      <td>Nissan</td>\n",
       "      <td>2021</td>\n",
       "      <td>Qashqai</td>\n",
       "      <td>USED</td>\n",
       "      <td>Automatic</td>\n",
       "      <td>32977</td>\n",
       "      <td>SUV</td>\n",
       "      <td>36770</td>\n",
       "      <td>QLD</td>\n",
       "      <td>2.0</td>\n",
       "    </tr>\n",
       "    <tr>\n",
       "      <th>13957</th>\n",
       "      <td>Mercedes-Benz</td>\n",
       "      <td>2016</td>\n",
       "      <td>GLC250</td>\n",
       "      <td>USED</td>\n",
       "      <td>Automatic</td>\n",
       "      <td>85525</td>\n",
       "      <td>SUV</td>\n",
       "      <td>41888</td>\n",
       "      <td>QLD</td>\n",
       "      <td>2.0</td>\n",
       "    </tr>\n",
       "    <tr>\n",
       "      <th>13958</th>\n",
       "      <td>Mercedes-Benz</td>\n",
       "      <td>2021</td>\n",
       "      <td>C200</td>\n",
       "      <td>USED</td>\n",
       "      <td>Automatic</td>\n",
       "      <td>31852</td>\n",
       "      <td>Sedan</td>\n",
       "      <td>65888</td>\n",
       "      <td>QLD</td>\n",
       "      <td>2.0</td>\n",
       "    </tr>\n",
       "  </tbody>\n",
       "</table>\n",
       "</div>"
      ],
      "text/plain": [
       "               Brand  Year    Model UsedOrNew Transmission  Kilometres  \\\n",
       "13954         Nissan  2009   Navara      USED    Automatic      182254   \n",
       "13955        Hyundai  2015      I30      USED    Automatic       54359   \n",
       "13956         Nissan  2021  Qashqai      USED    Automatic       32977   \n",
       "13957  Mercedes-Benz  2016   GLC250      USED    Automatic       85525   \n",
       "13958  Mercedes-Benz  2021     C200      USED    Automatic       31852   \n",
       "\n",
       "         BodyType  Price State  Litres  \n",
       "13954  Ute / Tray  16000   VIC     2.5  \n",
       "13955       Wagon  21450   VIC     1.6  \n",
       "13956         SUV  36770   QLD     2.0  \n",
       "13957         SUV  41888   QLD     2.0  \n",
       "13958       Sedan  65888   QLD     2.0  "
      ]
     },
     "execution_count": 8,
     "metadata": {},
     "output_type": "execute_result"
    }
   ],
   "source": [
    "print(dataset.info())\n",
    "dataset.tail()"
   ]
  },
  {
   "cell_type": "code",
   "execution_count": 9,
   "id": "c328e13e-6782-47d7-ac67-0424dc9e688c",
   "metadata": {
    "tags": []
   },
   "outputs": [
    {
     "data": {
      "text/plain": [
       "NSW       5076\n",
       "VIC       3136\n",
       "QLD       2259\n",
       "WA        1490\n",
       "SA         708\n",
       "ACT        334\n",
       "TAS        185\n",
       "NT          63\n",
       "AU-VIC       1\n",
       "Name: State, dtype: int64"
      ]
     },
     "execution_count": 9,
     "metadata": {},
     "output_type": "execute_result"
    }
   ],
   "source": [
    "Brands = dataset['State'].value_counts()\n",
    "Brands.head(10) "
   ]
  },
  {
   "cell_type": "code",
   "execution_count": 10,
   "id": "9f050302-7f76-4dee-990b-f36883732a24",
   "metadata": {
    "tags": []
   },
   "outputs": [
    {
     "data": {
      "text/html": [
       "<div>\n",
       "<style scoped>\n",
       "    .dataframe tbody tr th:only-of-type {\n",
       "        vertical-align: middle;\n",
       "    }\n",
       "\n",
       "    .dataframe tbody tr th {\n",
       "        vertical-align: top;\n",
       "    }\n",
       "\n",
       "    .dataframe thead th {\n",
       "        text-align: right;\n",
       "    }\n",
       "</style>\n",
       "<table border=\"1\" class=\"dataframe\">\n",
       "  <thead>\n",
       "    <tr style=\"text-align: right;\">\n",
       "      <th></th>\n",
       "      <th>index</th>\n",
       "      <th>Brand</th>\n",
       "    </tr>\n",
       "  </thead>\n",
       "  <tbody>\n",
       "    <tr>\n",
       "      <th>0</th>\n",
       "      <td>Toyota</td>\n",
       "      <td>2099</td>\n",
       "    </tr>\n",
       "    <tr>\n",
       "      <th>1</th>\n",
       "      <td>Hyundai</td>\n",
       "      <td>1105</td>\n",
       "    </tr>\n",
       "    <tr>\n",
       "      <th>2</th>\n",
       "      <td>Holden</td>\n",
       "      <td>1018</td>\n",
       "    </tr>\n",
       "    <tr>\n",
       "      <th>3</th>\n",
       "      <td>Mazda</td>\n",
       "      <td>988</td>\n",
       "    </tr>\n",
       "    <tr>\n",
       "      <th>4</th>\n",
       "      <td>Ford</td>\n",
       "      <td>945</td>\n",
       "    </tr>\n",
       "    <tr>\n",
       "      <th>5</th>\n",
       "      <td>Mitsubishi</td>\n",
       "      <td>939</td>\n",
       "    </tr>\n",
       "    <tr>\n",
       "      <th>6</th>\n",
       "      <td>Nissan</td>\n",
       "      <td>800</td>\n",
       "    </tr>\n",
       "    <tr>\n",
       "      <th>7</th>\n",
       "      <td>Kia</td>\n",
       "      <td>755</td>\n",
       "    </tr>\n",
       "    <tr>\n",
       "      <th>8</th>\n",
       "      <td>Volkswagen</td>\n",
       "      <td>672</td>\n",
       "    </tr>\n",
       "    <tr>\n",
       "      <th>9</th>\n",
       "      <td>Subaru</td>\n",
       "      <td>516</td>\n",
       "    </tr>\n",
       "  </tbody>\n",
       "</table>\n",
       "</div>"
      ],
      "text/plain": [
       "        index  Brand\n",
       "0      Toyota   2099\n",
       "1     Hyundai   1105\n",
       "2      Holden   1018\n",
       "3       Mazda    988\n",
       "4        Ford    945\n",
       "5  Mitsubishi    939\n",
       "6      Nissan    800\n",
       "7         Kia    755\n",
       "8  Volkswagen    672\n",
       "9      Subaru    516"
      ]
     },
     "execution_count": 10,
     "metadata": {},
     "output_type": "execute_result"
    }
   ],
   "source": [
    "# Look at BRAND value counts for binning\n",
    "Brands = dataset['Brand'].value_counts().reset_index()\n",
    "Brands.head(10) "
   ]
  },
  {
   "cell_type": "code",
   "execution_count": 11,
   "id": "da72c481-cabc-4008-bede-7aa77a6e8ce6",
   "metadata": {
    "tags": []
   },
   "outputs": [
    {
     "data": {
      "text/plain": [
       "Toyota           2099\n",
       "Hyundai          1105\n",
       "Holden           1018\n",
       "Mazda             988\n",
       "Ford              945\n",
       "Mitsubishi        939\n",
       "Nissan            800\n",
       "Kia               755\n",
       "Volkswagen        672\n",
       "Other             628\n",
       "Subaru            516\n",
       "Mercedes-Benz     429\n",
       "BMW               334\n",
       "Audi              329\n",
       "Honda             320\n",
       "Suzuki            235\n",
       "Jeep              234\n",
       "MG                221\n",
       "Isuzu             170\n",
       "Renault           139\n",
       "GWM               128\n",
       "Land              125\n",
       "Lexus             123\n",
       "Name: Brand, dtype: int64"
      ]
     },
     "execution_count": 11,
     "metadata": {},
     "output_type": "execute_result"
    }
   ],
   "source": [
    "# Choose a cutoff value and create a list of Brand types to be replaced\n",
    "Brand_types_to_replace = []\n",
    "\n",
    "Brand_types_to_replace = Brands[Brands['Brand'] <=100]['index']\n",
    "\n",
    "# Replace in dataframe\n",
    "for Brands in Brand_types_to_replace:\n",
    "    dataset['Brand'] = dataset['Brand'].replace(Brands,\"Other\")\n",
    "\n",
    "# Check to make sure binning was successful\n",
    "dataset['Brand'].value_counts()"
   ]
  },
  {
   "cell_type": "code",
   "execution_count": 12,
   "id": "d48eb58a-05e2-47b6-a645-53aa20ad3455",
   "metadata": {
    "tags": []
   },
   "outputs": [
    {
     "data": {
      "text/plain": [
       "(13252, 10)"
      ]
     },
     "execution_count": 12,
     "metadata": {},
     "output_type": "execute_result"
    }
   ],
   "source": [
    "# checking the number of rows and columns\n",
    "dataset.shape"
   ]
  },
  {
   "cell_type": "code",
   "execution_count": 13,
   "id": "f6cb86d5-3a58-41d4-8fea-c38ee30afc7b",
   "metadata": {
    "tags": []
   },
   "outputs": [
    {
     "data": {
      "text/plain": [
       "Brand           0\n",
       "Year            0\n",
       "Model           0\n",
       "UsedOrNew       0\n",
       "Transmission    0\n",
       "Kilometres      0\n",
       "BodyType        0\n",
       "Price           0\n",
       "State           0\n",
       "Litres          0\n",
       "dtype: int64"
      ]
     },
     "execution_count": 13,
     "metadata": {},
     "output_type": "execute_result"
    }
   ],
   "source": [
    "# checking the number of missing values\n",
    "dataset.isnull().sum()"
   ]
  },
  {
   "cell_type": "code",
   "execution_count": 14,
   "id": "e6804520-b60e-4f83-b650-9a948aefbed2",
   "metadata": {
    "tags": []
   },
   "outputs": [
    {
     "data": {
      "text/plain": [
       "array([0, 1])"
      ]
     },
     "execution_count": 14,
     "metadata": {},
     "output_type": "execute_result"
    }
   ],
   "source": [
    "# Encoding string type columns\n",
    "le_brand = LabelEncoder()\n",
    "dataset['Brand'] = le_brand.fit_transform(dataset['Brand'])\n",
    "dataset['Brand'].unique()\n",
    "\n",
    "le_body_type = LabelEncoder()\n",
    "dataset['BodyType'] = le_body_type.fit_transform(dataset['BodyType'])\n",
    "dataset['BodyType'].unique()\n",
    "\n",
    "le_state = LabelEncoder()\n",
    "dataset['State'] = le_state.fit_transform(dataset['State'])\n",
    "dataset['State'].unique()\n",
    "\n",
    "le_model = LabelEncoder()\n",
    "dataset['Model'] = le_model.fit_transform(dataset['Model'])\n",
    "dataset['Model'].unique()\n",
    "\n",
    "le_used = LabelEncoder()\n",
    "dataset['UsedOrNew'] = le_used.fit_transform(dataset['UsedOrNew'])\n",
    "dataset['UsedOrNew'].unique()\n",
    "\n",
    "le_transmission = LabelEncoder()\n",
    "dataset['Transmission'] = le_transmission.fit_transform(dataset['Transmission'])\n",
    "dataset['Transmission'].unique()"
   ]
  },
  {
   "cell_type": "code",
   "execution_count": 15,
   "id": "83a02a63-1420-46d2-bfa5-c3c99af6e512",
   "metadata": {
    "tags": []
   },
   "outputs": [
    {
     "data": {
      "text/html": [
       "<div>\n",
       "<style scoped>\n",
       "    .dataframe tbody tr th:only-of-type {\n",
       "        vertical-align: middle;\n",
       "    }\n",
       "\n",
       "    .dataframe tbody tr th {\n",
       "        vertical-align: top;\n",
       "    }\n",
       "\n",
       "    .dataframe thead th {\n",
       "        text-align: right;\n",
       "    }\n",
       "</style>\n",
       "<table border=\"1\" class=\"dataframe\">\n",
       "  <thead>\n",
       "    <tr style=\"text-align: right;\">\n",
       "      <th></th>\n",
       "      <th>Brand</th>\n",
       "      <th>Year</th>\n",
       "      <th>Model</th>\n",
       "      <th>UsedOrNew</th>\n",
       "      <th>Transmission</th>\n",
       "      <th>Kilometres</th>\n",
       "      <th>BodyType</th>\n",
       "      <th>Price</th>\n",
       "      <th>State</th>\n",
       "      <th>Litres</th>\n",
       "    </tr>\n",
       "  </thead>\n",
       "  <tbody>\n",
       "    <tr>\n",
       "      <th>13954</th>\n",
       "      <td>16</td>\n",
       "      <td>2009</td>\n",
       "      <td>377</td>\n",
       "      <td>1</td>\n",
       "      <td>0</td>\n",
       "      <td>182254</td>\n",
       "      <td>8</td>\n",
       "      <td>16000</td>\n",
       "      <td>7</td>\n",
       "      <td>2.5</td>\n",
       "    </tr>\n",
       "    <tr>\n",
       "      <th>13955</th>\n",
       "      <td>6</td>\n",
       "      <td>2015</td>\n",
       "      <td>291</td>\n",
       "      <td>1</td>\n",
       "      <td>0</td>\n",
       "      <td>54359</td>\n",
       "      <td>9</td>\n",
       "      <td>21450</td>\n",
       "      <td>7</td>\n",
       "      <td>1.6</td>\n",
       "    </tr>\n",
       "    <tr>\n",
       "      <th>13956</th>\n",
       "      <td>16</td>\n",
       "      <td>2021</td>\n",
       "      <td>411</td>\n",
       "      <td>1</td>\n",
       "      <td>0</td>\n",
       "      <td>32977</td>\n",
       "      <td>6</td>\n",
       "      <td>36770</td>\n",
       "      <td>4</td>\n",
       "      <td>2.0</td>\n",
       "    </tr>\n",
       "    <tr>\n",
       "      <th>13957</th>\n",
       "      <td>14</td>\n",
       "      <td>2016</td>\n",
       "      <td>256</td>\n",
       "      <td>1</td>\n",
       "      <td>0</td>\n",
       "      <td>85525</td>\n",
       "      <td>6</td>\n",
       "      <td>41888</td>\n",
       "      <td>4</td>\n",
       "      <td>2.0</td>\n",
       "    </tr>\n",
       "    <tr>\n",
       "      <th>13958</th>\n",
       "      <td>14</td>\n",
       "      <td>2021</td>\n",
       "      <td>117</td>\n",
       "      <td>1</td>\n",
       "      <td>0</td>\n",
       "      <td>31852</td>\n",
       "      <td>7</td>\n",
       "      <td>65888</td>\n",
       "      <td>4</td>\n",
       "      <td>2.0</td>\n",
       "    </tr>\n",
       "  </tbody>\n",
       "</table>\n",
       "</div>"
      ],
      "text/plain": [
       "       Brand  Year  Model  UsedOrNew  Transmission  Kilometres  BodyType  \\\n",
       "13954     16  2009    377          1             0      182254         8   \n",
       "13955      6  2015    291          1             0       54359         9   \n",
       "13956     16  2021    411          1             0       32977         6   \n",
       "13957     14  2016    256          1             0       85525         6   \n",
       "13958     14  2021    117          1             0       31852         7   \n",
       "\n",
       "       Price  State  Litres  \n",
       "13954  16000      7     2.5  \n",
       "13955  21450      7     1.6  \n",
       "13956  36770      4     2.0  \n",
       "13957  41888      4     2.0  \n",
       "13958  65888      4     2.0  "
      ]
     },
     "execution_count": 15,
     "metadata": {},
     "output_type": "execute_result"
    }
   ],
   "source": [
    "dataset.tail()"
   ]
  },
  {
   "cell_type": "code",
   "execution_count": 16,
   "id": "69f4ffe4-7375-4225-870e-8d4aa6637e85",
   "metadata": {
    "tags": []
   },
   "outputs": [],
   "source": [
    "# Splitting the data and Target\n",
    "X = dataset.drop(['Price'],axis=1)\n",
    "y = dataset['Price']"
   ]
  },
  {
   "cell_type": "code",
   "execution_count": 17,
   "id": "4ba84e26-99ac-4459-8fd8-3f733e5c7371",
   "metadata": {
    "tags": []
   },
   "outputs": [],
   "source": [
    "# Splitting Training and Test data\n",
    "X_train, X_test, y_train, y_test = train_test_split(X, y, test_size=0.2, random_state=42)"
   ]
  },
  {
   "cell_type": "markdown",
   "id": "02cf729c-07a4-4922-92fc-411d6dde5f49",
   "metadata": {},
   "source": [
    "# Model Evaluation\n",
    "## 1.Linear Regression Model"
   ]
  },
  {
   "cell_type": "code",
   "execution_count": 18,
   "id": "84ee7ff6-4d8a-4e81-b182-4cb790e303d4",
   "metadata": {
    "tags": []
   },
   "outputs": [
    {
     "data": {
      "text/html": [
       "<style>#sk-container-id-1 {color: black;background-color: white;}#sk-container-id-1 pre{padding: 0;}#sk-container-id-1 div.sk-toggleable {background-color: white;}#sk-container-id-1 label.sk-toggleable__label {cursor: pointer;display: block;width: 100%;margin-bottom: 0;padding: 0.3em;box-sizing: border-box;text-align: center;}#sk-container-id-1 label.sk-toggleable__label-arrow:before {content: \"▸\";float: left;margin-right: 0.25em;color: #696969;}#sk-container-id-1 label.sk-toggleable__label-arrow:hover:before {color: black;}#sk-container-id-1 div.sk-estimator:hover label.sk-toggleable__label-arrow:before {color: black;}#sk-container-id-1 div.sk-toggleable__content {max-height: 0;max-width: 0;overflow: hidden;text-align: left;background-color: #f0f8ff;}#sk-container-id-1 div.sk-toggleable__content pre {margin: 0.2em;color: black;border-radius: 0.25em;background-color: #f0f8ff;}#sk-container-id-1 input.sk-toggleable__control:checked~div.sk-toggleable__content {max-height: 200px;max-width: 100%;overflow: auto;}#sk-container-id-1 input.sk-toggleable__control:checked~label.sk-toggleable__label-arrow:before {content: \"▾\";}#sk-container-id-1 div.sk-estimator input.sk-toggleable__control:checked~label.sk-toggleable__label {background-color: #d4ebff;}#sk-container-id-1 div.sk-label input.sk-toggleable__control:checked~label.sk-toggleable__label {background-color: #d4ebff;}#sk-container-id-1 input.sk-hidden--visually {border: 0;clip: rect(1px 1px 1px 1px);clip: rect(1px, 1px, 1px, 1px);height: 1px;margin: -1px;overflow: hidden;padding: 0;position: absolute;width: 1px;}#sk-container-id-1 div.sk-estimator {font-family: monospace;background-color: #f0f8ff;border: 1px dotted black;border-radius: 0.25em;box-sizing: border-box;margin-bottom: 0.5em;}#sk-container-id-1 div.sk-estimator:hover {background-color: #d4ebff;}#sk-container-id-1 div.sk-parallel-item::after {content: \"\";width: 100%;border-bottom: 1px solid gray;flex-grow: 1;}#sk-container-id-1 div.sk-label:hover label.sk-toggleable__label {background-color: #d4ebff;}#sk-container-id-1 div.sk-serial::before {content: \"\";position: absolute;border-left: 1px solid gray;box-sizing: border-box;top: 0;bottom: 0;left: 50%;z-index: 0;}#sk-container-id-1 div.sk-serial {display: flex;flex-direction: column;align-items: center;background-color: white;padding-right: 0.2em;padding-left: 0.2em;position: relative;}#sk-container-id-1 div.sk-item {position: relative;z-index: 1;}#sk-container-id-1 div.sk-parallel {display: flex;align-items: stretch;justify-content: center;background-color: white;position: relative;}#sk-container-id-1 div.sk-item::before, #sk-container-id-1 div.sk-parallel-item::before {content: \"\";position: absolute;border-left: 1px solid gray;box-sizing: border-box;top: 0;bottom: 0;left: 50%;z-index: -1;}#sk-container-id-1 div.sk-parallel-item {display: flex;flex-direction: column;z-index: 1;position: relative;background-color: white;}#sk-container-id-1 div.sk-parallel-item:first-child::after {align-self: flex-end;width: 50%;}#sk-container-id-1 div.sk-parallel-item:last-child::after {align-self: flex-start;width: 50%;}#sk-container-id-1 div.sk-parallel-item:only-child::after {width: 0;}#sk-container-id-1 div.sk-dashed-wrapped {border: 1px dashed gray;margin: 0 0.4em 0.5em 0.4em;box-sizing: border-box;padding-bottom: 0.4em;background-color: white;}#sk-container-id-1 div.sk-label label {font-family: monospace;font-weight: bold;display: inline-block;line-height: 1.2em;}#sk-container-id-1 div.sk-label-container {text-align: center;}#sk-container-id-1 div.sk-container {/* jupyter's `normalize.less` sets `[hidden] { display: none; }` but bootstrap.min.css set `[hidden] { display: none !important; }` so we also need the `!important` here to be able to override the default hidden behavior on the sphinx rendered scikit-learn.org. See: https://github.com/scikit-learn/scikit-learn/issues/21755 */display: inline-block !important;position: relative;}#sk-container-id-1 div.sk-text-repr-fallback {display: none;}</style><div id=\"sk-container-id-1\" class=\"sk-top-container\"><div class=\"sk-text-repr-fallback\"><pre>LinearRegression()</pre><b>In a Jupyter environment, please rerun this cell to show the HTML representation or trust the notebook. <br />On GitHub, the HTML representation is unable to render, please try loading this page with nbviewer.org.</b></div><div class=\"sk-container\" hidden><div class=\"sk-item\"><div class=\"sk-estimator sk-toggleable\"><input class=\"sk-toggleable__control sk-hidden--visually\" id=\"sk-estimator-id-1\" type=\"checkbox\" checked><label for=\"sk-estimator-id-1\" class=\"sk-toggleable__label sk-toggleable__label-arrow\">LinearRegression</label><div class=\"sk-toggleable__content\"><pre>LinearRegression()</pre></div></div></div></div></div>"
      ],
      "text/plain": [
       "LinearRegression()"
      ]
     },
     "execution_count": 18,
     "metadata": {},
     "output_type": "execute_result"
    }
   ],
   "source": [
    "# loading the linear regression model\n",
    "linear_reg = LinearRegression()\n",
    "linear_reg.fit(X, y)"
   ]
  },
  {
   "cell_type": "code",
   "execution_count": 19,
   "id": "82c1f22a-9de1-4f05-9944-d6e9929c64fb",
   "metadata": {
    "tags": []
   },
   "outputs": [],
   "source": [
    "# prediction on Training data\n",
    "y_pred = linear_reg.predict(X)"
   ]
  },
  {
   "cell_type": "code",
   "execution_count": 20,
   "id": "98906b47-290d-4933-9111-a486eb772648",
   "metadata": {
    "tags": []
   },
   "outputs": [
    {
     "name": "stdout",
     "output_type": "stream",
     "text": [
      "The score is 0.5760127753759201.\n",
      "The r2 is 0.5760127753759201.\n",
      "The mean squared error is 96215092.50143696.\n",
      "The root mean squared error is 9808.929222980303.\n",
      "The standard deviation is 15064.17025559729.\n"
     ]
    }
   ],
   "source": [
    "# Compute metrics for the linear regression model: score, r2, mse, rmse, std\n",
    "score = linear_reg.score(X, y, sample_weight=None)\n",
    "r2 = r2_score(y, y_pred)\n",
    "mse = mean_squared_error(y, y_pred)\n",
    "rmse = np.sqrt(mse)\n",
    "std = np.std(y)\n",
    "\n",
    "# Print relevant metrics.\n",
    "print(f\"The score is {score}.\")\n",
    "print(f\"The r2 is {r2}.\")\n",
    "print(f\"The mean squared error is {mse}.\")\n",
    "print(f\"The root mean squared error is {rmse}.\")\n",
    "print(f\"The standard deviation is {std}.\")"
   ]
  },
  {
   "cell_type": "markdown",
   "id": "556561bc-d0a7-4f0a-9b6b-00e5e94f81ce",
   "metadata": {},
   "source": [
    "## 2.Decision Tree Regressor Model"
   ]
  },
  {
   "cell_type": "code",
   "execution_count": 21,
   "id": "0d57b262-4487-4b4c-b343-fedf416461d6",
   "metadata": {
    "tags": []
   },
   "outputs": [
    {
     "data": {
      "text/html": [
       "<style>#sk-container-id-2 {color: black;background-color: white;}#sk-container-id-2 pre{padding: 0;}#sk-container-id-2 div.sk-toggleable {background-color: white;}#sk-container-id-2 label.sk-toggleable__label {cursor: pointer;display: block;width: 100%;margin-bottom: 0;padding: 0.3em;box-sizing: border-box;text-align: center;}#sk-container-id-2 label.sk-toggleable__label-arrow:before {content: \"▸\";float: left;margin-right: 0.25em;color: #696969;}#sk-container-id-2 label.sk-toggleable__label-arrow:hover:before {color: black;}#sk-container-id-2 div.sk-estimator:hover label.sk-toggleable__label-arrow:before {color: black;}#sk-container-id-2 div.sk-toggleable__content {max-height: 0;max-width: 0;overflow: hidden;text-align: left;background-color: #f0f8ff;}#sk-container-id-2 div.sk-toggleable__content pre {margin: 0.2em;color: black;border-radius: 0.25em;background-color: #f0f8ff;}#sk-container-id-2 input.sk-toggleable__control:checked~div.sk-toggleable__content {max-height: 200px;max-width: 100%;overflow: auto;}#sk-container-id-2 input.sk-toggleable__control:checked~label.sk-toggleable__label-arrow:before {content: \"▾\";}#sk-container-id-2 div.sk-estimator input.sk-toggleable__control:checked~label.sk-toggleable__label {background-color: #d4ebff;}#sk-container-id-2 div.sk-label input.sk-toggleable__control:checked~label.sk-toggleable__label {background-color: #d4ebff;}#sk-container-id-2 input.sk-hidden--visually {border: 0;clip: rect(1px 1px 1px 1px);clip: rect(1px, 1px, 1px, 1px);height: 1px;margin: -1px;overflow: hidden;padding: 0;position: absolute;width: 1px;}#sk-container-id-2 div.sk-estimator {font-family: monospace;background-color: #f0f8ff;border: 1px dotted black;border-radius: 0.25em;box-sizing: border-box;margin-bottom: 0.5em;}#sk-container-id-2 div.sk-estimator:hover {background-color: #d4ebff;}#sk-container-id-2 div.sk-parallel-item::after {content: \"\";width: 100%;border-bottom: 1px solid gray;flex-grow: 1;}#sk-container-id-2 div.sk-label:hover label.sk-toggleable__label {background-color: #d4ebff;}#sk-container-id-2 div.sk-serial::before {content: \"\";position: absolute;border-left: 1px solid gray;box-sizing: border-box;top: 0;bottom: 0;left: 50%;z-index: 0;}#sk-container-id-2 div.sk-serial {display: flex;flex-direction: column;align-items: center;background-color: white;padding-right: 0.2em;padding-left: 0.2em;position: relative;}#sk-container-id-2 div.sk-item {position: relative;z-index: 1;}#sk-container-id-2 div.sk-parallel {display: flex;align-items: stretch;justify-content: center;background-color: white;position: relative;}#sk-container-id-2 div.sk-item::before, #sk-container-id-2 div.sk-parallel-item::before {content: \"\";position: absolute;border-left: 1px solid gray;box-sizing: border-box;top: 0;bottom: 0;left: 50%;z-index: -1;}#sk-container-id-2 div.sk-parallel-item {display: flex;flex-direction: column;z-index: 1;position: relative;background-color: white;}#sk-container-id-2 div.sk-parallel-item:first-child::after {align-self: flex-end;width: 50%;}#sk-container-id-2 div.sk-parallel-item:last-child::after {align-self: flex-start;width: 50%;}#sk-container-id-2 div.sk-parallel-item:only-child::after {width: 0;}#sk-container-id-2 div.sk-dashed-wrapped {border: 1px dashed gray;margin: 0 0.4em 0.5em 0.4em;box-sizing: border-box;padding-bottom: 0.4em;background-color: white;}#sk-container-id-2 div.sk-label label {font-family: monospace;font-weight: bold;display: inline-block;line-height: 1.2em;}#sk-container-id-2 div.sk-label-container {text-align: center;}#sk-container-id-2 div.sk-container {/* jupyter's `normalize.less` sets `[hidden] { display: none; }` but bootstrap.min.css set `[hidden] { display: none !important; }` so we also need the `!important` here to be able to override the default hidden behavior on the sphinx rendered scikit-learn.org. See: https://github.com/scikit-learn/scikit-learn/issues/21755 */display: inline-block !important;position: relative;}#sk-container-id-2 div.sk-text-repr-fallback {display: none;}</style><div id=\"sk-container-id-2\" class=\"sk-top-container\"><div class=\"sk-text-repr-fallback\"><pre>DecisionTreeRegressor(random_state=0)</pre><b>In a Jupyter environment, please rerun this cell to show the HTML representation or trust the notebook. <br />On GitHub, the HTML representation is unable to render, please try loading this page with nbviewer.org.</b></div><div class=\"sk-container\" hidden><div class=\"sk-item\"><div class=\"sk-estimator sk-toggleable\"><input class=\"sk-toggleable__control sk-hidden--visually\" id=\"sk-estimator-id-2\" type=\"checkbox\" checked><label for=\"sk-estimator-id-2\" class=\"sk-toggleable__label sk-toggleable__label-arrow\">DecisionTreeRegressor</label><div class=\"sk-toggleable__content\"><pre>DecisionTreeRegressor(random_state=0)</pre></div></div></div></div></div>"
      ],
      "text/plain": [
       "DecisionTreeRegressor(random_state=0)"
      ]
     },
     "execution_count": 21,
     "metadata": {},
     "output_type": "execute_result"
    }
   ],
   "source": [
    "# loading the Decision Tree Regressor Model\n",
    "dec_tree_reg = DecisionTreeRegressor(random_state=0)\n",
    "dec_tree_reg.fit(X, y.values)"
   ]
  },
  {
   "cell_type": "code",
   "execution_count": 22,
   "id": "d0188ed7-e5d0-435b-932a-aab1f2510822",
   "metadata": {
    "tags": []
   },
   "outputs": [],
   "source": [
    "y_pred = dec_tree_reg.predict(X)"
   ]
  },
  {
   "cell_type": "code",
   "execution_count": 23,
   "id": "f33681a6-ead1-4f34-a5e6-5b7f7aa3ee39",
   "metadata": {
    "tags": []
   },
   "outputs": [
    {
     "name": "stdout",
     "output_type": "stream",
     "text": [
      "The score is 0.9994963771418198.\n",
      "The r2 is 0.9994963771418198.\n",
      "The mean squared error is 114286.74514570808.\n",
      "The root mean squared error is 338.0632265504606.\n",
      "The standard deviation is 15064.17025559729.\n"
     ]
    }
   ],
   "source": [
    "score = dec_tree_reg.score(X, y, sample_weight=None)\n",
    "r2 = r2_score(y, y_pred)\n",
    "mse = mean_squared_error(y, y_pred)\n",
    "rmse = np.sqrt(mse)\n",
    "std = np.std(y)\n",
    "\n",
    "# Print relevant metrics.\n",
    "print(f\"The score is {score}.\")\n",
    "print(f\"The r2 is {r2}.\")\n",
    "print(f\"The mean squared error is {mse}.\")\n",
    "print(f\"The root mean squared error is {rmse}.\")\n",
    "print(f\"The standard deviation is {std}.\")"
   ]
  },
  {
   "cell_type": "markdown",
   "id": "99214b66-e1b0-4659-9494-4a08aae02422",
   "metadata": {},
   "source": [
    "## 3.Random Forest Regressor Model"
   ]
  },
  {
   "cell_type": "code",
   "execution_count": 24,
   "id": "629029d3-b972-49d6-b447-6e0dfc4e2213",
   "metadata": {
    "tags": []
   },
   "outputs": [
    {
     "data": {
      "text/html": [
       "<style>#sk-container-id-3 {color: black;background-color: white;}#sk-container-id-3 pre{padding: 0;}#sk-container-id-3 div.sk-toggleable {background-color: white;}#sk-container-id-3 label.sk-toggleable__label {cursor: pointer;display: block;width: 100%;margin-bottom: 0;padding: 0.3em;box-sizing: border-box;text-align: center;}#sk-container-id-3 label.sk-toggleable__label-arrow:before {content: \"▸\";float: left;margin-right: 0.25em;color: #696969;}#sk-container-id-3 label.sk-toggleable__label-arrow:hover:before {color: black;}#sk-container-id-3 div.sk-estimator:hover label.sk-toggleable__label-arrow:before {color: black;}#sk-container-id-3 div.sk-toggleable__content {max-height: 0;max-width: 0;overflow: hidden;text-align: left;background-color: #f0f8ff;}#sk-container-id-3 div.sk-toggleable__content pre {margin: 0.2em;color: black;border-radius: 0.25em;background-color: #f0f8ff;}#sk-container-id-3 input.sk-toggleable__control:checked~div.sk-toggleable__content {max-height: 200px;max-width: 100%;overflow: auto;}#sk-container-id-3 input.sk-toggleable__control:checked~label.sk-toggleable__label-arrow:before {content: \"▾\";}#sk-container-id-3 div.sk-estimator input.sk-toggleable__control:checked~label.sk-toggleable__label {background-color: #d4ebff;}#sk-container-id-3 div.sk-label input.sk-toggleable__control:checked~label.sk-toggleable__label {background-color: #d4ebff;}#sk-container-id-3 input.sk-hidden--visually {border: 0;clip: rect(1px 1px 1px 1px);clip: rect(1px, 1px, 1px, 1px);height: 1px;margin: -1px;overflow: hidden;padding: 0;position: absolute;width: 1px;}#sk-container-id-3 div.sk-estimator {font-family: monospace;background-color: #f0f8ff;border: 1px dotted black;border-radius: 0.25em;box-sizing: border-box;margin-bottom: 0.5em;}#sk-container-id-3 div.sk-estimator:hover {background-color: #d4ebff;}#sk-container-id-3 div.sk-parallel-item::after {content: \"\";width: 100%;border-bottom: 1px solid gray;flex-grow: 1;}#sk-container-id-3 div.sk-label:hover label.sk-toggleable__label {background-color: #d4ebff;}#sk-container-id-3 div.sk-serial::before {content: \"\";position: absolute;border-left: 1px solid gray;box-sizing: border-box;top: 0;bottom: 0;left: 50%;z-index: 0;}#sk-container-id-3 div.sk-serial {display: flex;flex-direction: column;align-items: center;background-color: white;padding-right: 0.2em;padding-left: 0.2em;position: relative;}#sk-container-id-3 div.sk-item {position: relative;z-index: 1;}#sk-container-id-3 div.sk-parallel {display: flex;align-items: stretch;justify-content: center;background-color: white;position: relative;}#sk-container-id-3 div.sk-item::before, #sk-container-id-3 div.sk-parallel-item::before {content: \"\";position: absolute;border-left: 1px solid gray;box-sizing: border-box;top: 0;bottom: 0;left: 50%;z-index: -1;}#sk-container-id-3 div.sk-parallel-item {display: flex;flex-direction: column;z-index: 1;position: relative;background-color: white;}#sk-container-id-3 div.sk-parallel-item:first-child::after {align-self: flex-end;width: 50%;}#sk-container-id-3 div.sk-parallel-item:last-child::after {align-self: flex-start;width: 50%;}#sk-container-id-3 div.sk-parallel-item:only-child::after {width: 0;}#sk-container-id-3 div.sk-dashed-wrapped {border: 1px dashed gray;margin: 0 0.4em 0.5em 0.4em;box-sizing: border-box;padding-bottom: 0.4em;background-color: white;}#sk-container-id-3 div.sk-label label {font-family: monospace;font-weight: bold;display: inline-block;line-height: 1.2em;}#sk-container-id-3 div.sk-label-container {text-align: center;}#sk-container-id-3 div.sk-container {/* jupyter's `normalize.less` sets `[hidden] { display: none; }` but bootstrap.min.css set `[hidden] { display: none !important; }` so we also need the `!important` here to be able to override the default hidden behavior on the sphinx rendered scikit-learn.org. See: https://github.com/scikit-learn/scikit-learn/issues/21755 */display: inline-block !important;position: relative;}#sk-container-id-3 div.sk-text-repr-fallback {display: none;}</style><div id=\"sk-container-id-3\" class=\"sk-top-container\"><div class=\"sk-text-repr-fallback\"><pre>RandomForestRegressor(random_state=0)</pre><b>In a Jupyter environment, please rerun this cell to show the HTML representation or trust the notebook. <br />On GitHub, the HTML representation is unable to render, please try loading this page with nbviewer.org.</b></div><div class=\"sk-container\" hidden><div class=\"sk-item\"><div class=\"sk-estimator sk-toggleable\"><input class=\"sk-toggleable__control sk-hidden--visually\" id=\"sk-estimator-id-3\" type=\"checkbox\" checked><label for=\"sk-estimator-id-3\" class=\"sk-toggleable__label sk-toggleable__label-arrow\">RandomForestRegressor</label><div class=\"sk-toggleable__content\"><pre>RandomForestRegressor(random_state=0)</pre></div></div></div></div></div>"
      ],
      "text/plain": [
       "RandomForestRegressor(random_state=0)"
      ]
     },
     "execution_count": 24,
     "metadata": {},
     "output_type": "execute_result"
    }
   ],
   "source": [
    "# loading the Random Forest Regressor Model\n",
    "random_forest_reg = RandomForestRegressor(random_state=0)\n",
    "random_forest_reg.fit(X, y.values)"
   ]
  },
  {
   "cell_type": "code",
   "execution_count": 25,
   "id": "9d18e2d6-2dbd-44fa-b70f-111c48094a6d",
   "metadata": {
    "tags": []
   },
   "outputs": [],
   "source": [
    "y_pred = random_forest_reg.predict(X)"
   ]
  },
  {
   "cell_type": "code",
   "execution_count": 26,
   "id": "37b8bf1a-df12-410d-9b3b-7604c696611e",
   "metadata": {
    "tags": []
   },
   "outputs": [
    {
     "name": "stdout",
     "output_type": "stream",
     "text": [
      "The score is 0.9818021196486597.\n",
      "The r2 is 0.9818021196486597.\n",
      "The mean squared error is 4129630.8936824733.\n",
      "The root mean squared error is 2032.1493285884465.\n",
      "The standard deviation is 15064.17025559729.\n"
     ]
    }
   ],
   "source": [
    "score = random_forest_reg.score(X, y, sample_weight=None)\n",
    "r2 = r2_score(y, y_pred)\n",
    "mse = mean_squared_error(y, y_pred)\n",
    "rmse = np.sqrt(mse)\n",
    "std = np.std(y)\n",
    "\n",
    "# Print relevant metrics.\n",
    "print(f\"The score is {score}.\")\n",
    "print(f\"The r2 is {r2}.\")\n",
    "print(f\"The mean squared error is {mse}.\")\n",
    "print(f\"The root mean squared error is {rmse}.\")\n",
    "print(f\"The standard deviation is {std}.\")"
   ]
  },
  {
   "cell_type": "code",
   "execution_count": 27,
   "id": "812adc16-90e2-4eac-ac94-e607b1b02718",
   "metadata": {
    "tags": []
   },
   "outputs": [],
   "source": [
    "# Testing model to make a prediction with inputted values\n",
    "X = np.array([[\"Nissan\", 2009, \"Navara\", \"USED\", \"Automatic\", 190000, \"Ute / Tray\", \"VIC\", 2.5]])"
   ]
  },
  {
   "cell_type": "code",
   "execution_count": 28,
   "id": "ac6df5dd-800e-4af6-accf-c3cca56854ac",
   "metadata": {
    "tags": []
   },
   "outputs": [
    {
     "data": {
      "text/plain": [
       "array([[1.600e+01, 2.009e+03, 3.770e+02, 1.000e+00, 0.000e+00, 1.900e+05,\n",
       "        8.000e+00, 7.000e+00, 2.500e+00]])"
      ]
     },
     "execution_count": 28,
     "metadata": {},
     "output_type": "execute_result"
    }
   ],
   "source": [
    "X[:, 0] = le_brand.transform(X[:,0])\n",
    "X[:, 1] = X[0,1]\n",
    "X[:, 2] = le_model.transform(X[:,2])\n",
    "X[:, 3] = le_used.transform(X[:,3])\n",
    "X[:, 4] = le_transmission.transform(X[:,4])\n",
    "X[:, 5] = X[0,5]  \n",
    "X[:, 6] = le_body_type.transform(X[:,6]) \n",
    "X[:, 7] = le_state.transform(X[:,7]) \n",
    "X[:, 8] = X[0,8]       \n",
    "X = X.astype(float)\n",
    "X"
   ]
  },
  {
   "cell_type": "code",
   "execution_count": 33,
   "id": "aec7d7a7-fc8c-4557-985e-80f64d9d21fa",
   "metadata": {
    "tags": []
   },
   "outputs": [
    {
     "name": "stderr",
     "output_type": "stream",
     "text": [
      "C:\\Users\\oscar\\anaconda3\\Lib\\site-packages\\sklearn\\base.py:439: UserWarning: X does not have valid feature names, but DecisionTreeRegressor was fitted with feature names\n",
      "  warnings.warn(\n"
     ]
    },
    {
     "data": {
      "text/plain": [
       "array([17990.])"
      ]
     },
     "execution_count": 33,
     "metadata": {},
     "output_type": "execute_result"
    }
   ],
   "source": [
    "y_pred = dec_tree_reg.predict(X)\n",
    "y_pred"
   ]
  },
  {
   "cell_type": "code",
   "execution_count": 34,
   "id": "41b26d66-a4e5-492d-8857-f281e1859bd2",
   "metadata": {
    "tags": []
   },
   "outputs": [],
   "source": [
    "data = {\"model\": dec_tree_reg, \"le_brand\": le_brand, \n",
    "        \"le_model\": le_model, \"le_used\": le_used, \"le_transmission\": le_transmission,\n",
    "        \"le_body_type\": le_body_type, \"le_state\": le_state}\n",
    "with open('saved_steps.pkl', 'wb') as file:\n",
    "    pickle.dump(data, file)"
   ]
  },
  {
   "cell_type": "code",
   "execution_count": 35,
   "id": "99bd63a0-dd0e-4f03-b1de-59f6c9b681b8",
   "metadata": {
    "tags": []
   },
   "outputs": [],
   "source": [
    "with open('saved_steps.pkl', 'rb') as file:\n",
    "    data = pickle.load(file)\n",
    "\n",
    "prediction_model = data[\"model\"]\n",
    "le_brand = data[\"le_brand\"]\n",
    "le_model = data[\"le_model\"]\n",
    "le_used = data[\"le_used\"]\n",
    "le_transmission = data[\"le_transmission\"]\n",
    "le_body_type = data[\"le_body_type\"]\n",
    "le_state = data[\"le_state\"]"
   ]
  },
  {
   "cell_type": "code",
   "execution_count": 36,
   "id": "ac9e49fb-2a50-4a41-ab6d-42131e6c22ac",
   "metadata": {
    "tags": []
   },
   "outputs": [
    {
     "name": "stderr",
     "output_type": "stream",
     "text": [
      "C:\\Users\\oscar\\anaconda3\\Lib\\site-packages\\sklearn\\base.py:439: UserWarning: X does not have valid feature names, but DecisionTreeRegressor was fitted with feature names\n",
      "  warnings.warn(\n"
     ]
    },
    {
     "data": {
      "text/plain": [
       "array([17990.])"
      ]
     },
     "execution_count": 36,
     "metadata": {},
     "output_type": "execute_result"
    }
   ],
   "source": [
    "y_pred = dec_tree_reg.predict(X)\n",
    "y_pred"
   ]
  },
  {
   "cell_type": "code",
   "execution_count": null,
   "id": "2eff1be0-dc0b-41fd-a25a-e4e13cb31d73",
   "metadata": {},
   "outputs": [],
   "source": []
  }
 ],
 "metadata": {
  "kernelspec": {
   "display_name": "Python 3 (ipykernel)",
   "language": "python",
   "name": "python3"
  },
  "language_info": {
   "codemirror_mode": {
    "name": "ipython",
    "version": 3
   },
   "file_extension": ".py",
   "mimetype": "text/x-python",
   "name": "python",
   "nbconvert_exporter": "python",
   "pygments_lexer": "ipython3",
   "version": "3.11.3"
  }
 },
 "nbformat": 4,
 "nbformat_minor": 5
}
